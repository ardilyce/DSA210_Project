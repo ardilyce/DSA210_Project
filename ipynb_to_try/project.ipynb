{
 "cells": [
  {
   "cell_type": "code",
   "execution_count": 79,
   "metadata": {},
   "outputs": [],
   "source": [
    "import os\n",
    "import requests\n",
    "import json\n",
    "import pandas as pd\n",
    "import matplotlib.pyplot as plt\n",
    "import re\n",
    "from datetime import datetime\n",
    "from matplotlib.ticker import MultipleLocator, AutoMinorLocator\n",
    "import plotly.graph_objects as go\n",
    "headers = {\n",
    "    'User-Agent': 'ChessDataFetcher/1.0 (ardilyuce@gmail.com)'\n",
    "}\n",
    "\n",
    "username = \"ardil30\"  # Chess.com username\n",
    "raw_file_path = f\"./data/raw/{username}_raw_games.json\"\n",
    "processed_json_path = f\"./data/processed/{username}_games.json\"\n",
    "processed_csv_path = f\"./data/processed/{username}_games.csv\"\n",
    "openings_file_path = \"./data/processed/chess_openings.txt\""
   ]
  },
  {
   "cell_type": "code",
   "execution_count": 18,
   "metadata": {},
   "outputs": [
    {
     "name": "stdout",
     "output_type": "stream",
     "text": [
      "Archives fetched: 27 archives found.\n",
      "Saving data to ./data/raw/ardil30_raw_games.json...\n",
      "Data saved successfully to ./data/raw/ardil30_raw_games.json. File size: 7609450 bytes\n"
     ]
    }
   ],
   "source": [
    "def fetch_game_archives(username):\n",
    "    \"\"\"\n",
    "    Fetch the game archives URLs for the player.\n",
    "    \"\"\"\n",
    "    url = f'https://api.chess.com/pub/player/{username}/games/archives'\n",
    "    response = requests.get(url, headers=headers)\n",
    "    if response.status_code != 200:\n",
    "        print(f\"Error fetching archives: HTTP {response.status_code}, {response.text}\")\n",
    "        return []\n",
    "    archives = response.json().get('archives', [])\n",
    "    print(f\"Archives fetched: {len(archives)} archives found.\")\n",
    "    return archives\n",
    "\n",
    "def fetch_games_from_archive(archive_url):\n",
    "    \"\"\"\n",
    "    Fetch all games from a given archive URL.\n",
    "    \"\"\"\n",
    "    response = requests.get(archive_url, headers=headers)\n",
    "    if response.status_code != 200:\n",
    "        print(f\"Error fetching games from {archive_url}: HTTP {response.status_code}, {response.text}\")\n",
    "        return []\n",
    "    games = response.json().get('games', [])\n",
    "    return games\n",
    "\n",
    "def fetch_all_games(username):\n",
    "    \"\"\"\n",
    "    Fetch all games by iterating through their game archives.\n",
    "    \"\"\"\n",
    "    all_games = []\n",
    "    archives = fetch_game_archives(username)\n",
    "    if not archives:\n",
    "        print(\"No archives fetched. Ensure the username is correct or the Chess.com API is accessible.\")\n",
    "        return all_games\n",
    "\n",
    "    for archive_url in archives:\n",
    "        games = fetch_games_from_archive(archive_url)\n",
    "        all_games.extend(games)\n",
    "\n",
    "    return all_games\n",
    "\n",
    "def save_to_json(data, filename):\n",
    "    \"\"\"\n",
    "    Save data to a beautified JSON file.\n",
    "    \"\"\"\n",
    "    print(f\"Saving data to {filename}...\")\n",
    "    if not data:\n",
    "        print(\"No data to save. The file will not be updated.\")\n",
    "        return\n",
    "\n",
    "    with open(filename, \"w\") as file:\n",
    "        json.dump(data, file, indent=4)\n",
    "    print(f\"Data saved successfully to {filename}. File size: {os.path.getsize(filename)} bytes\")\n",
    "\n",
    "# Main code\n",
    "\n",
    "# Ensure the raw data directory exists\n",
    "os.makedirs(os.path.dirname(raw_file_path), exist_ok=True)\n",
    "\n",
    "# Fetch new games\n",
    "all_games = fetch_all_games(username)\n",
    "\n",
    "# Save fetched data\n",
    "save_to_json(all_games, raw_file_path)"
   ]
  },
  {
   "cell_type": "code",
   "execution_count": 19,
   "metadata": {},
   "outputs": [
    {
     "name": "stdout",
     "output_type": "stream",
     "text": [
      "Data saved to ./data/processed/ardil30_games.json (JSON format)\n",
      "Data saved to ./data/processed/ardil30_games.csv (CSV format)\n"
     ]
    }
   ],
   "source": [
    "def load_openings(file_path):\n",
    "    \"\"\"\n",
    "    Load a list of main openings from a text file.\n",
    "    \"\"\"\n",
    "    # Ensure the file exists\n",
    "    if not os.path.exists(file_path):\n",
    "        with open(file_path, \"w\") as file:\n",
    "            pass  # Create an empty file\n",
    "\n",
    "    with open(file_path, \"r\") as file:\n",
    "        return [line.strip().lower() for line in file if line.strip()]\n",
    "\n",
    "def add_opening_to_file(file_path, opening):\n",
    "    \"\"\"\n",
    "    Add a new opening to the openings file if it doesn't already exist.\n",
    "    \"\"\"\n",
    "    openings = load_openings(file_path)\n",
    "    opening_lower = opening.lower()\n",
    "    if opening_lower not in openings:\n",
    "        with open(file_path, \"a\") as file:\n",
    "            file.write(opening + \"\\n\")\n",
    "        print(f\"New opening added to {file_path}: {opening}\")\n",
    "\n",
    "def split_pgn(pgn):\n",
    "    \"\"\"\n",
    "    Split PGN into metadata (headers) and move list.\n",
    "    Format the metadata as a dictionary for better readability.\n",
    "    \"\"\"\n",
    "    if not pgn:\n",
    "        return {\"Information\": {}, \"Moves\": \"No Moves available\"}\n",
    "\n",
    "    try:\n",
    "        parts = pgn.split(\"\\n\\n\")  # Split PGN into headers and moves\n",
    "        metadata_lines = parts[0].strip().split(\"\\n\")  # Split headers by lines\n",
    "        moves = parts[1].strip() if len(parts) > 1 else \"No Moves available\"  # Moves section\n",
    "\n",
    "        # Convert metadata lines to a dictionary\n",
    "        metadata = {}\n",
    "        for line in metadata_lines:\n",
    "            if line.startswith(\"[\") and line.endswith(\"]\"):\n",
    "                key_value = line[1:-1].split(\" \", 1)  # Remove brackets and split by the first space\n",
    "                if len(key_value) == 2:\n",
    "                    key, value = key_value\n",
    "                    metadata[key] = value.strip('\"')  # Remove quotes around values\n",
    "\n",
    "        return {\"Information\": metadata, \"Moves\": moves}\n",
    "    except IndexError:\n",
    "        return {\"Information\": {}, \"Moves\": \"Invalid PGN format\"}\n",
    "\n",
    "def determine_game_result(game, username):\n",
    "    \"\"\"\n",
    "    Determine the result of the game for the given player.\n",
    "    \"\"\"\n",
    "    white_player = game.get(\"white\", {}).get(\"username\", \"\").lower()\n",
    "    black_player = game.get(\"black\", {}).get(\"username\", \"\").lower()\n",
    "    white_result = game.get(\"white\", {}).get(\"result\", \"\").lower()\n",
    "    black_result = game.get(\"black\", {}).get(\"result\", \"\").lower()\n",
    "\n",
    "    if username.lower() == white_player.strip().lower():\n",
    "        if white_result == \"win\":\n",
    "            return \"Win\"\n",
    "        elif white_result in [\"checkmated\", \"timeout\", \"resigned\", \"abandoned\"]:\n",
    "            return \"Loss\"\n",
    "        elif white_result in [\"stalemate\", \"draw\", \"insufficient material\", \"insufficient\", \"repetition\", \"agreed\", \"50move\", \"timevsinsufficient\"]:\n",
    "            return \"Draw\"\n",
    "    elif username.lower() == black_player.strip().lower():\n",
    "        if black_result == \"win\":\n",
    "            return \"Win\"\n",
    "        elif black_result in [\"checkmated\", \"timeout\", \"resigned\", \"abandoned\"]:\n",
    "            return \"Loss\"\n",
    "        elif black_result in [\"stalemate\", \"draw\", \"insufficient material\", \"insufficient\", \"repetition\", \"agreed\", \"50move\", \"timevsinsufficient\"]:\n",
    "            return \"Draw\"\n",
    "    return \"Unknown\"\n",
    "\n",
    "def extract_opening_from_pgn(metadata):\n",
    "    \"\"\"\n",
    "    Extract the opening name from the PGN metadata (based on Chess.com opening URL).\n",
    "    Removes any single quotes from the opening name.\n",
    "    \"\"\"\n",
    "    eco_url = metadata.get(\"ECOUrl\", \"\")\n",
    "    if eco_url and \"chess.com/openings/\" in eco_url:\n",
    "        opening_name = eco_url.split(\"chess.com/openings/\")[-1].replace(\"-\", \" \").capitalize()\n",
    "        opening_name = opening_name.replace(\"'\", \"\")  # Remove any single quotes\n",
    "        return opening_name\n",
    "    return \"Unknown\"\n",
    "\n",
    "def process_game_data(all_games, username, openings_file):\n",
    "    \"\"\"\n",
    "    Beautify and structure game data with main openings and variations.\n",
    "    \"\"\"\n",
    "    def unix_to_readable(unix_time):\n",
    "        return datetime.fromtimestamp(unix_time, timezone.utc).strftime('%Y-%m-%d %H:%M:%S')\n",
    "\n",
    "    # Load main openings from the text file\n",
    "    main_openings = load_openings(openings_file)\n",
    "\n",
    "    game_list = []\n",
    "    for game in all_games:\n",
    "        pgn_split = split_pgn(game.get(\"pgn\", \"\"))\n",
    "        metadata = pgn_split.get(\"Information\", {})\n",
    "\n",
    "        # Extract opening name from the ECO URL\n",
    "        opening_name = extract_opening_from_pgn(metadata)\n",
    "\n",
    "        # Determine game result\n",
    "        game_result = determine_game_result(game, username)\n",
    "\n",
    "        # Determine main opening and variation\n",
    "        main_opening = \"Unknown\"\n",
    "        variation = opening_name\n",
    "\n",
    "        for main in main_openings:\n",
    "            if opening_name.lower().find(main.lower()) != -1:  # Compare with main openings\n",
    "                main_opening = main\n",
    "                variation = opening_name.strip().capitalize()\n",
    "                break\n",
    "\n",
    "        # Add unknown opening to the openings file\n",
    "        if main_opening == \"Unknown\" and opening_name != \"Unknown\":\n",
    "            add_opening_to_file(openings_file, opening_name)\n",
    "            main_opening = opening_name\n",
    "            variation = \"Unknown\"\n",
    "\n",
    "        game_entry = {\n",
    "            \"Game URL\": game.get(\"url\", \"\"),\n",
    "            \"Time Class\": game.get(\"time_class\", \"N/A\").capitalize(),\n",
    "            \"End Time\": unix_to_readable(game.get(\"end_time\", 0)),\n",
    "            \"White Player\": game.get(\"white\", {}).get(\"username\", \"Unknown\"),\n",
    "            \"White Rating\": game.get(\"white\", {}).get(\"rating\", \"N/A\"),\n",
    "            \"Black Player\": game.get(\"black\", {}).get(\"username\", \"Unknown\"),\n",
    "            \"Black Rating\": game.get(\"black\", {}).get(\"rating\", \"N/A\"),\n",
    "            \"Result\": game_result,  # Processed as \"Win\", \"Loss\", or \"Draw\"\n",
    "            \"Main Opening\": main_opening,  # Main opening from the text file\n",
    "            \"Variation\": variation,  # Remaining part as variation\n",
    "            \"Information\": pgn_split[\"Information\"],  # Metadata\n",
    "            \"Moves\": pgn_split[\"Moves\"]  # Actual moves\n",
    "        }\n",
    "        if(game.get(\"rules\", {}) == \"chess\"):\n",
    "            game_list.append(game_entry)\n",
    "    return game_list\n",
    "\n",
    "def save_to_csv(data, filename):\n",
    "    \"\"\"\n",
    "    Save data to a CSV file.\n",
    "    \"\"\"\n",
    "    df = pd.DataFrame(data)\n",
    "    df.to_csv(filename, index=False)\n",
    "    print(f\"Data saved to {filename} (CSV format)\")\n",
    "\n",
    "def save_to_json(data, filename):\n",
    "    \"\"\"\n",
    "    Save data to a beautified JSON file.\n",
    "    \"\"\"\n",
    "    with open(filename, \"w\") as file:\n",
    "        json.dump(data, file, indent=4)\n",
    "    print(f\"Data saved to {filename} (JSON format)\")\n",
    "\n",
    "# Main code\n",
    "\n",
    "# Ensure the processed data directory exists\n",
    "os.makedirs(\"./data/processed\", exist_ok=True)\n",
    "\n",
    "# Load raw data\n",
    "with open(raw_file_path, \"r\") as file:\n",
    "    raw_data = json.load(file)\n",
    "\n",
    "# Process data\n",
    "processed_data = process_game_data(raw_data, username, openings_file_path)\n",
    "\n",
    "# Save processed data\n",
    "save_to_json(processed_data, processed_json_path)\n",
    "save_to_csv(processed_data, processed_csv_path)\n"
   ]
  },
  {
   "cell_type": "code",
   "execution_count": 20,
   "metadata": {},
   "outputs": [],
   "source": [
    "def load_processed_data(file_path):\n",
    "    \"\"\"\n",
    "    Load the processed game data from a JSON file.\n",
    "    \"\"\"\n",
    "    return pd.read_json(file_path)\n",
    "\n",
    "data = load_processed_data(processed_json_path)"
   ]
  },
  {
   "cell_type": "code",
   "execution_count": 21,
   "metadata": {},
   "outputs": [
    {
     "name": "stdout",
     "output_type": "stream",
     "text": [
      "Analyzing main openings...\n"
     ]
    },
    {
     "data": {
      "text/html": [
       "<div>\n",
       "<style scoped>\n",
       "    .dataframe tbody tr th:only-of-type {\n",
       "        vertical-align: middle;\n",
       "    }\n",
       "\n",
       "    .dataframe tbody tr th {\n",
       "        vertical-align: top;\n",
       "    }\n",
       "\n",
       "    .dataframe thead th {\n",
       "        text-align: right;\n",
       "    }\n",
       "</style>\n",
       "<table border=\"1\" class=\"dataframe\">\n",
       "  <thead>\n",
       "    <tr style=\"text-align: right;\">\n",
       "      <th>Result</th>\n",
       "      <th>Draw</th>\n",
       "      <th>Loss</th>\n",
       "      <th>Win</th>\n",
       "      <th>Total</th>\n",
       "      <th>Win Rate</th>\n",
       "    </tr>\n",
       "    <tr>\n",
       "      <th>Main Opening</th>\n",
       "      <th></th>\n",
       "      <th></th>\n",
       "      <th></th>\n",
       "      <th></th>\n",
       "      <th></th>\n",
       "    </tr>\n",
       "  </thead>\n",
       "  <tbody>\n",
       "    <tr>\n",
       "      <th>pirc</th>\n",
       "      <td>17</td>\n",
       "      <td>164</td>\n",
       "      <td>174</td>\n",
       "      <td>355</td>\n",
       "      <td>0.490</td>\n",
       "    </tr>\n",
       "    <tr>\n",
       "      <th>english</th>\n",
       "      <td>17</td>\n",
       "      <td>138</td>\n",
       "      <td>197</td>\n",
       "      <td>352</td>\n",
       "      <td>0.560</td>\n",
       "    </tr>\n",
       "    <tr>\n",
       "      <th>reti</th>\n",
       "      <td>7</td>\n",
       "      <td>101</td>\n",
       "      <td>138</td>\n",
       "      <td>246</td>\n",
       "      <td>0.561</td>\n",
       "    </tr>\n",
       "    <tr>\n",
       "      <th>modern defense</th>\n",
       "      <td>11</td>\n",
       "      <td>76</td>\n",
       "      <td>93</td>\n",
       "      <td>180</td>\n",
       "      <td>0.517</td>\n",
       "    </tr>\n",
       "    <tr>\n",
       "      <th>caro kann</th>\n",
       "      <td>4</td>\n",
       "      <td>68</td>\n",
       "      <td>80</td>\n",
       "      <td>152</td>\n",
       "      <td>0.526</td>\n",
       "    </tr>\n",
       "    <tr>\n",
       "      <th>kings indian</th>\n",
       "      <td>3</td>\n",
       "      <td>32</td>\n",
       "      <td>47</td>\n",
       "      <td>82</td>\n",
       "      <td>0.573</td>\n",
       "    </tr>\n",
       "    <tr>\n",
       "      <th>sicilian</th>\n",
       "      <td>1</td>\n",
       "      <td>36</td>\n",
       "      <td>36</td>\n",
       "      <td>73</td>\n",
       "      <td>0.493</td>\n",
       "    </tr>\n",
       "    <tr>\n",
       "      <th>giuoco piano</th>\n",
       "      <td>2</td>\n",
       "      <td>29</td>\n",
       "      <td>37</td>\n",
       "      <td>68</td>\n",
       "      <td>0.544</td>\n",
       "    </tr>\n",
       "    <tr>\n",
       "      <th>indian game</th>\n",
       "      <td>4</td>\n",
       "      <td>22</td>\n",
       "      <td>40</td>\n",
       "      <td>66</td>\n",
       "      <td>0.606</td>\n",
       "    </tr>\n",
       "    <tr>\n",
       "      <th>italian</th>\n",
       "      <td>0</td>\n",
       "      <td>21</td>\n",
       "      <td>34</td>\n",
       "      <td>55</td>\n",
       "      <td>0.618</td>\n",
       "    </tr>\n",
       "  </tbody>\n",
       "</table>\n",
       "</div>"
      ],
      "text/plain": [
       "Result          Draw  Loss  Win  Total  Win Rate\n",
       "Main Opening                                    \n",
       "pirc              17   164  174    355     0.490\n",
       "english           17   138  197    352     0.560\n",
       "reti               7   101  138    246     0.561\n",
       "modern defense    11    76   93    180     0.517\n",
       "caro kann          4    68   80    152     0.526\n",
       "kings indian       3    32   47     82     0.573\n",
       "sicilian           1    36   36     73     0.493\n",
       "giuoco piano       2    29   37     68     0.544\n",
       "indian game        4    22   40     66     0.606\n",
       "italian            0    21   34     55     0.618"
      ]
     },
     "execution_count": 21,
     "metadata": {},
     "output_type": "execute_result"
    }
   ],
   "source": [
    "def analyze_openings(data):\n",
    "    \"\"\"\n",
    "    Analyze most frequent main openings and their win rates.\n",
    "    \"\"\"\n",
    "    # Filter out games with fewer than 10 games\n",
    "    opening_stats_with_win = data[['Main Opening', 'Result']]\n",
    "\n",
    "    # Group by Opening and Win/Draw/Loss result\n",
    "    opening_stats_with_ranks = opening_stats_with_win.groupby(['Main Opening', 'Result']).size().unstack(fill_value=0)\n",
    "\n",
    "    # Add the total number of games played for each opening\n",
    "    opening_stats_with_ranks['Total'] = opening_stats_with_ranks.sum(axis=1)\n",
    "\n",
    "    # Drop openings with fewer than 10 games\n",
    "    opening_stats_with_ranks = opening_stats_with_ranks[opening_stats_with_ranks['Total'] >= 10]\n",
    "\n",
    "    # Calculate the win rate for each opening\n",
    "    opening_stats_with_ranks['Win Rate'] = (opening_stats_with_ranks['Win'] / opening_stats_with_ranks['Total'])\n",
    "\n",
    "    # Sort by the total number of games played (descending order)\n",
    "    opening_stats_with_ranks = opening_stats_with_ranks.sort_values(by='Total', ascending=False)\n",
    "\n",
    "    # Select top 10 most played openings\n",
    "    top_10_openings = opening_stats_with_ranks.head(10)\n",
    "\n",
    "    # Round the 'Win Rate' to 3 decimal places\n",
    "    top_10_openings.loc[:, 'Win Rate'] = top_10_openings['Win Rate'].round(3)\n",
    "\n",
    "    return top_10_openings\n",
    "\n",
    "# Analyze main openings\n",
    "print(\"Analyzing main openings...\")\n",
    "top_10_openings = analyze_openings(data)\n",
    "\n",
    "# Display the top 10 openings as a DataFrame\n",
    "top_10_openings\n"
   ]
  },
  {
   "cell_type": "code",
   "execution_count": 48,
   "metadata": {},
   "outputs": [
    {
     "name": "stderr",
     "output_type": "stream",
     "text": [
      "/tmp/ipykernel_82331/2475887959.py:34: FutureWarning: The default of observed=False is deprecated and will be changed to True in a future version of pandas. Pass observed=False to retain current behavior or observed=True to adopt the future default and silence this warning.\n",
      "  differential_stats = data.groupby(\"Rating Differential Bin\").apply(\n",
      "/tmp/ipykernel_82331/2475887959.py:34: DeprecationWarning: DataFrameGroupBy.apply operated on the grouping columns. This behavior is deprecated, and in a future version of pandas the grouping columns will be excluded from the operation. Either pass `include_groups=False` to exclude the groupings or explicitly select the grouping columns after groupby to silence this warning.\n",
      "  differential_stats = data.groupby(\"Rating Differential Bin\").apply(\n"
     ]
    },
    {
     "data": {
      "image/png": "[encoded data removed]",
      "text/plain": [
       "<Figure size 1200x600 with 1 Axes>"
      ]
     },
     "metadata": {},
     "output_type": "display_data"
    }
   ],
   "source": [
    "def calculate_rating_differential(row, username):\n",
    "    \"\"\"\n",
    "    Calculate rating differential for the player (opponent_rating - my_rating).\n",
    "    \"\"\"\n",
    "    player_rating = (\n",
    "        row[\"White Rating\"] if row[\"White Player\"].lower() == username.lower()\n",
    "        else row[\"Black Rating\"]\n",
    "    )\n",
    "    opponent_rating = (\n",
    "        row[\"Black Rating\"] if row[\"White Player\"].lower() == username.lower()\n",
    "        else row[\"White Rating\"]\n",
    "    )\n",
    "    return opponent_rating - player_rating\n",
    "\n",
    "def group_by_rating_differential(data, username):\n",
    "    \"\"\"\n",
    "    Group games by smaller rating differentials (10-point intervals) and calculate win rates.\n",
    "    \"\"\"\n",
    "    # Calculate rating differential for each game\n",
    "    data[\"Rating Differential\"] = data.apply(\n",
    "        lambda row: calculate_rating_differential(row, username), axis=1\n",
    "    )\n",
    "\n",
    "    # Define rating differential bins\n",
    "    bins = [-float(\"inf\")] + list(range(-70, 71, 10)) + [float(\"inf\")]\n",
    "    labels = [f\"{bins[i]} to {bins[i+1]}\" for i in range(len(bins) - 1)]\n",
    "\n",
    "    # Categorize each game into a bin\n",
    "    data[\"Rating Differential Bin\"] = pd.cut(\n",
    "        data[\"Rating Differential\"], bins=bins, labels=labels, right=False\n",
    "    )\n",
    "\n",
    "    # Calculate win rate for each bin\n",
    "    differential_stats = data.groupby(\"Rating Differential Bin\").apply(\n",
    "        lambda x: pd.Series({\n",
    "            \"Games Played\": len(x),\n",
    "            \"Win Rate\": (x[\"Result\"] == \"Win\").mean() * 100\n",
    "        })\n",
    "    )\n",
    "\n",
    "    return differential_stats\n",
    "\n",
    "def plot_stats(stats, title, xlabel, ylabel):\n",
    "    \"\"\"\n",
    "    Plot win rates based on calculated stats.\n",
    "    \"\"\"\n",
    "    plt.figure(figsize=(12, 6))\n",
    "    bars = plt.bar(stats.index.astype(str), stats[\"Win Rate\"], color=\"blue\")\n",
    "\n",
    "    # Annotate each bar with the number of games played\n",
    "    for bar, games in zip(bars, stats[\"Games Played\"]):\n",
    "        plt.text(\n",
    "            bar.get_x() + bar.get_width() / 2,\n",
    "            bar.get_height() + 2,\n",
    "            f\"{int(games)} games\",\n",
    "            ha=\"center\",\n",
    "            fontsize=9\n",
    "        )\n",
    "\n",
    "    # Add a note to the graph\n",
    "    plt.figtext(\n",
    "        0.99, 0.01, \n",
    "        \"Rating Differential = Opponent Rating - My Rating\", \n",
    "        horizontalalignment=\"right\", fontsize=10, color=\"gray\"\n",
    "    )\n",
    "\n",
    "    # Set chart limits and labels\n",
    "    plt.ylim(0, 100)  # Y-axis from 0 to 100%\n",
    "    plt.title(title, fontsize=16)\n",
    "    plt.xlabel(xlabel, fontsize=12)\n",
    "    plt.ylabel(ylabel, fontsize=12)\n",
    "    plt.xticks(rotation=45, ha=\"right\")\n",
    "    \n",
    "    # Customize y-axis ticks\n",
    "    ax = plt.gca()  # Get the current axis\n",
    "    ax.yaxis.set_major_locator(MultipleLocator(10))  \n",
    "    ax.yaxis.set_minor_locator(AutoMinorLocator(2))  \n",
    "    \n",
    "    # Customize tick lines (major and minor)\n",
    "    ax.tick_params(axis=\"y\", which=\"major\", width=2)  # Thicker major ticks\n",
    "    ax.tick_params(axis=\"y\", which=\"minor\", width=1)  # Thinner minor ticks\n",
    "    \n",
    "    plt.tight_layout()\n",
    "\n",
    "    # Show the plot instead of saving it\n",
    "    plt.show()\n",
    "\n",
    "# Load processed data\n",
    "\n",
    "\n",
    "differential_stats = group_by_rating_differential(data, username)\n",
    "\n",
    "plot_stats(\n",
    "    differential_stats,\n",
    "    \"Win Rate by Rating Differential\",\n",
    "    \"Rating Differential\",\n",
    "    \"Win Rate (%)\"\n",
    ")\n"
   ]
  },
  {
   "cell_type": "code",
   "execution_count": 51,
   "metadata": {},
   "outputs": [
    {
     "data": {
      "image/png": "[encoded data removed]",
      "text/plain": [
       "<Figure size 1200x600 with 1 Axes>"
      ]
     },
     "metadata": {},
     "output_type": "display_data"
    }
   ],
   "source": [
    "def to_seconds(time_str):\n",
    "    \"\"\"\n",
    "    Convert a time string in the format hours:minutes:seconds to seconds.\n",
    "    \"\"\"\n",
    "    parts = list(map(float, time_str.split(\":\")))\n",
    "    if len(parts) == 2:  # Format: mm:ss\n",
    "        return parts[0] * 60 + parts[1]\n",
    "    elif len(parts) == 3:  # Format: hh:mm:ss\n",
    "        return parts[0] * 3600 + parts[1] * 60 + parts[2]\n",
    "\n",
    "def extract_time_per_move(moves, player_color):\n",
    "    \"\"\"\n",
    "    Extract and calculate the average time per move for a player (White or Black).\n",
    "    \"\"\"\n",
    "    if player_color.lower() not in [\"white\", \"black\"]:\n",
    "        raise ValueError(\"player_color must be 'white' or 'black'.\")\n",
    "\n",
    "    # Extract times based on the player's moves\n",
    "    if player_color.lower() == \"white\":\n",
    "        times = re.findall(r\"[^\\.]\\.\\s[^\\[]+\\[%clk\\s([0-9:.]+)\\]\", moves)\n",
    "    elif player_color.lower() == \"black\":\n",
    "        times = re.findall(r\"\\.\\.\\.\\s[^\\[]+\\[%clk\\s([0-9:.]+)\\]\", moves)\n",
    "\n",
    "    if len(times) <= 1:  # Not enough data to calculate time per move\n",
    "        return None\n",
    "\n",
    "    # Convert times into seconds\n",
    "    times_in_seconds = list(map(to_seconds, times))\n",
    "\n",
    "    # Calculate time differences (time per move)\n",
    "    time_diffs = [\n",
    "        times_in_seconds[i] - times_in_seconds[i + 1]\n",
    "        for i in range(len(times_in_seconds) - 1)\n",
    "        if times_in_seconds[i] > times_in_seconds[i + 1]  # Ignore anomalies\n",
    "    ]\n",
    "    return sum(time_diffs) / len(time_diffs) if time_diffs else None\n",
    "\n",
    "def analyze_time_management(data, username):\n",
    "    \"\"\"\n",
    "    Analyze time management for each time format and game outcome, focusing on the player's moves.\n",
    "    \"\"\"\n",
    "    time_data = []\n",
    "\n",
    "    for _, row in data.iterrows():\n",
    "        if row[\"Time Class\"].lower() == \"daily\":\n",
    "            continue  # Exclude Daily games\n",
    "\n",
    "        # Determine player's color\n",
    "        player_color = \"white\" if row[\"White Player\"].lower() == username.lower() else \"black\"\n",
    "        \n",
    "        # Extract average time per move for the player\n",
    "        avg_time_per_move = extract_time_per_move(row[\"Moves\"], player_color)\n",
    "\n",
    "        if avg_time_per_move is not None:\n",
    "            time_data.append({\n",
    "                \"Time Class\": row[\"Time Class\"],\n",
    "                \"Result\": row[\"Result\"],\n",
    "                \"Average Time Per Move\": avg_time_per_move\n",
    "            })\n",
    "\n",
    "    # Convert to DataFrame\n",
    "    time_data = pd.DataFrame(time_data)\n",
    "\n",
    "    # Group by Time Class and Result\n",
    "    grouped_data = time_data.groupby([\"Time Class\", \"Result\"]).agg({\n",
    "        \"Average Time Per Move\": \"mean\"\n",
    "    }).reset_index()\n",
    "\n",
    "    return grouped_data\n",
    "\n",
    "def plot_time_management(data):\n",
    "    \"\"\"\n",
    "    Plot time management for all time formats in a single graph.\n",
    "    \"\"\"\n",
    "    time_classes = data[\"Time Class\"].unique()\n",
    "    result_order = [\"Loss\", \"Draw\", \"Win\"]  # Desired order for results\n",
    "\n",
    "    # Prepare data for plotting\n",
    "    bar_width = 0.2\n",
    "    x_positions = {time_class: i for i, time_class in enumerate(time_classes)}\n",
    "    offset_map = {result: (idx - 1) * bar_width for idx, result in enumerate(result_order)}\n",
    "\n",
    "    # Create plot\n",
    "    plt.figure(figsize=(12, 6))\n",
    "    for result in result_order:\n",
    "        subset = data[data[\"Result\"] == result]\n",
    "        x_values = [x_positions[time_class] + offset_map[result] for time_class in subset[\"Time Class\"]]\n",
    "        y_values = subset[\"Average Time Per Move\"]\n",
    "        bars = plt.bar(\n",
    "            x_values, y_values, bar_width, label=result,\n",
    "            color=\"green\" if result == \"Win\" else \"red\" if result == \"Loss\" else \"blue\"\n",
    "        )\n",
    "\n",
    "        # Annotate bars\n",
    "        for bar in bars:\n",
    "            plt.text(\n",
    "                bar.get_x() + bar.get_width() / 2,\n",
    "                bar.get_height(),\n",
    "                f\"{bar.get_height():.2f} sec\",\n",
    "                ha=\"center\",\n",
    "                fontsize=10\n",
    "            )\n",
    "\n",
    "    # Configure plot aesthetics\n",
    "    plt.xticks(\n",
    "        [x_positions[time_class] for time_class in time_classes],\n",
    "        time_classes, fontsize=12\n",
    "    )\n",
    "    plt.ylim(0, max(data[\"Average Time Per Move\"]) * 1.1)  # Add some padding\n",
    "    plt.title(\"Average Time Per Move by Game Outcome\", fontsize=16)\n",
    "    plt.xlabel(\"Time Format\", fontsize=12)\n",
    "    plt.ylabel(\"Average Time Per Move (seconds)\", fontsize=12)\n",
    "    plt.legend(title=\"Game Outcome\", fontsize=10)\n",
    "    plt.tight_layout()\n",
    "\n",
    "    # Show the plot\n",
    "    plt.show()\n",
    "\n",
    "time_management_stats = analyze_time_management(data, username)\n",
    "\n",
    "plot_time_management(time_management_stats)\n"
   ]
  },
  {
   "cell_type": "code",
   "execution_count": 52,
   "metadata": {},
   "outputs": [
    {
     "data": {
      "image/png": "[encoded data removed]",
      "text/plain": [
       "<Figure size 1200x600 with 1 Axes>"
      ]
     },
     "metadata": {},
     "output_type": "display_data"
    }
   ],
   "source": [
    "# Ensure the 'End Time' column is in datetime format\n",
    "data['End Time'] = pd.to_datetime(data['End Time'])\n",
    "\n",
    "# Extract the day of the week\n",
    "data['day_of_week'] = data['End Time'].dt.day_name()\n",
    "\n",
    "# Categorize results into win, loss, or draw\n",
    "def map_result_to_category(result):\n",
    "    if 'Win' in result:\n",
    "        return 'Win'\n",
    "    elif 'Loss' in result:\n",
    "        return 'Loss'\n",
    "    elif 'Draw' in result:\n",
    "        return 'Draw'\n",
    "    else:\n",
    "        return 'Other'\n",
    "\n",
    "data['Result Category'] = data['Result'].apply(map_result_to_category)\n",
    "\n",
    "# Group data by day of the week and result category\n",
    "result_by_day = data.groupby(['day_of_week', 'Result Category']).size().unstack(fill_value=0)\n",
    "\n",
    "# Reorder the days of the week\n",
    "day_order = ['Monday', 'Tuesday', 'Wednesday', 'Thursday', 'Friday', 'Saturday', 'Sunday']\n",
    "result_by_day = result_by_day.reindex(day_order)\n",
    "\n",
    "# Define color shades\n",
    "color_map = {\n",
    "    'Win': '#98fb98',   # Pale green\n",
    "    'Draw': '#a9a9a9',  # Dark gray\n",
    "    'Loss': '#ff7f7f'   # Light red\n",
    "}\n",
    "\n",
    "# Plot the stacked bar chart\n",
    "result_by_day[['Win', 'Draw', 'Loss']].plot(\n",
    "    kind='bar',\n",
    "    stacked=True,\n",
    "    figsize=(12, 6),\n",
    "    color=[color_map['Win'], color_map['Draw'], color_map['Loss']]\n",
    ")\n",
    "\n",
    "# Add title and labels\n",
    "plt.title('Number of Games Played by Day of the Week')\n",
    "plt.xlabel('Day of the Week')\n",
    "plt.ylabel('Number of Games Played')\n",
    "plt.xticks(rotation=45)\n",
    "plt.legend(title='Result')\n",
    "plt.tight_layout()\n",
    "\n",
    "# Show the plot instead of saving it\n",
    "plt.show()\n"
   ]
  },
  {
   "cell_type": "code",
   "execution_count": 53,
   "metadata": {},
   "outputs": [
    {
     "data": {
      "image/png": "[encoded data removed]",
      "text/plain": [
       "<Figure size 1200x600 with 1 Axes>"
      ]
     },
     "metadata": {},
     "output_type": "display_data"
    }
   ],
   "source": [
    "# Extract year and month\n",
    "data['year_month'] = data['End Time'].dt.to_period('M')\n",
    "\n",
    "# Count the number of games per year-month\n",
    "games_by_month = data['year_month'].value_counts().sort_index()\n",
    "\n",
    "# Convert to DataFrame for better handling\n",
    "games_by_month_df = games_by_month.reset_index()\n",
    "games_by_month_df.columns = ['Year-Month', 'Game Count']\n",
    "\n",
    "# Plot the histogram\n",
    "plt.figure(figsize=(12, 6))\n",
    "plt.bar(games_by_month_df['Year-Month'].astype(str), games_by_month_df['Game Count'], width=0.8)\n",
    "plt.xticks(rotation=45)\n",
    "plt.xlabel('Year-Month')\n",
    "plt.ylabel('Number of Games Played')\n",
    "plt.title('Number of Games Played by Month')\n",
    "plt.tight_layout()\n",
    "\n",
    "# Show the plot instead of saving it\n",
    "plt.show()\n"
   ]
  },
  {
   "cell_type": "code",
   "execution_count": 54,
   "metadata": {},
   "outputs": [
    {
     "data": {
      "image/png": "[encoded data removed]",
      "text/plain": [
       "<Figure size 1200x600 with 1 Axes>"
      ]
     },
     "metadata": {},
     "output_type": "display_data"
    }
   ],
   "source": [
    "# Extract the month and categorize hours into time zones\n",
    "data['month'] = data['End Time'].dt.month\n",
    "\n",
    "def categorize_time(hour):\n",
    "    if 5 <= hour < 12:\n",
    "        return 'Morning'\n",
    "    elif 12 <= hour < 17:\n",
    "        return 'Noon'\n",
    "    elif 17 <= hour < 21:\n",
    "        return 'Evening'\n",
    "    else:\n",
    "        return 'Night'\n",
    "\n",
    "data['time_of_day'] = data['End Time'].dt.hour.apply(categorize_time)\n",
    "\n",
    "# Group by month and time of day\n",
    "games_by_time_of_day = data.groupby(['month', 'time_of_day']).size().reset_index(name='Game Count')\n",
    "\n",
    "# Map time zones to shades of blue\n",
    "color_map = {\n",
    "    'Morning': '#add8e6',  # Light blue\n",
    "    'Noon': '#6495ed',     # Cornflower blue\n",
    "    'Evening': '#4169e1',  # Royal blue\n",
    "    'Night': '#000080'     # Navy blue\n",
    "}\n",
    "\n",
    "# Plot the histogram\n",
    "plt.figure(figsize=(12, 6))\n",
    "for time_of_day, color in color_map.items():\n",
    "    subset = games_by_time_of_day[games_by_time_of_day['time_of_day'] == time_of_day]\n",
    "    plt.bar(subset['month'], subset['Game Count'], color=color, label=time_of_day, width=0.8)\n",
    "\n",
    "# Add labels and legend\n",
    "plt.xlabel('Month')\n",
    "plt.ylabel('Number of Games Played')\n",
    "plt.title('Games Played by Time of Day (Monthly)')\n",
    "plt.xticks(range(1, 13), ['Jan', 'Feb', 'Mar', 'Apr', 'May', 'Jun', 'Jul', 'Aug', 'Sep', 'Oct', 'Nov', 'Dec'])\n",
    "plt.legend(title='Time of Day')\n",
    "plt.tight_layout()\n",
    "\n",
    "# Show the plot instead of saving it\n",
    "plt.show()\n"
   ]
  },
  {
   "cell_type": "code",
   "execution_count": 55,
   "metadata": {},
   "outputs": [
    {
     "name": "stdout",
     "output_type": "stream",
     "text": [
      "Longest Streaks:\n",
      "Win: 21 games\n",
      "Loss: 10 games\n",
      "Draw: 2 games\n"
     ]
    }
   ],
   "source": [
    "# Ensure the 'Result' column exists\n",
    "if 'Result' not in data.columns:\n",
    "    raise ValueError(\"The 'Result' column is missing from the dataset.\")\n",
    "\n",
    "# Map results to streak types\n",
    "def map_result_to_streak(result):\n",
    "    if 'Win' in result:\n",
    "        return 'Win'\n",
    "    elif 'Loss' in result:\n",
    "        return 'Loss'\n",
    "    elif 'Draw' in result:\n",
    "        return 'Draw'\n",
    "    else:\n",
    "        return None\n",
    "\n",
    "data['streak_type'] = data['Result'].apply(map_result_to_streak)\n",
    "\n",
    "# Ensure streaks are sorted by game order (assuming games are in chronological order)\n",
    "# If not, sort by 'End Time' or relevant time column\n",
    "data = data.sort_values('End Time')\n",
    "\n",
    "# Calculate streaks\n",
    "longest_streaks = {'Win': 0, 'Loss': 0, 'Draw': 0}\n",
    "current_streak = {'type': None, 'count': 0}\n",
    "\n",
    "for streak in data['streak_type']:\n",
    "    if streak == current_streak['type']:\n",
    "        current_streak['count'] += 1\n",
    "    else:\n",
    "        if current_streak['type']:\n",
    "            longest_streaks[current_streak['type']] = max(\n",
    "                longest_streaks[current_streak['type']],\n",
    "                current_streak['count']\n",
    "            )\n",
    "        current_streak['type'] = streak\n",
    "        current_streak['count'] = 1\n",
    "\n",
    "# Handle the final streak\n",
    "if current_streak['type']:\n",
    "    longest_streaks[current_streak['type']] = max(\n",
    "        longest_streaks[current_streak['type']],\n",
    "        current_streak['count']\n",
    "    )\n",
    "\n",
    "print(\"Longest Streaks:\")\n",
    "for streak_type, streak_length in longest_streaks.items():\n",
    "    print(f\"{streak_type}: {streak_length} games\")"
   ]
  },
  {
   "cell_type": "code",
   "execution_count": null,
   "metadata": {},
   "outputs": [
    {
     "data": {
      "application/vnd.plotly.v1+json": {
       "config": {
        "plotlyServerURL": "https://plot.ly"
       },
       "data": [
        {
         "hovertemplate": "Rating: %{y}<br>Date: %{x}",
         "marker": {
          "color": "skyblue",
          "size": 5
         },
         "mode": "lines+markers",
         "name": "Blitz Rating",
         "type": "scatter",
         "x": [
          "2022-11-12T19:28:43",
          "2022-12-29T12:06:17",
          "2023-01-07T10:21:04",
          "2023-01-07T10:25:08",
          "2023-01-07T10:35:19",
          "2023-02-12T09:48:33",
          "2023-02-12T09:57:45",
          "2023-02-12T10:10:48",
          "2023-02-12T10:13:03",
          "2023-02-12T10:18:22",
          "2023-02-12T10:20:08",
          "2023-02-12T10:41:41",
          "2023-02-12T10:47:59",
          "2023-02-12T11:35:31",
          "2023-02-12T11:43:07",
          "2023-02-13T12:32:05",
          "2023-02-13T12:42:23",
          "2023-02-13T12:54:20",
          "2023-02-13T13:09:10",
          "2023-02-13T13:18:35",
          "2023-02-13T13:39:01",
          "2023-02-13T13:50:59",
          "2023-02-13T14:14:19",
          "2023-02-13T14:28:16",
          "2023-02-13T15:21:56",
          "2023-02-14T08:57:47",
          "2023-02-14T09:04:14",
          "2023-02-14T09:05:36",
          "2023-02-14T19:46:42",
          "2023-02-15T07:39:26",
          "2023-02-15T07:46:10",
          "2023-02-15T07:51:05",
          "2023-02-15T08:13:41",
          "2023-02-15T09:02:19",
          "2023-02-15T09:07:23",
          "2023-02-15T09:20:36",
          "2023-02-15T09:27:58",
          "2023-02-15T09:38:36",
          "2023-02-15T09:46:01",
          "2023-02-15T13:50:59",
          "2023-02-15T13:58:45",
          "2023-02-15T14:07:33",
          "2023-02-15T14:25:04",
          "2023-02-15T14:34:25",
          "2023-02-15T16:42:49",
          "2023-02-16T15:19:46",
          "2023-02-16T15:29:43",
          "2023-02-17T10:05:50",
          "2023-02-17T10:09:46",
          "2023-02-17T10:18:29",
          "2023-02-22T18:41:19",
          "2023-02-22T18:47:22",
          "2023-02-22T18:50:52",
          "2023-02-22T18:59:22",
          "2023-02-23T08:05:56",
          "2023-02-23T08:12:16",
          "2023-02-23T08:17:53",
          "2023-02-23T08:25:03",
          "2023-02-23T08:34:46",
          "2023-02-23T08:40:55",
          "2023-02-26T17:14:17",
          "2023-02-26T17:16:09",
          "2023-02-26T17:22:57",
          "2023-02-26T17:32:25",
          "2023-02-26T18:24:37",
          "2023-02-26T18:25:52",
          "2023-02-26T18:27:28",
          "2023-03-01T19:13:52",
          "2023-03-01T19:22:15",
          "2023-03-01T21:26:30",
          "2023-03-01T21:35:25",
          "2023-03-01T21:37:36",
          "2023-03-01T21:43:07",
          "2023-03-01T21:55:46",
          "2023-03-02T06:43:16",
          "2023-03-02T06:48:31",
          "2023-03-02T06:50:40",
          "2023-03-02T06:59:39",
          "2023-03-02T07:10:01",
          "2023-03-02T07:23:13",
          "2023-03-02T07:48:27",
          "2023-03-02T07:54:52",
          "2023-03-02T08:08:47",
          "2023-03-02T10:36:13",
          "2023-03-02T10:41:26",
          "2023-03-02T10:50:06",
          "2023-03-02T10:58:18",
          "2023-03-02T11:08:53",
          "2023-03-03T09:04:34",
          "2023-03-03T09:14:44",
          "2023-03-03T10:43:06",
          "2023-03-04T14:02:19",
          "2023-03-04T14:11:53",
          "2023-03-04T14:24:40",
          "2023-03-04T14:37:30",
          "2023-03-04T14:47:11",
          "2023-03-05T18:01:23",
          "2023-03-05T18:08:22",
          "2023-03-05T18:15:23",
          "2023-03-05T18:26:22",
          "2023-03-05T19:16:01",
          "2023-03-05T19:21:03",
          "2023-03-05T19:30:03",
          "2023-03-07T07:48:08",
          "2023-03-08T08:33:35",
          "2023-03-08T08:45:01",
          "2023-03-08T08:58:15",
          "2023-03-08T09:06:25",
          "2023-03-09T16:04:14",
          "2023-03-09T20:43:12",
          "2023-03-10T13:56:55",
          "2023-03-11T08:44:31",
          "2023-03-11T08:51:46",
          "2023-03-11T09:02:40",
          "2023-03-11T17:26:25",
          "2023-03-11T17:35:37",
          "2023-03-11T17:39:35",
          "2023-03-15T18:58:05",
          "2023-03-15T19:07:25",
          "2023-03-15T19:16:50",
          "2023-03-15T19:27:55",
          "2023-03-16T09:50:14",
          "2023-03-16T09:54:50",
          "2023-03-16T10:03:58",
          "2023-03-16T10:10:28",
          "2023-03-16T10:17:57",
          "2023-03-16T10:32:49",
          "2023-03-16T10:42:02",
          "2023-03-16T10:50:02",
          "2023-03-16T11:00:38",
          "2023-03-16T13:58:18",
          "2023-03-16T14:07:13",
          "2023-03-16T14:12:46",
          "2023-03-16T14:21:25",
          "2023-03-18T18:45:19",
          "2023-03-18T18:53:29",
          "2023-03-18T19:05:18",
          "2023-03-18T19:16:22",
          "2023-03-18T19:21:25",
          "2023-03-18T19:29:18",
          "2023-03-18T19:39:22",
          "2023-03-24T20:42:29",
          "2023-03-24T20:52:43",
          "2023-03-24T21:05:28",
          "2023-03-25T12:32:02",
          "2023-03-25T12:43:55",
          "2023-03-25T12:52:56",
          "2023-03-25T18:08:05",
          "2023-03-25T18:11:50",
          "2023-03-25T18:12:17",
          "2023-03-25T18:24:04",
          "2023-03-25T18:33:04",
          "2023-03-25T18:40:53",
          "2023-03-25T18:49:53",
          "2023-03-27T07:33:47",
          "2023-03-27T07:47:41",
          "2023-03-27T07:55:48",
          "2023-03-29T10:31:42",
          "2023-03-30T15:21:44",
          "2023-03-30T15:27:39",
          "2023-03-30T19:36:52",
          "2023-03-30T19:43:16",
          "2023-03-30T19:45:54",
          "2023-03-30T19:47:40",
          "2023-03-30T20:55:02",
          "2023-03-31T15:49:45",
          "2023-03-31T18:06:51",
          "2023-03-31T18:18:40",
          "2023-03-31T18:23:51",
          "2023-03-31T18:32:50",
          "2023-03-31T18:39:58",
          "2023-03-31T19:09:20",
          "2023-04-01T10:57:13",
          "2023-04-04T19:59:09",
          "2023-04-05T11:06:20",
          "2023-04-05T11:16:11",
          "2023-04-09T07:33:07",
          "2023-04-09T07:42:49",
          "2023-04-09T08:26:11",
          "2023-04-09T15:48:20",
          "2023-04-09T15:53:20",
          "2023-04-09T16:02:14",
          "2023-04-09T17:12:20",
          "2023-04-09T17:18:53",
          "2023-04-09T17:21:58",
          "2023-04-09T17:30:08",
          "2023-04-09T17:37:45",
          "2023-04-09T19:06:36",
          "2023-04-09T19:17:04",
          "2023-04-09T19:36:03",
          "2023-04-09T20:58:07",
          "2023-04-10T14:17:18",
          "2023-04-10T14:47:54",
          "2023-04-10T15:35:57",
          "2023-04-10T15:44:11",
          "2023-04-10T16:04:52",
          "2023-04-11T06:15:26",
          "2023-04-11T20:03:21",
          "2023-04-11T20:10:05",
          "2023-04-11T20:22:14",
          "2023-04-11T20:24:40",
          "2023-04-11T20:32:44",
          "2023-04-11T20:41:43",
          "2023-04-12T07:32:20",
          "2023-04-12T07:34:57",
          "2023-04-12T09:34:37",
          "2023-04-12T09:37:41",
          "2023-04-12T09:40:25",
          "2023-04-12T09:49:25",
          "2023-04-12T10:23:44",
          "2023-04-12T10:33:04",
          "2023-04-12T12:37:24",
          "2023-04-12T18:00:33",
          "2023-04-12T18:12:57",
          "2023-04-13T13:53:50",
          "2023-04-13T13:57:09",
          "2023-04-14T15:02:34",
          "2023-04-14T15:05:21",
          "2023-04-14T15:12:39",
          "2023-04-14T15:20:44",
          "2023-04-15T18:37:28",
          "2023-04-16T14:18:55",
          "2023-04-16T14:29:43",
          "2023-04-16T14:38:27",
          "2023-04-16T14:43:20",
          "2023-04-16T14:46:35",
          "2023-04-16T14:52:25",
          "2023-04-16T21:09:42",
          "2023-04-18T20:24:32",
          "2023-04-20T14:57:39",
          "2023-04-20T15:01:28",
          "2023-04-20T15:11:47",
          "2023-04-20T15:18:25",
          "2023-04-22T20:28:51",
          "2023-04-22T20:35:34",
          "2023-04-23T08:23:04",
          "2023-04-23T08:24:03",
          "2023-04-23T09:27:40",
          "2023-04-23T09:51:02",
          "2023-04-23T11:30:48",
          "2023-04-26T08:45:28",
          "2023-04-29T09:37:57",
          "2023-04-29T10:06:51",
          "2023-04-29T10:12:24",
          "2023-04-29T10:15:16",
          "2023-04-29T10:22:52",
          "2023-04-30T17:25:44",
          "2023-04-30T17:33:49",
          "2023-04-30T17:47:23",
          "2023-05-04T15:26:48",
          "2023-05-05T14:53:34",
          "2023-05-05T15:00:31",
          "2023-05-05T15:14:44",
          "2023-05-05T17:18:42",
          "2023-05-05T17:27:37",
          "2023-05-05T17:41:38",
          "2023-05-08T10:37:09",
          "2023-05-08T10:48:33",
          "2023-05-08T10:56:38",
          "2023-05-08T11:01:34",
          "2023-05-08T11:11:37",
          "2023-05-08T11:21:37",
          "2023-05-08T14:22:04",
          "2023-05-08T14:29:20",
          "2023-05-08T14:39:51",
          "2023-05-08T14:47:47",
          "2023-05-08T14:54:23",
          "2023-05-09T11:23:13",
          "2023-05-09T11:32:55",
          "2023-05-10T12:44:54",
          "2023-05-11T09:21:04",
          "2023-05-11T09:33:10",
          "2023-05-11T09:44:29",
          "2023-05-13T07:41:44",
          "2023-05-13T08:11:27",
          "2023-05-13T08:19:40",
          "2023-05-13T08:29:27",
          "2023-05-13T08:50:24",
          "2023-05-13T09:00:38",
          "2023-05-13T10:24:26",
          "2023-05-13T11:41:04",
          "2023-05-13T11:49:01",
          "2023-05-13T12:42:22",
          "2023-05-13T12:51:06",
          "2023-05-14T10:59:08",
          "2023-05-14T11:07:34",
          "2023-05-16T09:05:52",
          "2023-05-18T09:20:18",
          "2023-05-18T09:28:41",
          "2023-05-18T15:25:34",
          "2023-05-18T15:35:35",
          "2023-05-18T15:39:41",
          "2023-05-21T07:58:19",
          "2023-05-21T08:06:24",
          "2023-05-22T07:50:00",
          "2023-05-22T07:59:01",
          "2023-05-22T08:39:09",
          "2023-05-24T10:06:54",
          "2023-05-24T10:45:54",
          "2023-05-24T10:56:26",
          "2023-05-25T11:38:41",
          "2023-05-25T11:46:07",
          "2023-05-25T12:24:37",
          "2023-05-25T12:37:43",
          "2023-05-25T12:45:49",
          "2023-05-25T12:55:57",
          "2023-05-25T14:20:56",
          "2023-05-25T14:25:27",
          "2023-05-25T14:32:16",
          "2023-05-25T19:54:28",
          "2023-05-26T10:30:57",
          "2023-05-26T12:13:40",
          "2023-05-26T16:13:11",
          "2023-05-27T10:04:58",
          "2023-05-27T10:31:30",
          "2023-05-27T10:43:01",
          "2023-05-27T18:47:56",
          "2023-05-27T18:57:32",
          "2023-05-27T19:06:21",
          "2023-05-27T19:16:02",
          "2023-05-27T19:19:15",
          "2023-05-27T19:29:50",
          "2023-05-27T19:38:25",
          "2023-05-30T09:17:23",
          "2023-05-30T09:36:17",
          "2023-05-31T09:10:43",
          "2023-05-31T09:56:42",
          "2023-05-31T10:07:22",
          "2023-05-31T10:13:53",
          "2023-06-02T08:42:11",
          "2023-06-02T08:54:26",
          "2023-06-02T09:03:19",
          "2023-06-02T09:14:14",
          "2023-06-02T11:41:50",
          "2023-06-03T10:05:11",
          "2023-06-03T10:21:44",
          "2023-06-03T16:24:44",
          "2023-06-04T10:31:17",
          "2023-06-04T10:40:26",
          "2023-06-04T16:53:25",
          "2023-06-04T16:57:13",
          "2023-06-05T14:35:28",
          "2023-06-05T14:45:49",
          "2023-06-06T07:52:05",
          "2023-06-06T07:55:49",
          "2023-06-06T08:01:35",
          "2023-06-09T13:58:52",
          "2023-06-10T08:25:54",
          "2023-06-10T08:31:33",
          "2023-06-10T12:34:40",
          "2023-06-10T12:37:40",
          "2023-06-10T12:47:23",
          "2023-06-10T12:54:53",
          "2023-06-12T17:27:39",
          "2023-06-12T17:38:58",
          "2023-06-12T17:46:56",
          "2023-06-12T17:53:24",
          "2023-06-12T21:56:44",
          "2023-06-13T10:16:07",
          "2023-06-13T10:19:29",
          "2023-06-13T10:27:26",
          "2023-06-14T15:33:16",
          "2023-06-14T15:42:32",
          "2023-06-14T15:50:08",
          "2023-06-14T16:02:15",
          "2023-06-15T10:52:58",
          "2023-06-15T11:01:24",
          "2023-06-15T11:25:45",
          "2023-06-15T11:35:21",
          "2023-06-17T09:43:47",
          "2023-06-17T09:52:36",
          "2023-06-17T10:23:01",
          "2023-06-17T10:29:46",
          "2023-06-17T10:35:36",
          "2023-06-17T10:43:25",
          "2023-06-17T10:59:51",
          "2023-06-17T11:10:11",
          "2023-06-17T11:40:33",
          "2023-06-17T13:48:52",
          "2023-06-17T13:55:22",
          "2023-06-18T11:20:42",
          "2023-06-18T11:29:49",
          "2023-06-18T11:37:24",
          "2023-06-18T11:45:41",
          "2023-06-20T07:58:35",
          "2023-06-20T08:06:43",
          "2023-06-21T12:17:07",
          "2023-06-21T12:22:46",
          "2023-06-21T12:30:47",
          "2023-06-21T12:39:08",
          "2023-06-21T12:46:02",
          "2023-06-21T13:40:16",
          "2023-06-22T09:13:24",
          "2023-06-22T09:16:12",
          "2023-06-22T09:34:20",
          "2023-06-22T09:52:20",
          "2023-06-23T08:22:24",
          "2023-06-23T08:30:40",
          "2023-06-23T08:56:48",
          "2023-06-24T07:35:13",
          "2023-06-24T07:37:41",
          "2023-06-24T07:48:25",
          "2023-06-24T10:14:03",
          "2023-06-24T10:21:27",
          "2023-06-24T10:30:51",
          "2023-06-24T12:51:48",
          "2023-06-24T12:58:47",
          "2023-06-27T13:05:11",
          "2023-06-27T13:09:58",
          "2023-06-28T05:52:29",
          "2023-06-28T05:59:48",
          "2023-06-29T08:27:31",
          "2023-06-29T08:35:31",
          "2023-06-29T11:21:15",
          "2023-06-29T11:29:07",
          "2023-06-30T09:17:11",
          "2023-06-30T09:23:56",
          "2023-06-30T09:30:25",
          "2023-06-30T09:51:58",
          "2023-06-30T10:23:35",
          "2023-06-30T10:41:26",
          "2023-06-30T10:56:09",
          "2023-06-30T13:50:15",
          "2023-06-30T14:00:27",
          "2023-06-30T14:03:03",
          "2023-06-30T14:13:18",
          "2023-06-30T14:20:49",
          "2023-06-30T14:29:47",
          "2023-07-02T06:38:53",
          "2023-07-02T06:47:47",
          "2023-07-02T07:29:15",
          "2023-07-02T07:32:31",
          "2023-07-02T07:44:37",
          "2023-07-02T07:55:30",
          "2023-07-02T10:31:26",
          "2023-07-02T10:35:40",
          "2023-07-02T10:41:51",
          "2023-07-02T10:54:03",
          "2023-07-02T11:06:29",
          "2023-07-02T12:00:21",
          "2023-07-02T12:06:17",
          "2023-07-02T12:16:04",
          "2023-07-02T12:28:40",
          "2023-07-02T12:37:35",
          "2023-07-02T12:43:26",
          "2023-07-02T12:45:52",
          "2023-07-02T12:56:38",
          "2023-07-03T12:04:09",
          "2023-07-03T12:08:10",
          "2023-07-03T12:11:05",
          "2023-07-03T12:19:53",
          "2023-07-04T09:05:21",
          "2023-07-04T09:15:10",
          "2023-07-04T09:25:08",
          "2023-07-05T13:03:07",
          "2023-07-05T14:33:13",
          "2023-07-05T14:45:10",
          "2023-07-05T14:53:19",
          "2023-07-05T14:56:25",
          "2023-07-06T09:34:28",
          "2023-07-06T09:38:44",
          "2023-07-06T09:44:46",
          "2023-07-06T09:48:14",
          "2023-07-06T09:58:43",
          "2023-07-06T10:01:39",
          "2023-07-06T13:34:00",
          "2023-07-06T13:42:44",
          "2023-07-06T13:54:46",
          "2023-07-07T08:58:08",
          "2023-07-07T09:04:48",
          "2023-07-09T11:34:31",
          "2023-07-09T11:35:36",
          "2023-07-09T11:45:11",
          "2023-07-09T11:50:19",
          "2023-07-09T11:59:40",
          "2023-07-10T09:26:11",
          "2023-07-10T09:33:08",
          "2023-07-10T15:38:36",
          "2023-07-20T20:54:22",
          "2023-07-20T21:03:05",
          "2023-07-20T21:12:33",
          "2023-07-21T07:38:00",
          "2023-07-21T07:41:48",
          "2023-07-21T07:46:39",
          "2023-07-21T07:58:57",
          "2023-07-21T08:09:52",
          "2023-07-21T09:06:23",
          "2023-07-21T09:25:01",
          "2023-07-21T09:35:22",
          "2023-07-21T10:09:10",
          "2023-07-21T10:17:12",
          "2023-07-21T10:24:12",
          "2023-07-21T10:27:00",
          "2023-07-21T10:35:15",
          "2023-07-21T10:42:02",
          "2023-07-21T16:19:30",
          "2023-07-21T16:27:48",
          "2023-07-21T16:38:13",
          "2023-07-21T16:48:12",
          "2023-07-21T19:06:26",
          "2023-07-21T19:13:38",
          "2023-07-21T20:14:57",
          "2023-07-22T07:04:42",
          "2023-07-22T07:12:59",
          "2023-07-22T10:53:39",
          "2023-07-22T11:02:43",
          "2023-07-22T11:07:12",
          "2023-07-22T11:14:43",
          "2023-07-23T09:34:07",
          "2023-07-23T09:42:57",
          "2023-07-23T09:50:35",
          "2023-07-23T10:01:14",
          "2023-07-23T18:10:55",
          "2023-07-23T18:17:42",
          "2023-07-23T18:26:34",
          "2023-07-23T18:36:52",
          "2023-07-24T06:50:21",
          "2023-07-24T12:03:31",
          "2023-07-24T12:18:54",
          "2023-07-24T14:17:48",
          "2023-07-25T09:18:06",
          "2023-07-25T14:16:34",
          "2023-07-25T14:25:00",
          "2023-07-25T15:26:19",
          "2023-07-25T15:37:44",
          "2023-07-25T15:50:57",
          "2023-07-25T16:07:11",
          "2023-07-25T16:10:45",
          "2023-07-25T16:20:45",
          "2023-07-25T16:32:07",
          "2023-07-25T16:46:25",
          "2023-07-25T16:55:08",
          "2023-07-26T06:36:49",
          "2023-07-26T06:45:26",
          "2023-07-26T07:09:26",
          "2023-07-26T08:17:43",
          "2023-07-26T08:32:47",
          "2023-07-26T11:41:25",
          "2023-07-26T11:51:38",
          "2023-07-26T14:24:56",
          "2023-07-27T06:50:43",
          "2023-07-27T07:00:26",
          "2023-07-27T07:15:59",
          "2023-07-27T12:13:19",
          "2023-07-27T12:19:42",
          "2023-07-27T18:00:56",
          "2023-07-27T18:11:39",
          "2023-07-27T18:22:18",
          "2023-07-28T06:34:59",
          "2023-07-28T06:38:10",
          "2023-07-28T06:50:38",
          "2023-07-28T06:56:59",
          "2023-07-28T08:43:54",
          "2023-07-28T08:46:40",
          "2023-07-28T15:06:21",
          "2023-07-28T15:08:40",
          "2023-07-28T15:17:14",
          "2023-07-30T09:02:12",
          "2023-07-30T09:13:51",
          "2023-07-30T09:21:23",
          "2023-07-30T19:14:49",
          "2023-07-30T19:24:08",
          "2023-07-31T07:09:47",
          "2023-07-31T07:15:15",
          "2023-07-31T15:37:20",
          "2023-08-04T06:17:09",
          "2023-08-04T06:25:36",
          "2023-08-04T06:33:57",
          "2023-08-04T06:39:09",
          "2023-08-05T12:40:35",
          "2023-09-05T10:54:47",
          "2023-09-05T17:37:03",
          "2023-09-05T17:44:02",
          "2023-09-05T17:51:26",
          "2023-09-05T18:01:01",
          "2023-09-06T08:23:38",
          "2023-09-06T08:32:51",
          "2023-09-06T08:40:01",
          "2023-09-06T08:46:39",
          "2023-09-06T08:50:01",
          "2023-09-06T08:58:13",
          "2023-09-07T08:37:12",
          "2023-09-07T08:47:59",
          "2023-09-07T08:58:07",
          "2023-09-07T09:01:50",
          "2023-09-07T09:04:25",
          "2023-09-07T09:10:22",
          "2023-09-07T14:19:54",
          "2023-09-07T17:53:25",
          "2023-09-07T18:03:39",
          "2023-09-07T18:08:10",
          "2023-09-08T13:49:43",
          "2023-09-08T13:54:07",
          "2023-09-08T14:02:31",
          "2023-09-10T09:35:28",
          "2023-09-10T09:48:06",
          "2023-09-10T11:44:40",
          "2023-09-10T11:52:51",
          "2023-09-10T12:01:40",
          "2023-09-10T12:11:16",
          "2023-09-10T12:19:41",
          "2023-09-10T12:27:59",
          "2023-09-10T13:41:58",
          "2023-09-10T14:31:59",
          "2023-09-10T14:34:09",
          "2023-09-10T14:42:17",
          "2023-09-10T14:51:29",
          "2023-09-10T14:59:15",
          "2023-09-11T09:49:31",
          "2023-09-11T09:56:01",
          "2023-09-11T10:03:34",
          "2023-09-11T10:10:49",
          "2023-09-12T18:32:23",
          "2023-09-12T18:40:14",
          "2023-09-12T18:51:50",
          "2023-09-12T18:54:35",
          "2023-09-12T19:03:01",
          "2023-09-13T17:38:35",
          "2023-09-13T17:49:24",
          "2023-09-13T17:59:42",
          "2023-09-13T18:10:45",
          "2023-09-13T18:21:52",
          "2023-09-13T18:25:11",
          "2023-09-14T08:57:04",
          "2023-09-14T09:01:53",
          "2023-09-14T09:10:47",
          "2023-09-14T09:20:53",
          "2023-09-16T17:39:02",
          "2023-09-16T17:39:53",
          "2023-09-16T17:45:05",
          "2023-09-16T17:53:08",
          "2023-09-16T17:56:04",
          "2023-09-19T11:40:40",
          "2023-09-21T09:56:50",
          "2023-09-21T10:07:54",
          "2023-09-21T10:21:03",
          "2023-09-21T10:25:03",
          "2023-09-21T12:00:05",
          "2023-09-22T09:47:32",
          "2023-09-22T09:56:25",
          "2023-09-22T09:59:43",
          "2023-09-22T10:04:19",
          "2023-09-26T10:48:24",
          "2023-09-26T10:53:55",
          "2023-09-26T11:04:31",
          "2023-09-26T11:06:28",
          "2023-09-26T11:15:08",
          "2023-09-28T20:30:30",
          "2023-09-28T20:33:09",
          "2023-09-29T08:30:09",
          "2023-09-29T08:39:12",
          "2023-10-01T14:51:17",
          "2023-10-02T19:00:24",
          "2023-10-02T19:09:53",
          "2023-10-02T19:15:59",
          "2023-10-02T19:25:32",
          "2023-10-03T12:24:40",
          "2023-10-03T12:29:02",
          "2023-10-03T12:40:08",
          "2023-10-03T12:48:22",
          "2023-10-03T12:57:44",
          "2023-10-03T19:06:49",
          "2023-10-03T19:14:27",
          "2023-10-03T19:22:50",
          "2023-10-03T19:32:19",
          "2023-10-03T19:39:44",
          "2023-10-04T16:05:44",
          "2023-10-04T16:10:26",
          "2023-10-04T16:15:28",
          "2023-10-04T16:21:00",
          "2023-10-04T16:28:38",
          "2023-10-04T16:38:12",
          "2023-10-04T16:46:18",
          "2023-10-04T16:48:01",
          "2023-10-05T16:29:15",
          "2023-10-05T16:38:06",
          "2023-10-05T16:46:27",
          "2023-10-05T16:55:44",
          "2023-10-06T06:57:56",
          "2023-10-07T10:09:49",
          "2023-10-07T10:16:46",
          "2023-10-07T10:25:23",
          "2023-10-07T10:29:22",
          "2023-10-07T10:38:06",
          "2023-10-07T10:41:54",
          "2023-10-07T10:52:02",
          "2023-10-08T07:14:55",
          "2023-10-08T07:22:36",
          "2023-10-08T07:28:43",
          "2023-10-08T07:35:00",
          "2023-10-08T07:41:48",
          "2023-10-09T12:50:39",
          "2023-10-09T19:37:52",
          "2023-10-10T12:31:09",
          "2023-10-10T12:36:08",
          "2023-10-10T12:39:30",
          "2023-10-10T12:44:31",
          "2023-10-10T18:57:14",
          "2023-10-11T10:51:05",
          "2023-10-11T11:02:30",
          "2023-10-11T11:10:46",
          "2023-10-11T11:20:58",
          "2023-10-11T14:51:15",
          "2023-10-11T14:55:48",
          "2023-10-11T15:06:34",
          "2023-10-12T08:11:45",
          "2023-10-12T08:19:05",
          "2023-10-12T08:26:32",
          "2023-10-12T12:30:58",
          "2023-10-12T12:39:57",
          "2023-10-14T18:37:04",
          "2023-10-14T18:46:00",
          "2023-10-14T18:52:44",
          "2023-10-15T12:16:34",
          "2023-10-15T12:21:44",
          "2023-10-15T12:35:29",
          "2023-10-15T12:39:18",
          "2023-10-15T13:51:50",
          "2023-10-15T14:00:22",
          "2023-10-15T14:05:23",
          "2023-10-15T16:34:08",
          "2023-10-15T16:42:46",
          "2023-10-18T21:07:55",
          "2023-10-18T21:13:53",
          "2023-10-18T21:20:55",
          "2023-10-20T20:02:56",
          "2023-10-20T20:11:43",
          "2023-10-20T20:21:37",
          "2023-10-20T20:28:11",
          "2023-10-22T08:46:22",
          "2023-10-22T08:55:41",
          "2023-10-22T09:00:19",
          "2023-10-23T18:45:26",
          "2023-10-25T07:50:35",
          "2023-10-26T08:59:41",
          "2023-10-26T17:54:36",
          "2023-10-31T12:44:55",
          "2023-10-31T12:47:47",
          "2023-10-31T12:51:23",
          "2023-10-31T12:58:31",
          "2023-10-31T13:10:18",
          "2023-10-31T13:18:33",
          "2023-10-31T13:23:57",
          "2023-11-01T06:54:24",
          "2023-11-01T07:04:00",
          "2023-11-02T08:05:31",
          "2023-11-02T08:10:33",
          "2023-11-02T19:51:18",
          "2023-11-04T15:14:02",
          "2023-11-04T15:17:35",
          "2023-11-21T15:11:14",
          "2023-11-24T19:07:09",
          "2023-12-02T12:59:33",
          "2023-12-02T13:02:17",
          "2023-12-02T13:10:38",
          "2023-12-02T13:12:28",
          "2023-12-07T12:53:07",
          "2023-12-07T13:00:16",
          "2023-12-07T13:19:16",
          "2023-12-13T14:17:51",
          "2023-12-15T15:59:12",
          "2023-12-15T16:08:21",
          "2023-12-15T16:12:25",
          "2023-12-15T16:14:03",
          "2023-12-15T16:20:30",
          "2023-12-15T16:26:53",
          "2023-12-16T14:59:39",
          "2023-12-16T15:11:26",
          "2023-12-16T15:23:22",
          "2023-12-16T20:53:21",
          "2023-12-16T20:59:12",
          "2023-12-16T21:06:48",
          "2023-12-19T13:29:15",
          "2023-12-20T11:12:34",
          "2023-12-20T11:17:34",
          "2023-12-20T11:22:06",
          "2023-12-20T11:28:33",
          "2023-12-21T19:29:48",
          "2023-12-21T19:36:14",
          "2023-12-21T19:43:28",
          "2023-12-21T20:31:13",
          "2023-12-22T14:08:13",
          "2023-12-22T14:17:33",
          "2023-12-22T14:21:46",
          "2023-12-22T20:04:09",
          "2023-12-22T20:14:49",
          "2023-12-23T08:03:27",
          "2023-12-23T08:10:15",
          "2023-12-23T08:14:26",
          "2023-12-25T06:12:37",
          "2023-12-25T06:17:55",
          "2023-12-25T06:27:08",
          "2023-12-30T13:22:43",
          "2023-12-30T13:28:48",
          "2023-12-30T13:36:39",
          "2023-12-30T13:52:38",
          "2023-12-30T13:57:51",
          "2023-12-30T14:07:54",
          "2023-12-30T14:17:42",
          "2023-12-30T14:28:23",
          "2023-12-30T14:39:10",
          "2023-12-31T10:12:17",
          "2023-12-31T10:22:14",
          "2023-12-31T10:23:07",
          "2023-12-31T10:29:56",
          "2023-12-31T10:34:40",
          "2023-12-31T15:48:24",
          "2023-12-31T15:51:56",
          "2024-01-01T10:06:24",
          "2024-01-01T10:10:47",
          "2024-01-01T10:16:11",
          "2024-01-01T10:21:34",
          "2024-01-01T10:23:59",
          "2024-01-01T10:27:04",
          "2024-01-01T10:30:55",
          "2024-01-01T10:36:43",
          "2024-01-01T10:42:21",
          "2024-01-01T10:45:52",
          "2024-01-01T10:49:50",
          "2024-01-01T10:54:48",
          "2024-01-01T19:18:48",
          "2024-01-01T19:24:31",
          "2024-01-01T19:27:04",
          "2024-01-01T19:37:37",
          "2024-01-01T19:45:18",
          "2024-01-01T19:50:24",
          "2024-01-04T09:05:47",
          "2024-01-05T17:18:26",
          "2024-01-05T17:21:03",
          "2024-01-05T19:47:41",
          "2024-01-07T09:00:24",
          "2024-01-07T09:05:17",
          "2024-01-12T21:32:56",
          "2024-01-12T21:38:34",
          "2024-01-12T21:47:25",
          "2024-01-12T21:55:24",
          "2024-01-12T22:04:40",
          "2024-01-13T16:32:29",
          "2024-01-13T19:21:12",
          "2024-01-14T19:19:14",
          "2024-01-17T13:35:41",
          "2024-01-17T13:39:11",
          "2024-01-17T13:49:06",
          "2024-01-17T13:58:12",
          "2024-01-17T14:27:30",
          "2024-01-17T18:36:59",
          "2024-01-17T18:45:49",
          "2024-01-17T18:52:27",
          "2024-01-17T18:59:33",
          "2024-01-17T19:08:04",
          "2024-01-17T19:13:35",
          "2024-01-17T19:16:19",
          "2024-01-18T09:31:21",
          "2024-01-18T09:34:58",
          "2024-01-18T13:42:55",
          "2024-01-18T13:47:42",
          "2024-01-18T13:53:05",
          "2024-01-18T13:57:58",
          "2024-01-18T13:59:12",
          "2024-01-18T14:05:51",
          "2024-01-18T14:15:11",
          "2024-01-18T14:21:21",
          "2024-01-18T16:53:03",
          "2024-01-19T09:54:59",
          "2024-01-19T10:12:13",
          "2024-01-19T10:14:38",
          "2024-01-20T12:49:51",
          "2024-01-20T13:02:16",
          "2024-01-20T19:11:47",
          "2024-01-20T19:16:58",
          "2024-01-20T19:25:26",
          "2024-01-21T14:51:23",
          "2024-01-21T16:17:31",
          "2024-01-21T16:23:06",
          "2024-01-21T16:37:05",
          "2024-01-21T16:43:11",
          "2024-01-22T15:15:27",
          "2024-01-22T15:27:58",
          "2024-01-22T15:38:05",
          "2024-01-22T15:52:47",
          "2024-01-22T16:00:07",
          "2024-01-22T16:09:05",
          "2024-01-22T16:15:15",
          "2024-01-22T16:25:30",
          "2024-01-22T16:47:09",
          "2024-01-22T16:54:51",
          "2024-01-23T19:44:45",
          "2024-01-23T19:55:06",
          "2024-01-23T20:06:34",
          "2024-01-23T20:10:26",
          "2024-01-23T20:18:43",
          "2024-01-23T20:21:41",
          "2024-01-25T19:33:34",
          "2024-01-29T11:26:24",
          "2024-02-01T13:45:35",
          "2024-02-03T19:29:01",
          "2024-02-03T19:36:19",
          "2024-02-03T19:39:34",
          "2024-02-03T19:40:09",
          "2024-02-03T19:48:26",
          "2024-02-03T19:55:49",
          "2024-02-04T18:26:15",
          "2024-02-04T18:32:33",
          "2024-02-04T18:34:34",
          "2024-02-04T18:42:30",
          "2024-02-04T18:45:16",
          "2024-02-04T18:52:53",
          "2024-02-04T18:59:12",
          "2024-02-04T19:03:59",
          "2024-02-04T19:06:13",
          "2024-02-04T19:08:54",
          "2024-02-04T19:15:08",
          "2024-02-04T19:24:01",
          "2024-02-05T15:07:40",
          "2024-02-05T15:16:31",
          "2024-02-06T12:59:33",
          "2024-02-06T13:05:55",
          "2024-02-07T14:34:52",
          "2024-02-07T14:38:23",
          "2024-02-07T14:42:36",
          "2024-02-07T14:51:25",
          "2024-02-07T15:00:04",
          "2024-02-07T19:55:53",
          "2024-02-07T20:03:22",
          "2024-02-07T20:11:53",
          "2024-02-08T14:35:05",
          "2024-02-08T14:40:42",
          "2024-02-08T14:47:00",
          "2024-02-08T14:52:32",
          "2024-02-08T15:03:08",
          "2024-02-08T15:08:28",
          "2024-02-08T15:16:39",
          "2024-02-08T15:29:17",
          "2024-02-08T15:38:25",
          "2024-02-08T15:47:24",
          "2024-02-08T15:50:44",
          "2024-02-08T16:05:28",
          "2024-02-08T16:17:02",
          "2024-02-09T09:24:10",
          "2024-02-09T09:33:06",
          "2024-02-09T09:36:27",
          "2024-02-09T09:37:13",
          "2024-02-09T09:45:51",
          "2024-02-09T09:53:48",
          "2024-02-09T09:57:47",
          "2024-02-09T10:06:31",
          "2024-02-09T12:47:11",
          "2024-02-09T12:52:42",
          "2024-02-09T12:57:24",
          "2024-02-09T13:02:20",
          "2024-02-09T13:11:45",
          "2024-02-09T13:18:26",
          "2024-02-09T13:28:56",
          "2024-02-09T13:41:25",
          "2024-02-17T14:42:17",
          "2024-02-17T14:42:34",
          "2024-02-17T14:48:08",
          "2024-02-17T15:01:50",
          "2024-02-17T15:10:24",
          "2024-03-01T09:13:35",
          "2024-03-01T15:21:01",
          "2024-03-04T21:27:03",
          "2024-03-04T21:34:33",
          "2024-03-04T21:45:15",
          "2024-03-07T10:48:37",
          "2024-03-07T10:55:09",
          "2024-03-17T22:14:45",
          "2024-03-22T11:51:13",
          "2024-03-25T20:12:34",
          "2024-03-27T09:03:54",
          "2024-03-27T09:11:45",
          "2024-04-02T18:19:53",
          "2024-04-02T18:27:33",
          "2024-04-06T08:51:53",
          "2024-04-06T09:30:56",
          "2024-04-06T09:35:21",
          "2024-04-06T09:38:06",
          "2024-04-06T09:45:17",
          "2024-04-06T09:45:50",
          "2024-04-06T13:44:40",
          "2024-04-07T17:46:31",
          "2024-04-07T17:55:26",
          "2024-04-07T17:59:44",
          "2024-04-08T10:18:40",
          "2024-04-08T10:29:30",
          "2024-04-08T10:35:09",
          "2024-04-08T10:41:07",
          "2024-04-08T10:49:57",
          "2024-04-08T10:58:48",
          "2024-04-08T11:07:35",
          "2024-04-15T11:38:30",
          "2024-04-15T11:46:56",
          "2024-04-21T13:19:39",
          "2024-04-23T22:50:38",
          "2024-04-23T23:00:35",
          "2024-04-24T07:54:58",
          "2024-04-24T10:35:37",
          "2024-04-26T08:01:58",
          "2024-04-26T08:08:40",
          "2024-04-26T08:18:02",
          "2024-04-26T08:23:57",
          "2024-04-28T14:04:58",
          "2024-05-02T21:07:29",
          "2024-05-02T21:15:15",
          "2024-05-21T19:23:58",
          "2024-05-21T19:32:59",
          "2024-05-21T19:42:10",
          "2024-06-02T10:29:04",
          "2024-06-13T18:07:29",
          "2024-06-19T19:52:35",
          "2024-06-19T20:01:03",
          "2024-06-25T15:55:07",
          "2024-06-25T17:08:11",
          "2024-06-25T17:11:17",
          "2024-06-25T17:19:25",
          "2024-06-25T17:28:04",
          "2024-06-25T17:33:17",
          "2024-06-25T17:41:42",
          "2024-06-25T17:49:49",
          "2024-06-25T17:58:34",
          "2024-06-27T14:22:03",
          "2024-06-27T14:33:51",
          "2024-07-01T14:38:35",
          "2024-07-01T14:44:06",
          "2024-07-01T14:55:29",
          "2024-07-01T15:02:03",
          "2024-07-01T15:11:03",
          "2024-07-02T17:57:33",
          "2024-07-05T16:53:11",
          "2024-07-08T11:51:38",
          "2024-07-08T12:07:58",
          "2024-07-08T12:15:44",
          "2024-07-08T12:25:01",
          "2024-07-08T12:27:43",
          "2024-07-08T12:36:25",
          "2024-07-08T12:47:13",
          "2024-07-10T17:40:08",
          "2024-07-10T17:47:52",
          "2024-07-13T12:31:16",
          "2024-07-13T12:39:45",
          "2024-08-01T16:28:32",
          "2024-08-01T16:37:51",
          "2024-08-01T16:47:04",
          "2024-08-01T16:53:31",
          "2024-08-02T14:32:51",
          "2024-08-02T14:35:03",
          "2024-08-03T13:25:46",
          "2024-08-03T13:35:36",
          "2024-08-03T13:46:49",
          "2024-08-03T13:54:45",
          "2024-08-04T17:30:44",
          "2024-08-04T17:38:16",
          "2024-08-04T17:45:10",
          "2024-08-04T17:48:06",
          "2024-08-04T17:54:39",
          "2024-08-04T19:14:13",
          "2024-08-04T21:47:57",
          "2024-08-04T21:55:05",
          "2024-08-04T22:03:04",
          "2024-08-04T22:11:57",
          "2024-08-04T22:23:18",
          "2024-08-04T22:28:09",
          "2024-08-07T17:54:00",
          "2024-08-07T17:57:40",
          "2024-08-10T13:55:24",
          "2024-08-10T14:02:15",
          "2024-08-10T14:10:27",
          "2024-08-10T14:17:16",
          "2024-08-10T14:24:31",
          "2024-08-10T14:28:45",
          "2024-08-10T16:55:30",
          "2024-08-10T17:00:31",
          "2024-08-12T12:55:19",
          "2024-08-12T13:03:02",
          "2024-08-12T13:07:40",
          "2024-08-12T13:18:12",
          "2024-08-12T13:25:03",
          "2024-08-12T14:27:41",
          "2024-08-12T14:30:52",
          "2024-08-12T14:37:00",
          "2024-08-12T14:38:03",
          "2024-08-12T14:41:50",
          "2024-08-12T14:44:59",
          "2024-08-12T14:49:48",
          "2024-08-12T16:46:29",
          "2024-08-12T16:54:42",
          "2024-08-12T17:05:41",
          "2024-08-12T18:34:41",
          "2024-08-12T18:41:12",
          "2024-08-12T18:49:12",
          "2024-08-12T19:11:58",
          "2024-08-12T19:14:48",
          "2024-08-12T19:22:35",
          "2024-08-12T19:30:41",
          "2024-08-13T12:12:16",
          "2024-08-13T12:16:26",
          "2024-08-13T12:21:01",
          "2024-08-17T12:47:47",
          "2024-08-17T12:56:35",
          "2024-08-17T13:02:06",
          "2024-08-17T13:10:02",
          "2024-08-17T13:11:25",
          "2024-08-17T13:21:52",
          "2024-08-17T13:28:20",
          "2024-08-17T14:06:00",
          "2024-08-17T14:10:11",
          "2024-08-24T15:07:24",
          "2024-08-24T15:14:25",
          "2024-08-24T15:23:02",
          "2024-08-24T15:27:56",
          "2024-08-24T15:30:15",
          "2024-08-24T20:55:57",
          "2024-08-24T21:03:43",
          "2024-08-24T21:08:21",
          "2024-08-24T21:16:33",
          "2024-08-26T13:17:50",
          "2024-08-26T13:21:30",
          "2024-08-26T13:30:32",
          "2024-08-26T13:31:40",
          "2024-08-26T13:37:45",
          "2024-08-26T13:41:05",
          "2024-08-26T13:46:59",
          "2024-08-26T13:54:37",
          "2024-08-26T13:58:29",
          "2024-08-26T14:07:06",
          "2024-08-26T19:54:45",
          "2024-08-26T19:57:15",
          "2024-08-26T20:01:05",
          "2024-08-26T20:09:18",
          "2024-08-26T20:12:33",
          "2024-08-28T15:11:08",
          "2024-08-28T15:18:15",
          "2024-08-28T15:30:32",
          "2024-08-28T15:37:06",
          "2024-08-28T15:41:21",
          "2024-08-28T15:46:46",
          "2024-08-28T15:49:34",
          "2024-08-28T15:54:27",
          "2024-08-28T22:04:04",
          "2024-08-28T22:12:45",
          "2024-08-28T22:20:06",
          "2024-08-28T22:25:35",
          "2024-08-28T22:36:11",
          "2024-08-28T22:43:21",
          "2024-08-29T21:55:32",
          "2024-08-29T22:03:29",
          "2024-08-29T22:05:19",
          "2024-08-29T22:12:23",
          "2024-08-29T22:18:45",
          "2024-08-29T22:29:54",
          "2024-08-29T22:38:09",
          "2024-08-29T22:43:05",
          "2024-08-29T22:45:37",
          "2024-08-29T22:52:11",
          "2024-08-29T22:56:24",
          "2024-08-29T23:04:45",
          "2024-08-29T23:14:20",
          "2024-08-30T18:01:49",
          "2024-08-30T18:13:20",
          "2024-08-30T18:24:32",
          "2024-08-30T18:32:42",
          "2024-08-30T18:43:07",
          "2024-08-31T19:52:15",
          "2024-08-31T19:57:12",
          "2024-08-31T20:06:24",
          "2024-08-31T20:13:09",
          "2024-08-31T20:23:22",
          "2024-08-31T20:30:29",
          "2024-08-31T20:36:27",
          "2024-08-31T20:45:22",
          "2024-08-31T20:51:25",
          "2024-08-31T20:51:55",
          "2024-08-31T20:58:41",
          "2024-09-04T19:11:40",
          "2024-09-04T19:14:42",
          "2024-09-04T19:22:34",
          "2024-09-04T19:29:21",
          "2024-09-04T19:39:08",
          "2024-09-04T19:45:17",
          "2024-09-04T19:52:31",
          "2024-09-04T20:02:36",
          "2024-09-05T09:13:23",
          "2024-09-05T09:21:45",
          "2024-09-05T09:24:44",
          "2024-09-05T09:29:09",
          "2024-09-05T09:38:47",
          "2024-09-05T16:42:07",
          "2024-09-05T16:50:18",
          "2024-09-05T16:54:57",
          "2024-09-05T16:58:30",
          "2024-09-05T17:04:37",
          "2024-09-05T17:12:42",
          "2024-09-05T17:22:22",
          "2024-09-07T12:53:58",
          "2024-09-07T12:54:33",
          "2024-09-07T12:59:50",
          "2024-09-07T13:09:18",
          "2024-09-07T13:16:35",
          "2024-09-07T13:19:55",
          "2024-09-07T13:23:31",
          "2024-09-07T13:32:33",
          "2024-09-07T13:41:13",
          "2024-09-07T13:56:53",
          "2024-09-07T14:06:50",
          "2024-09-07T14:17:34",
          "2024-09-07T14:21:52",
          "2024-09-07T14:28:51",
          "2024-09-07T14:31:45",
          "2024-09-07T14:35:52",
          "2024-09-07T14:42:09",
          "2024-09-07T14:50:26",
          "2024-09-07T14:57:03",
          "2024-09-07T15:04:51",
          "2024-09-07T15:06:12",
          "2024-09-07T15:15:35",
          "2024-09-07T15:24:32",
          "2024-09-07T15:36:03",
          "2024-09-07T15:38:36",
          "2024-09-07T15:51:51",
          "2024-09-07T20:59:18",
          "2024-09-07T21:05:24",
          "2024-09-07T21:13:47",
          "2024-09-07T21:18:05",
          "2024-09-07T21:22:46",
          "2024-09-07T21:32:42",
          "2024-09-07T21:37:53",
          "2024-09-09T21:24:00",
          "2024-09-09T21:31:14",
          "2024-09-09T21:36:56",
          "2024-09-09T21:43:26",
          "2024-09-09T21:51:34",
          "2024-09-09T21:53:55",
          "2024-09-09T21:58:06",
          "2024-09-09T22:04:46",
          "2024-09-09T22:10:29",
          "2024-09-09T22:18:20",
          "2024-09-09T22:25:38",
          "2024-09-09T22:36:24",
          "2024-09-09T22:42:53",
          "2024-09-09T22:50:03",
          "2024-09-09T22:53:11",
          "2024-09-10T17:16:08",
          "2024-09-10T17:26:53",
          "2024-09-10T17:33:23",
          "2024-09-10T17:42:45",
          "2024-09-10T17:50:38",
          "2024-09-10T17:53:01",
          "2024-09-10T18:00:55",
          "2024-09-10T18:09:49",
          "2024-09-10T18:16:22",
          "2024-09-10T18:25:53",
          "2024-09-10T18:33:02",
          "2024-09-10T18:55:55",
          "2024-09-10T18:59:41",
          "2024-09-10T19:08:45",
          "2024-09-10T19:12:45",
          "2024-09-10T19:20:57",
          "2024-09-10T19:30:24",
          "2024-09-10T19:38:22",
          "2024-09-10T19:43:43",
          "2024-09-10T19:48:32",
          "2024-09-10T19:58:56",
          "2024-09-11T07:32:32",
          "2024-09-11T07:36:20",
          "2024-09-11T07:39:46",
          "2024-09-11T07:48:30",
          "2024-09-11T07:55:27",
          "2024-09-11T08:02:45",
          "2024-09-12T10:46:12",
          "2024-09-12T10:49:06",
          "2024-09-12T10:59:51",
          "2024-09-12T11:04:43",
          "2024-09-12T11:10:42",
          "2024-09-12T11:13:37",
          "2024-09-12T12:39:41",
          "2024-09-12T12:43:56",
          "2024-09-12T12:50:24",
          "2024-09-12T12:58:08",
          "2024-09-12T13:09:27",
          "2024-09-12T13:13:22",
          "2024-09-12T13:21:05",
          "2024-09-12T13:27:24",
          "2024-09-12T13:44:23",
          "2024-09-12T13:52:08",
          "2024-09-12T14:03:38",
          "2024-09-15T07:17:07",
          "2024-09-17T13:24:50",
          "2024-09-26T08:57:19",
          "2024-09-26T09:14:27",
          "2024-09-26T09:18:49",
          "2024-09-27T11:05:48",
          "2024-09-27T11:14:59",
          "2024-10-02T08:08:54",
          "2024-10-02T19:07:55",
          "2024-10-08T08:42:53",
          "2024-10-10T08:09:38",
          "2024-10-10T08:12:12",
          "2024-10-15T12:11:13",
          "2024-10-17T08:06:43",
          "2024-10-20T22:18:57",
          "2024-10-31T06:31:08",
          "2024-10-31T07:57:02",
          "2024-10-31T08:06:49",
          "2024-10-31T08:24:05",
          "2024-10-31T11:15:43",
          "2024-10-31T11:21:23",
          "2024-10-31T21:02:22",
          "2024-10-31T21:09:29",
          "2024-10-31T21:18:56",
          "2024-11-01T11:30:03",
          "2024-11-02T13:19:07",
          "2024-11-02T20:08:24",
          "2024-11-04T16:16:45",
          "2024-11-04T16:24:35",
          "2024-11-05T12:26:54",
          "2024-11-07T08:20:06",
          "2024-11-12T19:27:18",
          "2024-11-12T19:39:29",
          "2024-11-26T20:16:41",
          "2024-11-30T18:37:17",
          "2024-11-30T18:54:29",
          "2024-12-03T10:03:35",
          "2024-12-07T08:40:02",
          "2024-12-11T14:20:39",
          "2024-12-11T14:30:16",
          "2024-12-11T14:33:34",
          "2024-12-11T14:42:03",
          "2024-12-11T14:45:26",
          "2024-12-11T14:50:10",
          "2024-12-11T15:00:12",
          "2024-12-11T18:20:57",
          "2024-12-11T18:25:10",
          "2024-12-11T18:26:16",
          "2024-12-11T18:30:37",
          "2024-12-12T20:26:08",
          "2024-12-12T20:36:06",
          "2024-12-27T17:17:05",
          "2024-12-27T17:22:48",
          "2024-12-27T18:51:17",
          "2024-12-28T16:41:38",
          "2024-12-28T18:19:28",
          "2024-12-29T20:26:59",
          "2024-12-30T12:51:34",
          "2024-12-30T13:03:46",
          "2025-01-09T14:58:31.913060"
         ],
         "y": [
          699,
          609,
          615.6666666666666,
          625.25,
          648,
          633.8,
          650.2,
          637,
          624.8,
          589.4,
          582,
          583.2,
          595.4,
          602.6,
          611,
          633,
          636.4,
          630.8,
          596,
          600.2,
          575,
          581.6,
          610.6,
          652.8,
          666.6,
          694.4,
          696.6,
          680,
          660.6,
          652.8,
          638.4,
          640.4,
          646.8,
          661.4,
          637.8,
          647.2,
          652.6,
          654.2,
          662.6,
          698.4,
          702,
          703.6,
          699.6,
          723.2,
          727.8,
          726,
          730.4,
          736.6,
          714.4,
          706.4,
          714.8,
          704.4,
          697.2,
          692,
          702.8,
          686.6,
          681.4,
          676.8,
          691.4,
          667.4,
          661,
          653.2,
          645,
          617.6,
          621,
          600.2,
          592,
          589.8,
          587.4,
          577,
          594,
          613,
          630,
          639.6,
          648.4,
          656.2,
          621.4,
          629.4,
          605.2,
          623.8,
          627.8,
          653.4,
          642,
          670,
          656,
          654.2,
          673.6,
          675.4,
          680.6,
          687.2,
          678.4,
          665.4,
          669.8,
          671.2,
          667.4,
          696.4,
          701,
          699.6,
          706.8,
          712.2,
          709,
          724.4,
          707.8,
          695.6,
          694.2,
          685.6,
          675.4,
          694.2,
          700,
          697.2,
          703.8,
          699.8,
          709.8,
          702,
          698.8,
          679.8,
          668.2,
          646.4,
          644.8,
          645.2,
          647,
          652,
          648.2,
          648,
          649.2,
          648.6,
          656.2,
          687.8,
          684.8,
          686.2,
          698.2,
          696.8,
          672,
          683.2,
          685,
          673.4,
          677.8,
          686,
          677.6,
          681.6,
          698.8,
          687,
          680.8,
          694.6,
          688.6,
          685,
          696.6,
          705.4,
          713.4,
          722.6,
          715.6,
          701,
          705.6,
          711.8,
          709.6,
          719.4,
          725.2,
          717,
          698.8,
          697,
          689.6,
          676.6,
          678.6,
          657,
          654.8,
          656.4,
          678.4,
          678,
          688.2,
          691.4,
          683.8,
          684.4,
          685.8,
          707,
          707.8,
          714.2,
          712.4,
          712.4,
          698.6,
          685.4,
          688,
          689.4,
          684.4,
          694.8,
          711.2,
          716,
          721,
          728.6,
          733.4,
          733.4,
          746,
          750.2,
          764,
          765,
          770.4,
          762.6,
          771,
          771,
          769.8,
          768,
          765.2,
          754,
          745.8,
          743.2,
          745.4,
          761.4,
          766.2,
          773.8,
          773,
          778.2,
          775.2,
          776.4,
          775.4,
          783.8,
          778.8,
          777.6,
          779.6,
          774.8,
          775.8,
          769.8,
          760.6,
          749.6,
          753.2,
          770.8,
          782.8,
          789.6,
          803.4,
          800,
          782.4,
          780.4,
          778.2,
          771.6,
          787.6,
          788.6,
          775.6,
          769.4,
          771.6,
          760.8,
          761.8,
          774,
          785.4,
          730.4,
          727,
          732.6,
          730.8,
          720.4,
          775,
          777,
          769.2,
          749.2,
          746.2,
          750.4,
          754,
          757.4,
          781.4,
          791.2,
          776.6,
          771.8,
          748.8,
          747.8,
          747.8,
          748.4,
          748.8,
          766,
          764,
          751.2,
          761.4,
          759.4,
          751.6,
          750.6,
          761,
          762.8,
          767.2,
          778.2,
          781.6,
          777.8,
          771.8,
          776.2,
          764.4,
          778.6,
          788,
          799.2,
          809.6,
          826.4,
          814.4,
          803.8,
          799,
          782.8,
          781.4,
          788.6,
          797.4,
          818.2,
          824,
          810,
          804.6,
          806,
          789.8,
          759.8,
          775,
          778.6,
          772.8,
          764.8,
          784.8,
          710,
          706.8,
          626,
          636.6,
          647.2,
          725.2,
          711.4,
          805.4,
          810.2,
          816,
          801.4,
          821.4,
          824,
          821.6,
          831,
          849.6,
          867,
          866,
          866.8,
          855,
          851.4,
          833.8,
          830.8,
          827.6,
          839.8,
          839.4,
          837,
          820.8,
          803.4,
          792.2,
          803.8,
          812.6,
          825.4,
          841.8,
          853,
          837.2,
          821.4,
          808.8,
          800.8,
          770,
          749.2,
          749.8,
          757.8,
          759,
          767.6,
          784.6,
          782.8,
          772,
          780.2,
          783.6,
          788,
          796.8,
          822.4,
          815.2,
          818.8,
          819,
          815,
          802.8,
          808,
          815.4,
          820.6,
          817,
          832,
          841,
          835.8,
          836.4,
          843.2,
          834.8,
          822.2,
          825.4,
          828.2,
          833.8,
          849.8,
          855.8,
          888.6,
          891.6,
          887.4,
          870.2,
          872.8,
          847,
          842.2,
          845.8,
          852.4,
          843.6,
          840.4,
          843,
          838.4,
          830.4,
          847,
          851.6,
          864,
          882.2,
          899.4,
          904.2,
          910.2,
          914.4,
          911.8,
          913.4,
          915.4,
          906,
          901.2,
          906,
          880.8,
          886.2,
          890.4,
          876.4,
          860,
          876.2,
          861.2,
          871.4,
          873,
          871.2,
          854,
          853.2,
          842,
          843.8,
          843.2,
          857.6,
          857.2,
          833.8,
          842.6,
          851,
          871.8,
          876.8,
          901.2,
          896.4,
          898.6,
          877.2,
          870,
          871.4,
          873.2,
          877.6,
          883.2,
          891.6,
          891.6,
          893.4,
          888.2,
          887.2,
          901.4,
          905.8,
          904,
          857,
          860.8,
          786.8,
          785,
          772,
          825.4,
          833,
          902.8,
          910.4,
          941.4,
          937.6,
          938.2,
          936.6,
          935,
          925.6,
          930,
          925.4,
          923,
          846.2,
          844.4,
          765.4,
          757,
          765.2,
          847.4,
          846.4,
          944,
          952,
          861.6,
          852,
          766.6,
          747.4,
          750.2,
          832.4,
          835.4,
          908.6,
          898.2,
          891.4,
          871.2,
          852.2,
          860.6,
          875.2,
          876.6,
          894.4,
          906.4,
          917.2,
          896,
          897,
          898.6,
          892.2,
          884,
          897.4,
          901,
          895.6,
          879.2,
          878.2,
          869.8,
          863.2,
          862,
          873.2,
          878.8,
          875,
          872.6,
          873.8,
          898.2,
          893,
          903,
          906.8,
          910.6,
          899.4,
          900.6,
          910.4,
          917.6,
          926.4,
          951.6,
          824.4,
          825.2,
          828.8,
          828.6,
          804.6,
          954.2,
          959,
          964,
          966.8,
          979.4,
          960.2,
          964.6,
          967.6,
          976,
          980.6,
          996.8,
          997.8,
          1004,
          1005.8,
          1022.2,
          1011.6,
          1017,
          1018.4,
          1015.8,
          982.6,
          996.4,
          1001.8,
          992.6,
          999.2,
          1022.2,
          1020.4,
          993.4,
          995.2,
          989,
          986.6,
          984.6,
          997.2,
          998.6,
          985.6,
          978.4,
          971,
          968.2,
          955.6,
          956.2,
          953.2,
          942.4,
          937,
          938.6,
          941,
          940.4,
          947.8,
          950,
          950.6,
          951.2,
          951.8,
          959.8,
          957.4,
          961,
          960.2,
          955.6,
          949.4,
          956.4,
          956,
          946.8,
          950.8,
          954.8,
          953.2,
          951.6,
          948.4,
          945,
          938.8,
          935,
          931.2,
          940.4,
          780.8,
          777.8,
          770.6,
          772,
          754.6,
          917.4,
          924.6,
          936.2,
          942,
          973.8,
          976,
          960,
          964.2,
          968.6,
          959,
          962.4,
          973.6,
          971.4,
          970.2,
          973.2,
          972.2,
          974.4,
          977.6,
          979.2,
          985,
          995,
          1000.2,
          1004.4,
          1014.8,
          1016.4,
          1013.6,
          1020.6,
          1019.2,
          1016.2,
          1013.2,
          1007.2,
          1001.4,
          994.2,
          986.8,
          1010.8,
          1005.8,
          1005.6,
          1011.6,
          1006,
          978.8,
          985.6,
          989,
          990.8,
          999.8,
          1005,
          1008,
          1017.4,
          1022.4,
          1021.6,
          1022.8,
          1027.4,
          1016.6,
          1008.6,
          1009.2,
          1005.2,
          994.6,
          982.6,
          983.6,
          982.2,
          983.2,
          978.2,
          991.6,
          996.2,
          997.2,
          1005.2,
          1018.6,
          1024.4,
          1029.4,
          1043.6,
          1045.2,
          1040.4,
          1042,
          1045.6,
          1038.4,
          1051.4,
          1060.4,
          1058.8,
          1059.8,
          1059.4,
          1052,
          1050.8,
          1053.2,
          889.4,
          887.4,
          765,
          760.6,
          753.6,
          907.2,
          902.6,
          1007.2,
          1022.6,
          1020.2,
          1009.4,
          1022.4,
          1027.4,
          999.2,
          1004.2,
          1015,
          1002,
          1015,
          1024.8,
          1038,
          1038.6,
          1042.4,
          1038.4,
          1040.2,
          1013.4,
          1005.6,
          1010.2,
          1007.8,
          1015,
          1030.8,
          1041,
          924.4,
          922.8,
          805.4,
          805.2,
          700.8,
          814.8,
          714.4,
          824.8,
          824.4,
          928.6,
          925.4,
          1026.2,
          1028.4,
          1024.6,
          1034.2,
          1027.2,
          1024.8,
          1016.4,
          1014.6,
          1000.2,
          907.8,
          904.8,
          910.2,
          888.2,
          888.6,
          994.2,
          994.2,
          990.2,
          1013.2,
          1015.4,
          1015.4,
          1020.6,
          1028,
          1029.2,
          1047.2,
          1055.6,
          1064,
          1057,
          1048,
          1020.4,
          994.6,
          977.2,
          975.2,
          975.2,
          973.4,
          961.4,
          955.8,
          941.6,
          939.8,
          924.4,
          938.6,
          923.8,
          935.8,
          942.8,
          959.6,
          950.8,
          970.8,
          971,
          973.2,
          983,
          997.8,
          1003,
          1017,
          1015.2,
          1009.8,
          1010.8,
          1006.2,
          989.4,
          986,
          991.8,
          988.8,
          987.6,
          1009,
          1006.8,
          998.4,
          1003.6,
          999.6,
          982.4,
          998.8,
          995,
          985,
          984,
          964,
          952.8,
          954.6,
          954,
          840,
          857,
          849.4,
          850,
          850.6,
          850.4,
          852.8,
          738.2,
          739.2,
          746.4,
          861.4,
          857.4,
          962.2,
          959.8,
          952.6,
          921.2,
          889.2,
          953.6,
          959,
          964.2,
          1000.8,
          1055,
          1007.8,
          1010.2,
          1019.6,
          1013.6,
          1003,
          1012.6,
          1013.2,
          1004,
          1026.4,
          1028,
          1017.8,
          1016.6,
          1008.8,
          1010,
          1008,
          1013,
          1010.6,
          1023.4,
          1011,
          1003.4,
          1004.4,
          1016.8,
          1016.4,
          1017.4,
          1025,
          1026,
          1022.2,
          1023.4,
          1025.4,
          1022.4,
          992.4,
          993,
          1014.2,
          1011.6,
          1032.4,
          1057.6,
          927.6,
          901.8,
          774.8,
          756,
          631.2,
          755.4,
          634.2,
          757.4,
          754.2,
          845.4,
          825.6,
          940.6,
          935,
          932.2,
          844.2,
          858.4,
          742.4,
          742.8,
          743.8,
          853,
          851.6,
          969.8,
          964.6,
          979.8,
          985.8,
          991.8,
          996.4,
          1008.8,
          993.6,
          1002.2,
          999.4,
          1000.8,
          1013.2,
          1020.6,
          1025.2,
          1036,
          1038.4,
          1031,
          937.6,
          856.4,
          831.2,
          849.6,
          848,
          941.4,
          1019.6,
          1033,
          1031.6,
          905.2,
          907,
          780.6,
          781.2,
          767,
          898,
          904,
          1040.8,
          1057.6,
          1057.4,
          1055.6,
          1050.6,
          913.6,
          906.2,
          775.8,
          774.2,
          645.2,
          773.4,
          644,
          772.6,
          642.8,
          641.8,
          641.8,
          640.8,
          640.8,
          639.8,
          769.8,
          638.6,
          769,
          645.4,
          766.8,
          763.4,
          893,
          892.6,
          1004.8,
          1012.6,
          1017,
          1020.6,
          1034.2,
          1051.4,
          1053.2,
          1051.6,
          1047,
          1032.8,
          1033,
          909,
          907.6,
          786,
          785.4,
          654.8,
          777.4,
          654.4,
          777.4,
          789,
          909.4,
          893,
          1013.4,
          1008.6,
          994,
          990.6,
          1002,
          1002.4,
          1014.2,
          1012.2,
          990.2,
          986.2,
          979,
          944,
          939,
          954.2,
          956,
          958.8,
          979.4,
          983,
          983.4,
          984.4,
          972,
          976.8,
          972.2,
          975.4,
          971.2,
          981.2,
          975.6,
          977.4,
          979,
          1008,
          1010,
          1016,
          1022.8,
          1021.4,
          992.2,
          879.4,
          873.2,
          860.8,
          864.8,
          865.4,
          977.4,
          965.2,
          972.6,
          974.6,
          977.8,
          979.6,
          1000.4,
          998.6,
          994,
          992.8,
          987.6,
          974,
          862.6,
          853.8,
          749.2,
          739.2,
          736.4,
          840.6,
          840.6,
          933.4,
          937.4,
          933.8,
          933.8,
          932.4,
          904.8,
          903.4,
          905.4,
          906,
          891.4,
          937.4,
          940.2,
          844.8,
          845,
          863.6,
          838,
          840,
          948.8,
          950.6,
          936.8,
          949.4,
          851.4,
          836.6,
          833.6,
          843.4,
          844.4,
          939.8,
          941.8,
          944.6,
          942.2,
          922.8,
          918.2,
          917.8,
          912.6,
          912,
          946.6,
          945.8,
          944.4,
          940.2,
          942.2,
          922.8,
          928,
          932.6,
          950.4,
          957.4,
          961,
          935.8,
          939,
          934.2,
          935.2,
          932.6,
          971.4,
          973.2,
          973,
          971.6,
          974,
          966.8,
          962.2,
          960.6,
          962.2,
          967,
          970,
          977.6,
          977.6,
          982.2,
          982.2,
          982.6,
          984.2,
          990.6,
          991.6,
          999,
          1002.2,
          1004.2,
          1004.8,
          1004,
          1000,
          1002.4,
          998.8,
          995.2,
          1002.8,
          996.6,
          985.6,
          985.8,
          984.4,
          969.4,
          971,
          975,
          976.8,
          975.4,
          974.4,
          973,
          969.8,
          963.8,
          965.2,
          972.8,
          972.8,
          962.8,
          964.8,
          965,
          859.2,
          861.2,
          769.8,
          768.6,
          664.6,
          768.2,
          663,
          767.8,
          661.4,
          767.4,
          766.6,
          870.2,
          867.8,
          972.2,
          971,
          864.2,
          859.8,
          760.4,
          756.4,
          654.6,
          756.2,
          660,
          755.8,
          756.6,
          856.4,
          855,
          956.8,
          956.8,
          955.4,
          953.4,
          957,
          955.8,
          957.6,
          962.4,
          966.2,
          948.8,
          956.4,
          959.6,
          963,
          960.8,
          979.8,
          970.8,
          964.8,
          958.2,
          962,
          962.6,
          964.4,
          867.2,
          871,
          765.4,
          765.8,
          662.4,
          765.4,
          661,
          765.2,
          660,
          765.4,
          659.4,
          765.8,
          659,
          766.2,
          658.6,
          766.6,
          658.2,
          657.2,
          658.2,
          769.4,
          769.6,
          879.6,
          991,
          992.6,
          989,
          994.2,
          997.2,
          1000.6,
          1006.6,
          1013.2,
          1010.4,
          1018,
          1014.8,
          1005.8,
          1000.8,
          1008,
          1000.4,
          997.8,
          1004.2,
          1011,
          1012.4,
          1019.2,
          1029,
          1034.2,
          1036.2,
          1036.4,
          1042.2,
          1040.4,
          1040.2,
          1041.8,
          1047.2,
          1041.8,
          1043.6,
          1044,
          1043.2,
          1039.6,
          1038.8,
          1040.4,
          1046,
          1045,
          1038,
          1032.4,
          1026,
          1015.8,
          1009.8,
          1006.4,
          1005.6,
          1002.4,
          1000,
          998.2,
          994.4,
          991.8,
          993.4,
          990.6,
          991.8,
          988.4,
          992.4,
          996.2,
          1005.4,
          1009.8,
          1022.6,
          1038.2,
          1044.6,
          1048.2,
          1053.6,
          1059.6,
          1051.6,
          1054.4,
          1056.4,
          1061.2,
          1065.4,
          1069.6,
          1070,
          1071,
          1071,
          1073.8,
          1075.4,
          1078.8,
          1083.6,
          1085.8,
          1089.8,
          1117.4,
          1120.8,
          1131.2,
          1135.8,
          1129,
          1099.4,
          1091.6,
          1073.2,
          1064.8,
          1065.6,
          1061,
          1059.2,
          1061.6,
          1055.2,
          1050.8,
          1055.4,
          1061,
          1064.6,
          1070.4,
          1074.4,
          1079.2,
          1076,
          1081,
          1099.4,
          1105.6,
          1133.2,
          1142.8,
          1145.4,
          1141.2,
          1141.6,
          1118.2,
          1116.6,
          1130.4,
          1116.8,
          1105.2,
          1100.4,
          1098.8,
          1074.4,
          1073.8,
          1080.2,
          1081.4,
          1079.2,
          1083.8,
          1084.4,
          1085.2,
          1083.2,
          1084.6,
          1083.2,
          1089,
          1086.2,
          1092.8,
          1094,
          1095.8,
          1087,
          1074.6,
          1063.6,
          1054.8,
          1050.4,
          1051.4,
          1064.2,
          1062.4,
          1063.8,
          1059,
          1060.8,
          1057.2,
          1058.6,
          1060,
          1065,
          1063.6,
          1070,
          1079.2,
          1067.2,
          1072.6,
          1067.8,
          1072.8,
          1078.6,
          1112,
          1117.6,
          1135.8,
          1140.4,
          1132.8,
          1132.8
         ]
        }
       ],
       "layout": {
        "paper_bgcolor": "rgba(255, 255, 255, 0.8)",
        "plot_bgcolor": "rgba(255, 255, 255, 0.8)",
        "template": {
         "data": {
          "bar": [
           {
            "error_x": {
             "color": "#2a3f5f"
            },
            "error_y": {
             "color": "#2a3f5f"
            },
            "marker": {
             "line": {
              "color": "#E5ECF6",
              "width": 0.5
             },
             "pattern": {
              "fillmode": "overlay",
              "size": 10,
              "solidity": 0.2
             }
            },
            "type": "bar"
           }
          ],
          "barpolar": [
           {
            "marker": {
             "line": {
              "color": "#E5ECF6",
              "width": 0.5
             },
             "pattern": {
              "fillmode": "overlay",
              "size": 10,
              "solidity": 0.2
             }
            },
            "type": "barpolar"
           }
          ],
          "carpet": [
           {
            "aaxis": {
             "endlinecolor": "#2a3f5f",
             "gridcolor": "white",
             "linecolor": "white",
             "minorgridcolor": "white",
             "startlinecolor": "#2a3f5f"
            },
            "baxis": {
             "endlinecolor": "#2a3f5f",
             "gridcolor": "white",
             "linecolor": "white",
             "minorgridcolor": "white",
             "startlinecolor": "#2a3f5f"
            },
            "type": "carpet"
           }
          ],
          "choropleth": [
           {
            "colorbar": {
             "outlinewidth": 0,
             "ticks": ""
            },
            "type": "choropleth"
           }
          ],
          "contour": [
           {
            "colorbar": {
             "outlinewidth": 0,
             "ticks": ""
            },
            "colorscale": [
             [
              0,
              "#0d0887"
             ],
             [
              0.1111111111111111,
              "#46039f"
             ],
             [
              0.2222222222222222,
              "#7201a8"
             ],
             [
              0.3333333333333333,
              "#9c179e"
             ],
             [
              0.4444444444444444,
              "#bd3786"
             ],
             [
              0.5555555555555556,
              "#d8576b"
             ],
             [
              0.6666666666666666,
              "#ed7953"
             ],
             [
              0.7777777777777778,
              "#fb9f3a"
             ],
             [
              0.8888888888888888,
              "#fdca26"
             ],
             [
              1,
              "#f0f921"
             ]
            ],
            "type": "contour"
           }
          ],
          "contourcarpet": [
           {
            "colorbar": {
             "outlinewidth": 0,
             "ticks": ""
            },
            "type": "contourcarpet"
           }
          ],
          "heatmap": [
           {
            "colorbar": {
             "outlinewidth": 0,
             "ticks": ""
            },
            "colorscale": [
             [
              0,
              "#0d0887"
             ],
             [
              0.1111111111111111,
              "#46039f"
             ],
             [
              0.2222222222222222,
              "#7201a8"
             ],
             [
              0.3333333333333333,
              "#9c179e"
             ],
             [
              0.4444444444444444,
              "#bd3786"
             ],
             [
              0.5555555555555556,
              "#d8576b"
             ],
             [
              0.6666666666666666,
              "#ed7953"
             ],
             [
              0.7777777777777778,
              "#fb9f3a"
             ],
             [
              0.8888888888888888,
              "#fdca26"
             ],
             [
              1,
              "#f0f921"
             ]
            ],
            "type": "heatmap"
           }
          ],
          "heatmapgl": [
           {
            "colorbar": {
             "outlinewidth": 0,
             "ticks": ""
            },
            "colorscale": [
             [
              0,
              "#0d0887"
             ],
             [
              0.1111111111111111,
              "#46039f"
             ],
             [
              0.2222222222222222,
              "#7201a8"
             ],
             [
              0.3333333333333333,
              "#9c179e"
             ],
             [
              0.4444444444444444,
              "#bd3786"
             ],
             [
              0.5555555555555556,
              "#d8576b"
             ],
             [
              0.6666666666666666,
              "#ed7953"
             ],
             [
              0.7777777777777778,
              "#fb9f3a"
             ],
             [
              0.8888888888888888,
              "#fdca26"
             ],
             [
              1,
              "#f0f921"
             ]
            ],
            "type": "heatmapgl"
           }
          ],
          "histogram": [
           {
            "marker": {
             "pattern": {
              "fillmode": "overlay",
              "size": 10,
              "solidity": 0.2
             }
            },
            "type": "histogram"
           }
          ],
          "histogram2d": [
           {
            "colorbar": {
             "outlinewidth": 0,
             "ticks": ""
            },
            "colorscale": [
             [
              0,
              "#0d0887"
             ],
             [
              0.1111111111111111,
              "#46039f"
             ],
             [
              0.2222222222222222,
              "#7201a8"
             ],
             [
              0.3333333333333333,
              "#9c179e"
             ],
             [
              0.4444444444444444,
              "#bd3786"
             ],
             [
              0.5555555555555556,
              "#d8576b"
             ],
             [
              0.6666666666666666,
              "#ed7953"
             ],
             [
              0.7777777777777778,
              "#fb9f3a"
             ],
             [
              0.8888888888888888,
              "#fdca26"
             ],
             [
              1,
              "#f0f921"
             ]
            ],
            "type": "histogram2d"
           }
          ],
          "histogram2dcontour": [
           {
            "colorbar": {
             "outlinewidth": 0,
             "ticks": ""
            },
            "colorscale": [
             [
              0,
              "#0d0887"
             ],
             [
              0.1111111111111111,
              "#46039f"
             ],
             [
              0.2222222222222222,
              "#7201a8"
             ],
             [
              0.3333333333333333,
              "#9c179e"
             ],
             [
              0.4444444444444444,
              "#bd3786"
             ],
             [
              0.5555555555555556,
              "#d8576b"
             ],
             [
              0.6666666666666666,
              "#ed7953"
             ],
             [
              0.7777777777777778,
              "#fb9f3a"
             ],
             [
              0.8888888888888888,
              "#fdca26"
             ],
             [
              1,
              "#f0f921"
             ]
            ],
            "type": "histogram2dcontour"
           }
          ],
          "mesh3d": [
           {
            "colorbar": {
             "outlinewidth": 0,
             "ticks": ""
            },
            "type": "mesh3d"
           }
          ],
          "parcoords": [
           {
            "line": {
             "colorbar": {
              "outlinewidth": 0,
              "ticks": ""
             }
            },
            "type": "parcoords"
           }
          ],
          "pie": [
           {
            "automargin": true,
            "type": "pie"
           }
          ],
          "scatter": [
           {
            "fillpattern": {
             "fillmode": "overlay",
             "size": 10,
             "solidity": 0.2
            },
            "type": "scatter"
           }
          ],
          "scatter3d": [
           {
            "line": {
             "colorbar": {
              "outlinewidth": 0,
              "ticks": ""
             }
            },
            "marker": {
             "colorbar": {
              "outlinewidth": 0,
              "ticks": ""
             }
            },
            "type": "scatter3d"
           }
          ],
          "scattercarpet": [
           {
            "marker": {
             "colorbar": {
              "outlinewidth": 0,
              "ticks": ""
             }
            },
            "type": "scattercarpet"
           }
          ],
          "scattergeo": [
           {
            "marker": {
             "colorbar": {
              "outlinewidth": 0,
              "ticks": ""
             }
            },
            "type": "scattergeo"
           }
          ],
          "scattergl": [
           {
            "marker": {
             "colorbar": {
              "outlinewidth": 0,
              "ticks": ""
             }
            },
            "type": "scattergl"
           }
          ],
          "scattermapbox": [
           {
            "marker": {
             "colorbar": {
              "outlinewidth": 0,
              "ticks": ""
             }
            },
            "type": "scattermapbox"
           }
          ],
          "scatterpolar": [
           {
            "marker": {
             "colorbar": {
              "outlinewidth": 0,
              "ticks": ""
             }
            },
            "type": "scatterpolar"
           }
          ],
          "scatterpolargl": [
           {
            "marker": {
             "colorbar": {
              "outlinewidth": 0,
              "ticks": ""
             }
            },
            "type": "scatterpolargl"
           }
          ],
          "scatterternary": [
           {
            "marker": {
             "colorbar": {
              "outlinewidth": 0,
              "ticks": ""
             }
            },
            "type": "scatterternary"
           }
          ],
          "surface": [
           {
            "colorbar": {
             "outlinewidth": 0,
             "ticks": ""
            },
            "colorscale": [
             [
              0,
              "#0d0887"
             ],
             [
              0.1111111111111111,
              "#46039f"
             ],
             [
              0.2222222222222222,
              "#7201a8"
             ],
             [
              0.3333333333333333,
              "#9c179e"
             ],
             [
              0.4444444444444444,
              "#bd3786"
             ],
             [
              0.5555555555555556,
              "#d8576b"
             ],
             [
              0.6666666666666666,
              "#ed7953"
             ],
             [
              0.7777777777777778,
              "#fb9f3a"
             ],
             [
              0.8888888888888888,
              "#fdca26"
             ],
             [
              1,
              "#f0f921"
             ]
            ],
            "type": "surface"
           }
          ],
          "table": [
           {
            "cells": {
             "fill": {
              "color": "#EBF0F8"
             },
             "line": {
              "color": "white"
             }
            },
            "header": {
             "fill": {
              "color": "#C8D4E3"
             },
             "line": {
              "color": "white"
             }
            },
            "type": "table"
           }
          ]
         },
         "layout": {
          "annotationdefaults": {
           "arrowcolor": "#2a3f5f",
           "arrowhead": 0,
           "arrowwidth": 1
          },
          "autotypenumbers": "strict",
          "coloraxis": {
           "colorbar": {
            "outlinewidth": 0,
            "ticks": ""
           }
          },
          "colorscale": {
           "diverging": [
            [
             0,
             "#8e0152"
            ],
            [
             0.1,
             "#c51b7d"
            ],
            [
             0.2,
             "#de77ae"
            ],
            [
             0.3,
             "#f1b6da"
            ],
            [
             0.4,
             "#fde0ef"
            ],
            [
             0.5,
             "#f7f7f7"
            ],
            [
             0.6,
             "#e6f5d0"
            ],
            [
             0.7,
             "#b8e186"
            ],
            [
             0.8,
             "#7fbc41"
            ],
            [
             0.9,
             "#4d9221"
            ],
            [
             1,
             "#276419"
            ]
           ],
           "sequential": [
            [
             0,
             "#0d0887"
            ],
            [
             0.1111111111111111,
             "#46039f"
            ],
            [
             0.2222222222222222,
             "#7201a8"
            ],
            [
             0.3333333333333333,
             "#9c179e"
            ],
            [
             0.4444444444444444,
             "#bd3786"
            ],
            [
             0.5555555555555556,
             "#d8576b"
            ],
            [
             0.6666666666666666,
             "#ed7953"
            ],
            [
             0.7777777777777778,
             "#fb9f3a"
            ],
            [
             0.8888888888888888,
             "#fdca26"
            ],
            [
             1,
             "#f0f921"
            ]
           ],
           "sequentialminus": [
            [
             0,
             "#0d0887"
            ],
            [
             0.1111111111111111,
             "#46039f"
            ],
            [
             0.2222222222222222,
             "#7201a8"
            ],
            [
             0.3333333333333333,
             "#9c179e"
            ],
            [
             0.4444444444444444,
             "#bd3786"
            ],
            [
             0.5555555555555556,
             "#d8576b"
            ],
            [
             0.6666666666666666,
             "#ed7953"
            ],
            [
             0.7777777777777778,
             "#fb9f3a"
            ],
            [
             0.8888888888888888,
             "#fdca26"
            ],
            [
             1,
             "#f0f921"
            ]
           ]
          },
          "colorway": [
           "#636efa",
           "#EF553B",
           "#00cc96",
           "#ab63fa",
           "#FFA15A",
           "#19d3f3",
           "#FF6692",
           "#B6E880",
           "#FF97FF",
           "#FECB52"
          ],
          "font": {
           "color": "#2a3f5f"
          },
          "geo": {
           "bgcolor": "white",
           "lakecolor": "white",
           "landcolor": "#E5ECF6",
           "showlakes": true,
           "showland": true,
           "subunitcolor": "white"
          },
          "hoverlabel": {
           "align": "left"
          },
          "hovermode": "closest",
          "mapbox": {
           "style": "light"
          },
          "paper_bgcolor": "white",
          "plot_bgcolor": "#E5ECF6",
          "polar": {
           "angularaxis": {
            "gridcolor": "white",
            "linecolor": "white",
            "ticks": ""
           },
           "bgcolor": "#E5ECF6",
           "radialaxis": {
            "gridcolor": "white",
            "linecolor": "white",
            "ticks": ""
           }
          },
          "scene": {
           "xaxis": {
            "backgroundcolor": "#E5ECF6",
            "gridcolor": "white",
            "gridwidth": 2,
            "linecolor": "white",
            "showbackground": true,
            "ticks": "",
            "zerolinecolor": "white"
           },
           "yaxis": {
            "backgroundcolor": "#E5ECF6",
            "gridcolor": "white",
            "gridwidth": 2,
            "linecolor": "white",
            "showbackground": true,
            "ticks": "",
            "zerolinecolor": "white"
           },
           "zaxis": {
            "backgroundcolor": "#E5ECF6",
            "gridcolor": "white",
            "gridwidth": 2,
            "linecolor": "white",
            "showbackground": true,
            "ticks": "",
            "zerolinecolor": "white"
           }
          },
          "shapedefaults": {
           "line": {
            "color": "#2a3f5f"
           }
          },
          "ternary": {
           "aaxis": {
            "gridcolor": "white",
            "linecolor": "white",
            "ticks": ""
           },
           "baxis": {
            "gridcolor": "white",
            "linecolor": "white",
            "ticks": ""
           },
           "bgcolor": "#E5ECF6",
           "caxis": {
            "gridcolor": "white",
            "linecolor": "white",
            "ticks": ""
           }
          },
          "title": {
           "x": 0.05
          },
          "xaxis": {
           "automargin": true,
           "gridcolor": "white",
           "linecolor": "white",
           "ticks": "",
           "title": {
            "standoff": 15
           },
           "zerolinecolor": "white",
           "zerolinewidth": 2
          },
          "yaxis": {
           "automargin": true,
           "gridcolor": "white",
           "linecolor": "white",
           "ticks": "",
           "title": {
            "standoff": 15
           },
           "zerolinecolor": "white",
           "zerolinewidth": 2
          }
         }
        },
        "title": {
         "text": "Blitz Rating Trends Over Time (Smoothed)"
        },
        "xaxis": {
         "rangeselector": {
          "buttons": [
           {
            "count": 1,
            "label": "1m",
            "step": "month",
            "stepmode": "backward"
           },
           {
            "count": 6,
            "label": "6m",
            "step": "month",
            "stepmode": "backward"
           },
           {
            "count": 1,
            "label": "1y",
            "step": "year",
            "stepmode": "backward"
           },
           {
            "step": "all"
           }
          ]
         },
         "rangeslider": {
          "visible": true
         },
         "showspikes": true,
         "spikecolor": "purple",
         "spikemode": "across",
         "spikesnap": "cursor",
         "title": {
          "text": "Date"
         },
         "type": "date"
        },
        "yaxis": {
         "showspikes": true,
         "spikecolor": "orange",
         "spikethickness": 2,
         "title": {
          "text": "Rating"
         }
        }
       }
      },
      "text/html": [
       "<div>                            <div id=\"e6efcd00-c6cb-4572-aac8-ae0886a4fca1\" class=\"plotly-graph-div\" style=\"height:525px; width:100%;\"></div>            <script type=\"text/javascript\">                require([\"plotly\"], function(Plotly) {                    window.PLOTLYENV=window.PLOTLYENV || {};                                    if (document.getElementById(\"e6efcd00-c6cb-4572-aac8-ae0886a4fca1\")) {                    Plotly.newPlot(                        \"e6efcd00-c6cb-4572-aac8-ae0886a4fca1\",                        [{\"hovertemplate\":\"Rating: %{y}\\u003cbr\\u003eDate: %{x}\",\"marker\":{\"color\":\"skyblue\",\"size\":5},\"mode\":\"lines+markers\",\"name\":\"Blitz Rating\",\"x\":[\"2022-11-12T19:28:43\",\"2022-12-29T12:06:17\",\"2023-01-07T10:21:04\",\"2023-01-07T10:25:08\",\"2023-01-07T10:35:19\",\"2023-02-12T09:48:33\",\"2023-02-12T09:57:45\",\"2023-02-12T10:10:48\",\"2023-02-12T10:13:03\",\"2023-02-12T10:18:22\",\"2023-02-12T10:20:08\",\"2023-02-12T10:41:41\",\"2023-02-12T10:47:59\",\"2023-02-12T11:35:31\",\"2023-02-12T11:43:07\",\"2023-02-13T12:32:05\",\"2023-02-13T12:42:23\",\"2023-02-13T12:54:20\",\"2023-02-13T13:09:10\",\"2023-02-13T13:18:35\",\"2023-02-13T13:39:01\",\"2023-02-13T13:50:59\",\"2023-02-13T14:14:19\",\"2023-02-13T14:28:16\",\"2023-02-13T15:21:56\",\"2023-02-14T08:57:47\",\"2023-02-14T09:04:14\",\"2023-02-14T09:05:36\",\"2023-02-14T19:46:42\",\"2023-02-15T07:39:26\",\"2023-02-15T07:46:10\",\"2023-02-15T07:51:05\",\"2023-02-15T08:13:41\",\"2023-02-15T09:02:19\",\"2023-02-15T09:07:23\",\"2023-02-15T09:20:36\",\"2023-02-15T09:27:58\",\"2023-02-15T09:38:36\",\"2023-02-15T09:46:01\",\"2023-02-15T13:50:59\",\"2023-02-15T13:58:45\",\"2023-02-15T14:07:33\",\"2023-02-15T14:25:04\",\"2023-02-15T14:34:25\",\"2023-02-15T16:42:49\",\"2023-02-16T15:19:46\",\"2023-02-16T15:29:43\",\"2023-02-17T10:05:50\",\"2023-02-17T10:09:46\",\"2023-02-17T10:18:29\",\"2023-02-22T18:41:19\",\"2023-02-22T18:47:22\",\"2023-02-22T18:50:52\",\"2023-02-22T18:59:22\",\"2023-02-23T08:05:56\",\"2023-02-23T08:12:16\",\"2023-02-23T08:17:53\",\"2023-02-23T08:25:03\",\"2023-02-23T08:34:46\",\"2023-02-23T08:40:55\",\"2023-02-26T17:14:17\",\"2023-02-26T17:16:09\",\"2023-02-26T17:22:57\",\"2023-02-26T17:32:25\",\"2023-02-26T18:24:37\",\"2023-02-26T18:25:52\",\"2023-02-26T18:27:28\",\"2023-03-01T19:13:52\",\"2023-03-01T19:22:15\",\"2023-03-01T21:26:30\",\"2023-03-01T21:35:25\",\"2023-03-01T21:37:36\",\"2023-03-01T21:43:07\",\"2023-03-01T21:55:46\",\"2023-03-02T06:43:16\",\"2023-03-02T06:48:31\",\"2023-03-02T06:50:40\",\"2023-03-02T06:59:39\",\"2023-03-02T07:10:01\",\"2023-03-02T07:23:13\",\"2023-03-02T07:48:27\",\"2023-03-02T07:54:52\",\"2023-03-02T08:08:47\",\"2023-03-02T10:36:13\",\"2023-03-02T10:41:26\",\"2023-03-02T10:50:06\",\"2023-03-02T10:58:18\",\"2023-03-02T11:08:53\",\"2023-03-03T09:04:34\",\"2023-03-03T09:14:44\",\"2023-03-03T10:43:06\",\"2023-03-04T14:02:19\",\"2023-03-04T14:11:53\",\"2023-03-04T14:24:40\",\"2023-03-04T14:37:30\",\"2023-03-04T14:47:11\",\"2023-03-05T18:01:23\",\"2023-03-05T18:08:22\",\"2023-03-05T18:15:23\",\"2023-03-05T18:26:22\",\"2023-03-05T19:16:01\",\"2023-03-05T19:21:03\",\"2023-03-05T19:30:03\",\"2023-03-07T07:48:08\",\"2023-03-08T08:33:35\",\"2023-03-08T08:45:01\",\"2023-03-08T08:58:15\",\"2023-03-08T09:06:25\",\"2023-03-09T16:04:14\",\"2023-03-09T20:43:12\",\"2023-03-10T13:56:55\",\"2023-03-11T08:44:31\",\"2023-03-11T08:51:46\",\"2023-03-11T09:02:40\",\"2023-03-11T17:26:25\",\"2023-03-11T17:35:37\",\"2023-03-11T17:39:35\",\"2023-03-15T18:58:05\",\"2023-03-15T19:07:25\",\"2023-03-15T19:16:50\",\"2023-03-15T19:27:55\",\"2023-03-16T09:50:14\",\"2023-03-16T09:54:50\",\"2023-03-16T10:03:58\",\"2023-03-16T10:10:28\",\"2023-03-16T10:17:57\",\"2023-03-16T10:32:49\",\"2023-03-16T10:42:02\",\"2023-03-16T10:50:02\",\"2023-03-16T11:00:38\",\"2023-03-16T13:58:18\",\"2023-03-16T14:07:13\",\"2023-03-16T14:12:46\",\"2023-03-16T14:21:25\",\"2023-03-18T18:45:19\",\"2023-03-18T18:53:29\",\"2023-03-18T19:05:18\",\"2023-03-18T19:16:22\",\"2023-03-18T19:21:25\",\"2023-03-18T19:29:18\",\"2023-03-18T19:39:22\",\"2023-03-24T20:42:29\",\"2023-03-24T20:52:43\",\"2023-03-24T21:05:28\",\"2023-03-25T12:32:02\",\"2023-03-25T12:43:55\",\"2023-03-25T12:52:56\",\"2023-03-25T18:08:05\",\"2023-03-25T18:11:50\",\"2023-03-25T18:12:17\",\"2023-03-25T18:24:04\",\"2023-03-25T18:33:04\",\"2023-03-25T18:40:53\",\"2023-03-25T18:49:53\",\"2023-03-27T07:33:47\",\"2023-03-27T07:47:41\",\"2023-03-27T07:55:48\",\"2023-03-29T10:31:42\",\"2023-03-30T15:21:44\",\"2023-03-30T15:27:39\",\"2023-03-30T19:36:52\",\"2023-03-30T19:43:16\",\"2023-03-30T19:45:54\",\"2023-03-30T19:47:40\",\"2023-03-30T20:55:02\",\"2023-03-31T15:49:45\",\"2023-03-31T18:06:51\",\"2023-03-31T18:18:40\",\"2023-03-31T18:23:51\",\"2023-03-31T18:32:50\",\"2023-03-31T18:39:58\",\"2023-03-31T19:09:20\",\"2023-04-01T10:57:13\",\"2023-04-04T19:59:09\",\"2023-04-05T11:06:20\",\"2023-04-05T11:16:11\",\"2023-04-09T07:33:07\",\"2023-04-09T07:42:49\",\"2023-04-09T08:26:11\",\"2023-04-09T15:48:20\",\"2023-04-09T15:53:20\",\"2023-04-09T16:02:14\",\"2023-04-09T17:12:20\",\"2023-04-09T17:18:53\",\"2023-04-09T17:21:58\",\"2023-04-09T17:30:08\",\"2023-04-09T17:37:45\",\"2023-04-09T19:06:36\",\"2023-04-09T19:17:04\",\"2023-04-09T19:36:03\",\"2023-04-09T20:58:07\",\"2023-04-10T14:17:18\",\"2023-04-10T14:47:54\",\"2023-04-10T15:35:57\",\"2023-04-10T15:44:11\",\"2023-04-10T16:04:52\",\"2023-04-11T06:15:26\",\"2023-04-11T20:03:21\",\"2023-04-11T20:10:05\",\"2023-04-11T20:22:14\",\"2023-04-11T20:24:40\",\"2023-04-11T20:32:44\",\"2023-04-11T20:41:43\",\"2023-04-12T07:32:20\",\"2023-04-12T07:34:57\",\"2023-04-12T09:34:37\",\"2023-04-12T09:37:41\",\"2023-04-12T09:40:25\",\"2023-04-12T09:49:25\",\"2023-04-12T10:23:44\",\"2023-04-12T10:33:04\",\"2023-04-12T12:37:24\",\"2023-04-12T18:00:33\",\"2023-04-12T18:12:57\",\"2023-04-13T13:53:50\",\"2023-04-13T13:57:09\",\"2023-04-14T15:02:34\",\"2023-04-14T15:05:21\",\"2023-04-14T15:12:39\",\"2023-04-14T15:20:44\",\"2023-04-15T18:37:28\",\"2023-04-16T14:18:55\",\"2023-04-16T14:29:43\",\"2023-04-16T14:38:27\",\"2023-04-16T14:43:20\",\"2023-04-16T14:46:35\",\"2023-04-16T14:52:25\",\"2023-04-16T21:09:42\",\"2023-04-18T20:24:32\",\"2023-04-20T14:57:39\",\"2023-04-20T15:01:28\",\"2023-04-20T15:11:47\",\"2023-04-20T15:18:25\",\"2023-04-22T20:28:51\",\"2023-04-22T20:35:34\",\"2023-04-23T08:23:04\",\"2023-04-23T08:24:03\",\"2023-04-23T09:27:40\",\"2023-04-23T09:51:02\",\"2023-04-23T11:30:48\",\"2023-04-26T08:45:28\",\"2023-04-29T09:37:57\",\"2023-04-29T10:06:51\",\"2023-04-29T10:12:24\",\"2023-04-29T10:15:16\",\"2023-04-29T10:22:52\",\"2023-04-30T17:25:44\",\"2023-04-30T17:33:49\",\"2023-04-30T17:47:23\",\"2023-05-04T15:26:48\",\"2023-05-05T14:53:34\",\"2023-05-05T15:00:31\",\"2023-05-05T15:14:44\",\"2023-05-05T17:18:42\",\"2023-05-05T17:27:37\",\"2023-05-05T17:41:38\",\"2023-05-08T10:37:09\",\"2023-05-08T10:48:33\",\"2023-05-08T10:56:38\",\"2023-05-08T11:01:34\",\"2023-05-08T11:11:37\",\"2023-05-08T11:21:37\",\"2023-05-08T14:22:04\",\"2023-05-08T14:29:20\",\"2023-05-08T14:39:51\",\"2023-05-08T14:47:47\",\"2023-05-08T14:54:23\",\"2023-05-09T11:23:13\",\"2023-05-09T11:32:55\",\"2023-05-10T12:44:54\",\"2023-05-11T09:21:04\",\"2023-05-11T09:33:10\",\"2023-05-11T09:44:29\",\"2023-05-13T07:41:44\",\"2023-05-13T08:11:27\",\"2023-05-13T08:19:40\",\"2023-05-13T08:29:27\",\"2023-05-13T08:50:24\",\"2023-05-13T09:00:38\",\"2023-05-13T10:24:26\",\"2023-05-13T11:41:04\",\"2023-05-13T11:49:01\",\"2023-05-13T12:42:22\",\"2023-05-13T12:51:06\",\"2023-05-14T10:59:08\",\"2023-05-14T11:07:34\",\"2023-05-16T09:05:52\",\"2023-05-18T09:20:18\",\"2023-05-18T09:28:41\",\"2023-05-18T15:25:34\",\"2023-05-18T15:35:35\",\"2023-05-18T15:39:41\",\"2023-05-21T07:58:19\",\"2023-05-21T08:06:24\",\"2023-05-22T07:50:00\",\"2023-05-22T07:59:01\",\"2023-05-22T08:39:09\",\"2023-05-24T10:06:54\",\"2023-05-24T10:45:54\",\"2023-05-24T10:56:26\",\"2023-05-25T11:38:41\",\"2023-05-25T11:46:07\",\"2023-05-25T12:24:37\",\"2023-05-25T12:37:43\",\"2023-05-25T12:45:49\",\"2023-05-25T12:55:57\",\"2023-05-25T14:20:56\",\"2023-05-25T14:25:27\",\"2023-05-25T14:32:16\",\"2023-05-25T19:54:28\",\"2023-05-26T10:30:57\",\"2023-05-26T12:13:40\",\"2023-05-26T16:13:11\",\"2023-05-27T10:04:58\",\"2023-05-27T10:31:30\",\"2023-05-27T10:43:01\",\"2023-05-27T18:47:56\",\"2023-05-27T18:57:32\",\"2023-05-27T19:06:21\",\"2023-05-27T19:16:02\",\"2023-05-27T19:19:15\",\"2023-05-27T19:29:50\",\"2023-05-27T19:38:25\",\"2023-05-30T09:17:23\",\"2023-05-30T09:36:17\",\"2023-05-31T09:10:43\",\"2023-05-31T09:56:42\",\"2023-05-31T10:07:22\",\"2023-05-31T10:13:53\",\"2023-06-02T08:42:11\",\"2023-06-02T08:54:26\",\"2023-06-02T09:03:19\",\"2023-06-02T09:14:14\",\"2023-06-02T11:41:50\",\"2023-06-03T10:05:11\",\"2023-06-03T10:21:44\",\"2023-06-03T16:24:44\",\"2023-06-04T10:31:17\",\"2023-06-04T10:40:26\",\"2023-06-04T16:53:25\",\"2023-06-04T16:57:13\",\"2023-06-05T14:35:28\",\"2023-06-05T14:45:49\",\"2023-06-06T07:52:05\",\"2023-06-06T07:55:49\",\"2023-06-06T08:01:35\",\"2023-06-09T13:58:52\",\"2023-06-10T08:25:54\",\"2023-06-10T08:31:33\",\"2023-06-10T12:34:40\",\"2023-06-10T12:37:40\",\"2023-06-10T12:47:23\",\"2023-06-10T12:54:53\",\"2023-06-12T17:27:39\",\"2023-06-12T17:38:58\",\"2023-06-12T17:46:56\",\"2023-06-12T17:53:24\",\"2023-06-12T21:56:44\",\"2023-06-13T10:16:07\",\"2023-06-13T10:19:29\",\"2023-06-13T10:27:26\",\"2023-06-14T15:33:16\",\"2023-06-14T15:42:32\",\"2023-06-14T15:50:08\",\"2023-06-14T16:02:15\",\"2023-06-15T10:52:58\",\"2023-06-15T11:01:24\",\"2023-06-15T11:25:45\",\"2023-06-15T11:35:21\",\"2023-06-17T09:43:47\",\"2023-06-17T09:52:36\",\"2023-06-17T10:23:01\",\"2023-06-17T10:29:46\",\"2023-06-17T10:35:36\",\"2023-06-17T10:43:25\",\"2023-06-17T10:59:51\",\"2023-06-17T11:10:11\",\"2023-06-17T11:40:33\",\"2023-06-17T13:48:52\",\"2023-06-17T13:55:22\",\"2023-06-18T11:20:42\",\"2023-06-18T11:29:49\",\"2023-06-18T11:37:24\",\"2023-06-18T11:45:41\",\"2023-06-20T07:58:35\",\"2023-06-20T08:06:43\",\"2023-06-21T12:17:07\",\"2023-06-21T12:22:46\",\"2023-06-21T12:30:47\",\"2023-06-21T12:39:08\",\"2023-06-21T12:46:02\",\"2023-06-21T13:40:16\",\"2023-06-22T09:13:24\",\"2023-06-22T09:16:12\",\"2023-06-22T09:34:20\",\"2023-06-22T09:52:20\",\"2023-06-23T08:22:24\",\"2023-06-23T08:30:40\",\"2023-06-23T08:56:48\",\"2023-06-24T07:35:13\",\"2023-06-24T07:37:41\",\"2023-06-24T07:48:25\",\"2023-06-24T10:14:03\",\"2023-06-24T10:21:27\",\"2023-06-24T10:30:51\",\"2023-06-24T12:51:48\",\"2023-06-24T12:58:47\",\"2023-06-27T13:05:11\",\"2023-06-27T13:09:58\",\"2023-06-28T05:52:29\",\"2023-06-28T05:59:48\",\"2023-06-29T08:27:31\",\"2023-06-29T08:35:31\",\"2023-06-29T11:21:15\",\"2023-06-29T11:29:07\",\"2023-06-30T09:17:11\",\"2023-06-30T09:23:56\",\"2023-06-30T09:30:25\",\"2023-06-30T09:51:58\",\"2023-06-30T10:23:35\",\"2023-06-30T10:41:26\",\"2023-06-30T10:56:09\",\"2023-06-30T13:50:15\",\"2023-06-30T14:00:27\",\"2023-06-30T14:03:03\",\"2023-06-30T14:13:18\",\"2023-06-30T14:20:49\",\"2023-06-30T14:29:47\",\"2023-07-02T06:38:53\",\"2023-07-02T06:47:47\",\"2023-07-02T07:29:15\",\"2023-07-02T07:32:31\",\"2023-07-02T07:44:37\",\"2023-07-02T07:55:30\",\"2023-07-02T10:31:26\",\"2023-07-02T10:35:40\",\"2023-07-02T10:41:51\",\"2023-07-02T10:54:03\",\"2023-07-02T11:06:29\",\"2023-07-02T12:00:21\",\"2023-07-02T12:06:17\",\"2023-07-02T12:16:04\",\"2023-07-02T12:28:40\",\"2023-07-02T12:37:35\",\"2023-07-02T12:43:26\",\"2023-07-02T12:45:52\",\"2023-07-02T12:56:38\",\"2023-07-03T12:04:09\",\"2023-07-03T12:08:10\",\"2023-07-03T12:11:05\",\"2023-07-03T12:19:53\",\"2023-07-04T09:05:21\",\"2023-07-04T09:15:10\",\"2023-07-04T09:25:08\",\"2023-07-05T13:03:07\",\"2023-07-05T14:33:13\",\"2023-07-05T14:45:10\",\"2023-07-05T14:53:19\",\"2023-07-05T14:56:25\",\"2023-07-06T09:34:28\",\"2023-07-06T09:38:44\",\"2023-07-06T09:44:46\",\"2023-07-06T09:48:14\",\"2023-07-06T09:58:43\",\"2023-07-06T10:01:39\",\"2023-07-06T13:34:00\",\"2023-07-06T13:42:44\",\"2023-07-06T13:54:46\",\"2023-07-07T08:58:08\",\"2023-07-07T09:04:48\",\"2023-07-09T11:34:31\",\"2023-07-09T11:35:36\",\"2023-07-09T11:45:11\",\"2023-07-09T11:50:19\",\"2023-07-09T11:59:40\",\"2023-07-10T09:26:11\",\"2023-07-10T09:33:08\",\"2023-07-10T15:38:36\",\"2023-07-20T20:54:22\",\"2023-07-20T21:03:05\",\"2023-07-20T21:12:33\",\"2023-07-21T07:38:00\",\"2023-07-21T07:41:48\",\"2023-07-21T07:46:39\",\"2023-07-21T07:58:57\",\"2023-07-21T08:09:52\",\"2023-07-21T09:06:23\",\"2023-07-21T09:25:01\",\"2023-07-21T09:35:22\",\"2023-07-21T10:09:10\",\"2023-07-21T10:17:12\",\"2023-07-21T10:24:12\",\"2023-07-21T10:27:00\",\"2023-07-21T10:35:15\",\"2023-07-21T10:42:02\",\"2023-07-21T16:19:30\",\"2023-07-21T16:27:48\",\"2023-07-21T16:38:13\",\"2023-07-21T16:48:12\",\"2023-07-21T19:06:26\",\"2023-07-21T19:13:38\",\"2023-07-21T20:14:57\",\"2023-07-22T07:04:42\",\"2023-07-22T07:12:59\",\"2023-07-22T10:53:39\",\"2023-07-22T11:02:43\",\"2023-07-22T11:07:12\",\"2023-07-22T11:14:43\",\"2023-07-23T09:34:07\",\"2023-07-23T09:42:57\",\"2023-07-23T09:50:35\",\"2023-07-23T10:01:14\",\"2023-07-23T18:10:55\",\"2023-07-23T18:17:42\",\"2023-07-23T18:26:34\",\"2023-07-23T18:36:52\",\"2023-07-24T06:50:21\",\"2023-07-24T12:03:31\",\"2023-07-24T12:18:54\",\"2023-07-24T14:17:48\",\"2023-07-25T09:18:06\",\"2023-07-25T14:16:34\",\"2023-07-25T14:25:00\",\"2023-07-25T15:26:19\",\"2023-07-25T15:37:44\",\"2023-07-25T15:50:57\",\"2023-07-25T16:07:11\",\"2023-07-25T16:10:45\",\"2023-07-25T16:20:45\",\"2023-07-25T16:32:07\",\"2023-07-25T16:46:25\",\"2023-07-25T16:55:08\",\"2023-07-26T06:36:49\",\"2023-07-26T06:45:26\",\"2023-07-26T07:09:26\",\"2023-07-26T08:17:43\",\"2023-07-26T08:32:47\",\"2023-07-26T11:41:25\",\"2023-07-26T11:51:38\",\"2023-07-26T14:24:56\",\"2023-07-27T06:50:43\",\"2023-07-27T07:00:26\",\"2023-07-27T07:15:59\",\"2023-07-27T12:13:19\",\"2023-07-27T12:19:42\",\"2023-07-27T18:00:56\",\"2023-07-27T18:11:39\",\"2023-07-27T18:22:18\",\"2023-07-28T06:34:59\",\"2023-07-28T06:38:10\",\"2023-07-28T06:50:38\",\"2023-07-28T06:56:59\",\"2023-07-28T08:43:54\",\"2023-07-28T08:46:40\",\"2023-07-28T15:06:21\",\"2023-07-28T15:08:40\",\"2023-07-28T15:17:14\",\"2023-07-30T09:02:12\",\"2023-07-30T09:13:51\",\"2023-07-30T09:21:23\",\"2023-07-30T19:14:49\",\"2023-07-30T19:24:08\",\"2023-07-31T07:09:47\",\"2023-07-31T07:15:15\",\"2023-07-31T15:37:20\",\"2023-08-04T06:17:09\",\"2023-08-04T06:25:36\",\"2023-08-04T06:33:57\",\"2023-08-04T06:39:09\",\"2023-08-05T12:40:35\",\"2023-09-05T10:54:47\",\"2023-09-05T17:37:03\",\"2023-09-05T17:44:02\",\"2023-09-05T17:51:26\",\"2023-09-05T18:01:01\",\"2023-09-06T08:23:38\",\"2023-09-06T08:32:51\",\"2023-09-06T08:40:01\",\"2023-09-06T08:46:39\",\"2023-09-06T08:50:01\",\"2023-09-06T08:58:13\",\"2023-09-07T08:37:12\",\"2023-09-07T08:47:59\",\"2023-09-07T08:58:07\",\"2023-09-07T09:01:50\",\"2023-09-07T09:04:25\",\"2023-09-07T09:10:22\",\"2023-09-07T14:19:54\",\"2023-09-07T17:53:25\",\"2023-09-07T18:03:39\",\"2023-09-07T18:08:10\",\"2023-09-08T13:49:43\",\"2023-09-08T13:54:07\",\"2023-09-08T14:02:31\",\"2023-09-10T09:35:28\",\"2023-09-10T09:48:06\",\"2023-09-10T11:44:40\",\"2023-09-10T11:52:51\",\"2023-09-10T12:01:40\",\"2023-09-10T12:11:16\",\"2023-09-10T12:19:41\",\"2023-09-10T12:27:59\",\"2023-09-10T13:41:58\",\"2023-09-10T14:31:59\",\"2023-09-10T14:34:09\",\"2023-09-10T14:42:17\",\"2023-09-10T14:51:29\",\"2023-09-10T14:59:15\",\"2023-09-11T09:49:31\",\"2023-09-11T09:56:01\",\"2023-09-11T10:03:34\",\"2023-09-11T10:10:49\",\"2023-09-12T18:32:23\",\"2023-09-12T18:40:14\",\"2023-09-12T18:51:50\",\"2023-09-12T18:54:35\",\"2023-09-12T19:03:01\",\"2023-09-13T17:38:35\",\"2023-09-13T17:49:24\",\"2023-09-13T17:59:42\",\"2023-09-13T18:10:45\",\"2023-09-13T18:21:52\",\"2023-09-13T18:25:11\",\"2023-09-14T08:57:04\",\"2023-09-14T09:01:53\",\"2023-09-14T09:10:47\",\"2023-09-14T09:20:53\",\"2023-09-16T17:39:02\",\"2023-09-16T17:39:53\",\"2023-09-16T17:45:05\",\"2023-09-16T17:53:08\",\"2023-09-16T17:56:04\",\"2023-09-19T11:40:40\",\"2023-09-21T09:56:50\",\"2023-09-21T10:07:54\",\"2023-09-21T10:21:03\",\"2023-09-21T10:25:03\",\"2023-09-21T12:00:05\",\"2023-09-22T09:47:32\",\"2023-09-22T09:56:25\",\"2023-09-22T09:59:43\",\"2023-09-22T10:04:19\",\"2023-09-26T10:48:24\",\"2023-09-26T10:53:55\",\"2023-09-26T11:04:31\",\"2023-09-26T11:06:28\",\"2023-09-26T11:15:08\",\"2023-09-28T20:30:30\",\"2023-09-28T20:33:09\",\"2023-09-29T08:30:09\",\"2023-09-29T08:39:12\",\"2023-10-01T14:51:17\",\"2023-10-02T19:00:24\",\"2023-10-02T19:09:53\",\"2023-10-02T19:15:59\",\"2023-10-02T19:25:32\",\"2023-10-03T12:24:40\",\"2023-10-03T12:29:02\",\"2023-10-03T12:40:08\",\"2023-10-03T12:48:22\",\"2023-10-03T12:57:44\",\"2023-10-03T19:06:49\",\"2023-10-03T19:14:27\",\"2023-10-03T19:22:50\",\"2023-10-03T19:32:19\",\"2023-10-03T19:39:44\",\"2023-10-04T16:05:44\",\"2023-10-04T16:10:26\",\"2023-10-04T16:15:28\",\"2023-10-04T16:21:00\",\"2023-10-04T16:28:38\",\"2023-10-04T16:38:12\",\"2023-10-04T16:46:18\",\"2023-10-04T16:48:01\",\"2023-10-05T16:29:15\",\"2023-10-05T16:38:06\",\"2023-10-05T16:46:27\",\"2023-10-05T16:55:44\",\"2023-10-06T06:57:56\",\"2023-10-07T10:09:49\",\"2023-10-07T10:16:46\",\"2023-10-07T10:25:23\",\"2023-10-07T10:29:22\",\"2023-10-07T10:38:06\",\"2023-10-07T10:41:54\",\"2023-10-07T10:52:02\",\"2023-10-08T07:14:55\",\"2023-10-08T07:22:36\",\"2023-10-08T07:28:43\",\"2023-10-08T07:35:00\",\"2023-10-08T07:41:48\",\"2023-10-09T12:50:39\",\"2023-10-09T19:37:52\",\"2023-10-10T12:31:09\",\"2023-10-10T12:36:08\",\"2023-10-10T12:39:30\",\"2023-10-10T12:44:31\",\"2023-10-10T18:57:14\",\"2023-10-11T10:51:05\",\"2023-10-11T11:02:30\",\"2023-10-11T11:10:46\",\"2023-10-11T11:20:58\",\"2023-10-11T14:51:15\",\"2023-10-11T14:55:48\",\"2023-10-11T15:06:34\",\"2023-10-12T08:11:45\",\"2023-10-12T08:19:05\",\"2023-10-12T08:26:32\",\"2023-10-12T12:30:58\",\"2023-10-12T12:39:57\",\"2023-10-14T18:37:04\",\"2023-10-14T18:46:00\",\"2023-10-14T18:52:44\",\"2023-10-15T12:16:34\",\"2023-10-15T12:21:44\",\"2023-10-15T12:35:29\",\"2023-10-15T12:39:18\",\"2023-10-15T13:51:50\",\"2023-10-15T14:00:22\",\"2023-10-15T14:05:23\",\"2023-10-15T16:34:08\",\"2023-10-15T16:42:46\",\"2023-10-18T21:07:55\",\"2023-10-18T21:13:53\",\"2023-10-18T21:20:55\",\"2023-10-20T20:02:56\",\"2023-10-20T20:11:43\",\"2023-10-20T20:21:37\",\"2023-10-20T20:28:11\",\"2023-10-22T08:46:22\",\"2023-10-22T08:55:41\",\"2023-10-22T09:00:19\",\"2023-10-23T18:45:26\",\"2023-10-25T07:50:35\",\"2023-10-26T08:59:41\",\"2023-10-26T17:54:36\",\"2023-10-31T12:44:55\",\"2023-10-31T12:47:47\",\"2023-10-31T12:51:23\",\"2023-10-31T12:58:31\",\"2023-10-31T13:10:18\",\"2023-10-31T13:18:33\",\"2023-10-31T13:23:57\",\"2023-11-01T06:54:24\",\"2023-11-01T07:04:00\",\"2023-11-02T08:05:31\",\"2023-11-02T08:10:33\",\"2023-11-02T19:51:18\",\"2023-11-04T15:14:02\",\"2023-11-04T15:17:35\",\"2023-11-21T15:11:14\",\"2023-11-24T19:07:09\",\"2023-12-02T12:59:33\",\"2023-12-02T13:02:17\",\"2023-12-02T13:10:38\",\"2023-12-02T13:12:28\",\"2023-12-07T12:53:07\",\"2023-12-07T13:00:16\",\"2023-12-07T13:19:16\",\"2023-12-13T14:17:51\",\"2023-12-15T15:59:12\",\"2023-12-15T16:08:21\",\"2023-12-15T16:12:25\",\"2023-12-15T16:14:03\",\"2023-12-15T16:20:30\",\"2023-12-15T16:26:53\",\"2023-12-16T14:59:39\",\"2023-12-16T15:11:26\",\"2023-12-16T15:23:22\",\"2023-12-16T20:53:21\",\"2023-12-16T20:59:12\",\"2023-12-16T21:06:48\",\"2023-12-19T13:29:15\",\"2023-12-20T11:12:34\",\"2023-12-20T11:17:34\",\"2023-12-20T11:22:06\",\"2023-12-20T11:28:33\",\"2023-12-21T19:29:48\",\"2023-12-21T19:36:14\",\"2023-12-21T19:43:28\",\"2023-12-21T20:31:13\",\"2023-12-22T14:08:13\",\"2023-12-22T14:17:33\",\"2023-12-22T14:21:46\",\"2023-12-22T20:04:09\",\"2023-12-22T20:14:49\",\"2023-12-23T08:03:27\",\"2023-12-23T08:10:15\",\"2023-12-23T08:14:26\",\"2023-12-25T06:12:37\",\"2023-12-25T06:17:55\",\"2023-12-25T06:27:08\",\"2023-12-30T13:22:43\",\"2023-12-30T13:28:48\",\"2023-12-30T13:36:39\",\"2023-12-30T13:52:38\",\"2023-12-30T13:57:51\",\"2023-12-30T14:07:54\",\"2023-12-30T14:17:42\",\"2023-12-30T14:28:23\",\"2023-12-30T14:39:10\",\"2023-12-31T10:12:17\",\"2023-12-31T10:22:14\",\"2023-12-31T10:23:07\",\"2023-12-31T10:29:56\",\"2023-12-31T10:34:40\",\"2023-12-31T15:48:24\",\"2023-12-31T15:51:56\",\"2024-01-01T10:06:24\",\"2024-01-01T10:10:47\",\"2024-01-01T10:16:11\",\"2024-01-01T10:21:34\",\"2024-01-01T10:23:59\",\"2024-01-01T10:27:04\",\"2024-01-01T10:30:55\",\"2024-01-01T10:36:43\",\"2024-01-01T10:42:21\",\"2024-01-01T10:45:52\",\"2024-01-01T10:49:50\",\"2024-01-01T10:54:48\",\"2024-01-01T19:18:48\",\"2024-01-01T19:24:31\",\"2024-01-01T19:27:04\",\"2024-01-01T19:37:37\",\"2024-01-01T19:45:18\",\"2024-01-01T19:50:24\",\"2024-01-04T09:05:47\",\"2024-01-05T17:18:26\",\"2024-01-05T17:21:03\",\"2024-01-05T19:47:41\",\"2024-01-07T09:00:24\",\"2024-01-07T09:05:17\",\"2024-01-12T21:32:56\",\"2024-01-12T21:38:34\",\"2024-01-12T21:47:25\",\"2024-01-12T21:55:24\",\"2024-01-12T22:04:40\",\"2024-01-13T16:32:29\",\"2024-01-13T19:21:12\",\"2024-01-14T19:19:14\",\"2024-01-17T13:35:41\",\"2024-01-17T13:39:11\",\"2024-01-17T13:49:06\",\"2024-01-17T13:58:12\",\"2024-01-17T14:27:30\",\"2024-01-17T18:36:59\",\"2024-01-17T18:45:49\",\"2024-01-17T18:52:27\",\"2024-01-17T18:59:33\",\"2024-01-17T19:08:04\",\"2024-01-17T19:13:35\",\"2024-01-17T19:16:19\",\"2024-01-18T09:31:21\",\"2024-01-18T09:34:58\",\"2024-01-18T13:42:55\",\"2024-01-18T13:47:42\",\"2024-01-18T13:53:05\",\"2024-01-18T13:57:58\",\"2024-01-18T13:59:12\",\"2024-01-18T14:05:51\",\"2024-01-18T14:15:11\",\"2024-01-18T14:21:21\",\"2024-01-18T16:53:03\",\"2024-01-19T09:54:59\",\"2024-01-19T10:12:13\",\"2024-01-19T10:14:38\",\"2024-01-20T12:49:51\",\"2024-01-20T13:02:16\",\"2024-01-20T19:11:47\",\"2024-01-20T19:16:58\",\"2024-01-20T19:25:26\",\"2024-01-21T14:51:23\",\"2024-01-21T16:17:31\",\"2024-01-21T16:23:06\",\"2024-01-21T16:37:05\",\"2024-01-21T16:43:11\",\"2024-01-22T15:15:27\",\"2024-01-22T15:27:58\",\"2024-01-22T15:38:05\",\"2024-01-22T15:52:47\",\"2024-01-22T16:00:07\",\"2024-01-22T16:09:05\",\"2024-01-22T16:15:15\",\"2024-01-22T16:25:30\",\"2024-01-22T16:47:09\",\"2024-01-22T16:54:51\",\"2024-01-23T19:44:45\",\"2024-01-23T19:55:06\",\"2024-01-23T20:06:34\",\"2024-01-23T20:10:26\",\"2024-01-23T20:18:43\",\"2024-01-23T20:21:41\",\"2024-01-25T19:33:34\",\"2024-01-29T11:26:24\",\"2024-02-01T13:45:35\",\"2024-02-03T19:29:01\",\"2024-02-03T19:36:19\",\"2024-02-03T19:39:34\",\"2024-02-03T19:40:09\",\"2024-02-03T19:48:26\",\"2024-02-03T19:55:49\",\"2024-02-04T18:26:15\",\"2024-02-04T18:32:33\",\"2024-02-04T18:34:34\",\"2024-02-04T18:42:30\",\"2024-02-04T18:45:16\",\"2024-02-04T18:52:53\",\"2024-02-04T18:59:12\",\"2024-02-04T19:03:59\",\"2024-02-04T19:06:13\",\"2024-02-04T19:08:54\",\"2024-02-04T19:15:08\",\"2024-02-04T19:24:01\",\"2024-02-05T15:07:40\",\"2024-02-05T15:16:31\",\"2024-02-06T12:59:33\",\"2024-02-06T13:05:55\",\"2024-02-07T14:34:52\",\"2024-02-07T14:38:23\",\"2024-02-07T14:42:36\",\"2024-02-07T14:51:25\",\"2024-02-07T15:00:04\",\"2024-02-07T19:55:53\",\"2024-02-07T20:03:22\",\"2024-02-07T20:11:53\",\"2024-02-08T14:35:05\",\"2024-02-08T14:40:42\",\"2024-02-08T14:47:00\",\"2024-02-08T14:52:32\",\"2024-02-08T15:03:08\",\"2024-02-08T15:08:28\",\"2024-02-08T15:16:39\",\"2024-02-08T15:29:17\",\"2024-02-08T15:38:25\",\"2024-02-08T15:47:24\",\"2024-02-08T15:50:44\",\"2024-02-08T16:05:28\",\"2024-02-08T16:17:02\",\"2024-02-09T09:24:10\",\"2024-02-09T09:33:06\",\"2024-02-09T09:36:27\",\"2024-02-09T09:37:13\",\"2024-02-09T09:45:51\",\"2024-02-09T09:53:48\",\"2024-02-09T09:57:47\",\"2024-02-09T10:06:31\",\"2024-02-09T12:47:11\",\"2024-02-09T12:52:42\",\"2024-02-09T12:57:24\",\"2024-02-09T13:02:20\",\"2024-02-09T13:11:45\",\"2024-02-09T13:18:26\",\"2024-02-09T13:28:56\",\"2024-02-09T13:41:25\",\"2024-02-17T14:42:17\",\"2024-02-17T14:42:34\",\"2024-02-17T14:48:08\",\"2024-02-17T15:01:50\",\"2024-02-17T15:10:24\",\"2024-03-01T09:13:35\",\"2024-03-01T15:21:01\",\"2024-03-04T21:27:03\",\"2024-03-04T21:34:33\",\"2024-03-04T21:45:15\",\"2024-03-07T10:48:37\",\"2024-03-07T10:55:09\",\"2024-03-17T22:14:45\",\"2024-03-22T11:51:13\",\"2024-03-25T20:12:34\",\"2024-03-27T09:03:54\",\"2024-03-27T09:11:45\",\"2024-04-02T18:19:53\",\"2024-04-02T18:27:33\",\"2024-04-06T08:51:53\",\"2024-04-06T09:30:56\",\"2024-04-06T09:35:21\",\"2024-04-06T09:38:06\",\"2024-04-06T09:45:17\",\"2024-04-06T09:45:50\",\"2024-04-06T13:44:40\",\"2024-04-07T17:46:31\",\"2024-04-07T17:55:26\",\"2024-04-07T17:59:44\",\"2024-04-08T10:18:40\",\"2024-04-08T10:29:30\",\"2024-04-08T10:35:09\",\"2024-04-08T10:41:07\",\"2024-04-08T10:49:57\",\"2024-04-08T10:58:48\",\"2024-04-08T11:07:35\",\"2024-04-15T11:38:30\",\"2024-04-15T11:46:56\",\"2024-04-21T13:19:39\",\"2024-04-23T22:50:38\",\"2024-04-23T23:00:35\",\"2024-04-24T07:54:58\",\"2024-04-24T10:35:37\",\"2024-04-26T08:01:58\",\"2024-04-26T08:08:40\",\"2024-04-26T08:18:02\",\"2024-04-26T08:23:57\",\"2024-04-28T14:04:58\",\"2024-05-02T21:07:29\",\"2024-05-02T21:15:15\",\"2024-05-21T19:23:58\",\"2024-05-21T19:32:59\",\"2024-05-21T19:42:10\",\"2024-06-02T10:29:04\",\"2024-06-13T18:07:29\",\"2024-06-19T19:52:35\",\"2024-06-19T20:01:03\",\"2024-06-25T15:55:07\",\"2024-06-25T17:08:11\",\"2024-06-25T17:11:17\",\"2024-06-25T17:19:25\",\"2024-06-25T17:28:04\",\"2024-06-25T17:33:17\",\"2024-06-25T17:41:42\",\"2024-06-25T17:49:49\",\"2024-06-25T17:58:34\",\"2024-06-27T14:22:03\",\"2024-06-27T14:33:51\",\"2024-07-01T14:38:35\",\"2024-07-01T14:44:06\",\"2024-07-01T14:55:29\",\"2024-07-01T15:02:03\",\"2024-07-01T15:11:03\",\"2024-07-02T17:57:33\",\"2024-07-05T16:53:11\",\"2024-07-08T11:51:38\",\"2024-07-08T12:07:58\",\"2024-07-08T12:15:44\",\"2024-07-08T12:25:01\",\"2024-07-08T12:27:43\",\"2024-07-08T12:36:25\",\"2024-07-08T12:47:13\",\"2024-07-10T17:40:08\",\"2024-07-10T17:47:52\",\"2024-07-13T12:31:16\",\"2024-07-13T12:39:45\",\"2024-08-01T16:28:32\",\"2024-08-01T16:37:51\",\"2024-08-01T16:47:04\",\"2024-08-01T16:53:31\",\"2024-08-02T14:32:51\",\"2024-08-02T14:35:03\",\"2024-08-03T13:25:46\",\"2024-08-03T13:35:36\",\"2024-08-03T13:46:49\",\"2024-08-03T13:54:45\",\"2024-08-04T17:30:44\",\"2024-08-04T17:38:16\",\"2024-08-04T17:45:10\",\"2024-08-04T17:48:06\",\"2024-08-04T17:54:39\",\"2024-08-04T19:14:13\",\"2024-08-04T21:47:57\",\"2024-08-04T21:55:05\",\"2024-08-04T22:03:04\",\"2024-08-04T22:11:57\",\"2024-08-04T22:23:18\",\"2024-08-04T22:28:09\",\"2024-08-07T17:54:00\",\"2024-08-07T17:57:40\",\"2024-08-10T13:55:24\",\"2024-08-10T14:02:15\",\"2024-08-10T14:10:27\",\"2024-08-10T14:17:16\",\"2024-08-10T14:24:31\",\"2024-08-10T14:28:45\",\"2024-08-10T16:55:30\",\"2024-08-10T17:00:31\",\"2024-08-12T12:55:19\",\"2024-08-12T13:03:02\",\"2024-08-12T13:07:40\",\"2024-08-12T13:18:12\",\"2024-08-12T13:25:03\",\"2024-08-12T14:27:41\",\"2024-08-12T14:30:52\",\"2024-08-12T14:37:00\",\"2024-08-12T14:38:03\",\"2024-08-12T14:41:50\",\"2024-08-12T14:44:59\",\"2024-08-12T14:49:48\",\"2024-08-12T16:46:29\",\"2024-08-12T16:54:42\",\"2024-08-12T17:05:41\",\"2024-08-12T18:34:41\",\"2024-08-12T18:41:12\",\"2024-08-12T18:49:12\",\"2024-08-12T19:11:58\",\"2024-08-12T19:14:48\",\"2024-08-12T19:22:35\",\"2024-08-12T19:30:41\",\"2024-08-13T12:12:16\",\"2024-08-13T12:16:26\",\"2024-08-13T12:21:01\",\"2024-08-17T12:47:47\",\"2024-08-17T12:56:35\",\"2024-08-17T13:02:06\",\"2024-08-17T13:10:02\",\"2024-08-17T13:11:25\",\"2024-08-17T13:21:52\",\"2024-08-17T13:28:20\",\"2024-08-17T14:06:00\",\"2024-08-17T14:10:11\",\"2024-08-24T15:07:24\",\"2024-08-24T15:14:25\",\"2024-08-24T15:23:02\",\"2024-08-24T15:27:56\",\"2024-08-24T15:30:15\",\"2024-08-24T20:55:57\",\"2024-08-24T21:03:43\",\"2024-08-24T21:08:21\",\"2024-08-24T21:16:33\",\"2024-08-26T13:17:50\",\"2024-08-26T13:21:30\",\"2024-08-26T13:30:32\",\"2024-08-26T13:31:40\",\"2024-08-26T13:37:45\",\"2024-08-26T13:41:05\",\"2024-08-26T13:46:59\",\"2024-08-26T13:54:37\",\"2024-08-26T13:58:29\",\"2024-08-26T14:07:06\",\"2024-08-26T19:54:45\",\"2024-08-26T19:57:15\",\"2024-08-26T20:01:05\",\"2024-08-26T20:09:18\",\"2024-08-26T20:12:33\",\"2024-08-28T15:11:08\",\"2024-08-28T15:18:15\",\"2024-08-28T15:30:32\",\"2024-08-28T15:37:06\",\"2024-08-28T15:41:21\",\"2024-08-28T15:46:46\",\"2024-08-28T15:49:34\",\"2024-08-28T15:54:27\",\"2024-08-28T22:04:04\",\"2024-08-28T22:12:45\",\"2024-08-28T22:20:06\",\"2024-08-28T22:25:35\",\"2024-08-28T22:36:11\",\"2024-08-28T22:43:21\",\"2024-08-29T21:55:32\",\"2024-08-29T22:03:29\",\"2024-08-29T22:05:19\",\"2024-08-29T22:12:23\",\"2024-08-29T22:18:45\",\"2024-08-29T22:29:54\",\"2024-08-29T22:38:09\",\"2024-08-29T22:43:05\",\"2024-08-29T22:45:37\",\"2024-08-29T22:52:11\",\"2024-08-29T22:56:24\",\"2024-08-29T23:04:45\",\"2024-08-29T23:14:20\",\"2024-08-30T18:01:49\",\"2024-08-30T18:13:20\",\"2024-08-30T18:24:32\",\"2024-08-30T18:32:42\",\"2024-08-30T18:43:07\",\"2024-08-31T19:52:15\",\"2024-08-31T19:57:12\",\"2024-08-31T20:06:24\",\"2024-08-31T20:13:09\",\"2024-08-31T20:23:22\",\"2024-08-31T20:30:29\",\"2024-08-31T20:36:27\",\"2024-08-31T20:45:22\",\"2024-08-31T20:51:25\",\"2024-08-31T20:51:55\",\"2024-08-31T20:58:41\",\"2024-09-04T19:11:40\",\"2024-09-04T19:14:42\",\"2024-09-04T19:22:34\",\"2024-09-04T19:29:21\",\"2024-09-04T19:39:08\",\"2024-09-04T19:45:17\",\"2024-09-04T19:52:31\",\"2024-09-04T20:02:36\",\"2024-09-05T09:13:23\",\"2024-09-05T09:21:45\",\"2024-09-05T09:24:44\",\"2024-09-05T09:29:09\",\"2024-09-05T09:38:47\",\"2024-09-05T16:42:07\",\"2024-09-05T16:50:18\",\"2024-09-05T16:54:57\",\"2024-09-05T16:58:30\",\"2024-09-05T17:04:37\",\"2024-09-05T17:12:42\",\"2024-09-05T17:22:22\",\"2024-09-07T12:53:58\",\"2024-09-07T12:54:33\",\"2024-09-07T12:59:50\",\"2024-09-07T13:09:18\",\"2024-09-07T13:16:35\",\"2024-09-07T13:19:55\",\"2024-09-07T13:23:31\",\"2024-09-07T13:32:33\",\"2024-09-07T13:41:13\",\"2024-09-07T13:56:53\",\"2024-09-07T14:06:50\",\"2024-09-07T14:17:34\",\"2024-09-07T14:21:52\",\"2024-09-07T14:28:51\",\"2024-09-07T14:31:45\",\"2024-09-07T14:35:52\",\"2024-09-07T14:42:09\",\"2024-09-07T14:50:26\",\"2024-09-07T14:57:03\",\"2024-09-07T15:04:51\",\"2024-09-07T15:06:12\",\"2024-09-07T15:15:35\",\"2024-09-07T15:24:32\",\"2024-09-07T15:36:03\",\"2024-09-07T15:38:36\",\"2024-09-07T15:51:51\",\"2024-09-07T20:59:18\",\"2024-09-07T21:05:24\",\"2024-09-07T21:13:47\",\"2024-09-07T21:18:05\",\"2024-09-07T21:22:46\",\"2024-09-07T21:32:42\",\"2024-09-07T21:37:53\",\"2024-09-09T21:24:00\",\"2024-09-09T21:31:14\",\"2024-09-09T21:36:56\",\"2024-09-09T21:43:26\",\"2024-09-09T21:51:34\",\"2024-09-09T21:53:55\",\"2024-09-09T21:58:06\",\"2024-09-09T22:04:46\",\"2024-09-09T22:10:29\",\"2024-09-09T22:18:20\",\"2024-09-09T22:25:38\",\"2024-09-09T22:36:24\",\"2024-09-09T22:42:53\",\"2024-09-09T22:50:03\",\"2024-09-09T22:53:11\",\"2024-09-10T17:16:08\",\"2024-09-10T17:26:53\",\"2024-09-10T17:33:23\",\"2024-09-10T17:42:45\",\"2024-09-10T17:50:38\",\"2024-09-10T17:53:01\",\"2024-09-10T18:00:55\",\"2024-09-10T18:09:49\",\"2024-09-10T18:16:22\",\"2024-09-10T18:25:53\",\"2024-09-10T18:33:02\",\"2024-09-10T18:55:55\",\"2024-09-10T18:59:41\",\"2024-09-10T19:08:45\",\"2024-09-10T19:12:45\",\"2024-09-10T19:20:57\",\"2024-09-10T19:30:24\",\"2024-09-10T19:38:22\",\"2024-09-10T19:43:43\",\"2024-09-10T19:48:32\",\"2024-09-10T19:58:56\",\"2024-09-11T07:32:32\",\"2024-09-11T07:36:20\",\"2024-09-11T07:39:46\",\"2024-09-11T07:48:30\",\"2024-09-11T07:55:27\",\"2024-09-11T08:02:45\",\"2024-09-12T10:46:12\",\"2024-09-12T10:49:06\",\"2024-09-12T10:59:51\",\"2024-09-12T11:04:43\",\"2024-09-12T11:10:42\",\"2024-09-12T11:13:37\",\"2024-09-12T12:39:41\",\"2024-09-12T12:43:56\",\"2024-09-12T12:50:24\",\"2024-09-12T12:58:08\",\"2024-09-12T13:09:27\",\"2024-09-12T13:13:22\",\"2024-09-12T13:21:05\",\"2024-09-12T13:27:24\",\"2024-09-12T13:44:23\",\"2024-09-12T13:52:08\",\"2024-09-12T14:03:38\",\"2024-09-15T07:17:07\",\"2024-09-17T13:24:50\",\"2024-09-26T08:57:19\",\"2024-09-26T09:14:27\",\"2024-09-26T09:18:49\",\"2024-09-27T11:05:48\",\"2024-09-27T11:14:59\",\"2024-10-02T08:08:54\",\"2024-10-02T19:07:55\",\"2024-10-08T08:42:53\",\"2024-10-10T08:09:38\",\"2024-10-10T08:12:12\",\"2024-10-15T12:11:13\",\"2024-10-17T08:06:43\",\"2024-10-20T22:18:57\",\"2024-10-31T06:31:08\",\"2024-10-31T07:57:02\",\"2024-10-31T08:06:49\",\"2024-10-31T08:24:05\",\"2024-10-31T11:15:43\",\"2024-10-31T11:21:23\",\"2024-10-31T21:02:22\",\"2024-10-31T21:09:29\",\"2024-10-31T21:18:56\",\"2024-11-01T11:30:03\",\"2024-11-02T13:19:07\",\"2024-11-02T20:08:24\",\"2024-11-04T16:16:45\",\"2024-11-04T16:24:35\",\"2024-11-05T12:26:54\",\"2024-11-07T08:20:06\",\"2024-11-12T19:27:18\",\"2024-11-12T19:39:29\",\"2024-11-26T20:16:41\",\"2024-11-30T18:37:17\",\"2024-11-30T18:54:29\",\"2024-12-03T10:03:35\",\"2024-12-07T08:40:02\",\"2024-12-11T14:20:39\",\"2024-12-11T14:30:16\",\"2024-12-11T14:33:34\",\"2024-12-11T14:42:03\",\"2024-12-11T14:45:26\",\"2024-12-11T14:50:10\",\"2024-12-11T15:00:12\",\"2024-12-11T18:20:57\",\"2024-12-11T18:25:10\",\"2024-12-11T18:26:16\",\"2024-12-11T18:30:37\",\"2024-12-12T20:26:08\",\"2024-12-12T20:36:06\",\"2024-12-27T17:17:05\",\"2024-12-27T17:22:48\",\"2024-12-27T18:51:17\",\"2024-12-28T16:41:38\",\"2024-12-28T18:19:28\",\"2024-12-29T20:26:59\",\"2024-12-30T12:51:34\",\"2024-12-30T13:03:46\",\"2025-01-09T14:58:31.913060\"],\"y\":[699.0,609.0,615.6666666666666,625.25,648.0,633.8,650.2,637.0,624.8,589.4,582.0,583.2,595.4,602.6,611.0,633.0,636.4,630.8,596.0,600.2,575.0,581.6,610.6,652.8,666.6,694.4,696.6,680.0,660.6,652.8,638.4,640.4,646.8,661.4,637.8,647.2,652.6,654.2,662.6,698.4,702.0,703.6,699.6,723.2,727.8,726.0,730.4,736.6,714.4,706.4,714.8,704.4,697.2,692.0,702.8,686.6,681.4,676.8,691.4,667.4,661.0,653.2,645.0,617.6,621.0,600.2,592.0,589.8,587.4,577.0,594.0,613.0,630.0,639.6,648.4,656.2,621.4,629.4,605.2,623.8,627.8,653.4,642.0,670.0,656.0,654.2,673.6,675.4,680.6,687.2,678.4,665.4,669.8,671.2,667.4,696.4,701.0,699.6,706.8,712.2,709.0,724.4,707.8,695.6,694.2,685.6,675.4,694.2,700.0,697.2,703.8,699.8,709.8,702.0,698.8,679.8,668.2,646.4,644.8,645.2,647.0,652.0,648.2,648.0,649.2,648.6,656.2,687.8,684.8,686.2,698.2,696.8,672.0,683.2,685.0,673.4,677.8,686.0,677.6,681.6,698.8,687.0,680.8,694.6,688.6,685.0,696.6,705.4,713.4,722.6,715.6,701.0,705.6,711.8,709.6,719.4,725.2,717.0,698.8,697.0,689.6,676.6,678.6,657.0,654.8,656.4,678.4,678.0,688.2,691.4,683.8,684.4,685.8,707.0,707.8,714.2,712.4,712.4,698.6,685.4,688.0,689.4,684.4,694.8,711.2,716.0,721.0,728.6,733.4,733.4,746.0,750.2,764.0,765.0,770.4,762.6,771.0,771.0,769.8,768.0,765.2,754.0,745.8,743.2,745.4,761.4,766.2,773.8,773.0,778.2,775.2,776.4,775.4,783.8,778.8,777.6,779.6,774.8,775.8,769.8,760.6,749.6,753.2,770.8,782.8,789.6,803.4,800.0,782.4,780.4,778.2,771.6,787.6,788.6,775.6,769.4,771.6,760.8,761.8,774.0,785.4,730.4,727.0,732.6,730.8,720.4,775.0,777.0,769.2,749.2,746.2,750.4,754.0,757.4,781.4,791.2,776.6,771.8,748.8,747.8,747.8,748.4,748.8,766.0,764.0,751.2,761.4,759.4,751.6,750.6,761.0,762.8,767.2,778.2,781.6,777.8,771.8,776.2,764.4,778.6,788.0,799.2,809.6,826.4,814.4,803.8,799.0,782.8,781.4,788.6,797.4,818.2,824.0,810.0,804.6,806.0,789.8,759.8,775.0,778.6,772.8,764.8,784.8,710.0,706.8,626.0,636.6,647.2,725.2,711.4,805.4,810.2,816.0,801.4,821.4,824.0,821.6,831.0,849.6,867.0,866.0,866.8,855.0,851.4,833.8,830.8,827.6,839.8,839.4,837.0,820.8,803.4,792.2,803.8,812.6,825.4,841.8,853.0,837.2,821.4,808.8,800.8,770.0,749.2,749.8,757.8,759.0,767.6,784.6,782.8,772.0,780.2,783.6,788.0,796.8,822.4,815.2,818.8,819.0,815.0,802.8,808.0,815.4,820.6,817.0,832.0,841.0,835.8,836.4,843.2,834.8,822.2,825.4,828.2,833.8,849.8,855.8,888.6,891.6,887.4,870.2,872.8,847.0,842.2,845.8,852.4,843.6,840.4,843.0,838.4,830.4,847.0,851.6,864.0,882.2,899.4,904.2,910.2,914.4,911.8,913.4,915.4,906.0,901.2,906.0,880.8,886.2,890.4,876.4,860.0,876.2,861.2,871.4,873.0,871.2,854.0,853.2,842.0,843.8,843.2,857.6,857.2,833.8,842.6,851.0,871.8,876.8,901.2,896.4,898.6,877.2,870.0,871.4,873.2,877.6,883.2,891.6,891.6,893.4,888.2,887.2,901.4,905.8,904.0,857.0,860.8,786.8,785.0,772.0,825.4,833.0,902.8,910.4,941.4,937.6,938.2,936.6,935.0,925.6,930.0,925.4,923.0,846.2,844.4,765.4,757.0,765.2,847.4,846.4,944.0,952.0,861.6,852.0,766.6,747.4,750.2,832.4,835.4,908.6,898.2,891.4,871.2,852.2,860.6,875.2,876.6,894.4,906.4,917.2,896.0,897.0,898.6,892.2,884.0,897.4,901.0,895.6,879.2,878.2,869.8,863.2,862.0,873.2,878.8,875.0,872.6,873.8,898.2,893.0,903.0,906.8,910.6,899.4,900.6,910.4,917.6,926.4,951.6,824.4,825.2,828.8,828.6,804.6,954.2,959.0,964.0,966.8,979.4,960.2,964.6,967.6,976.0,980.6,996.8,997.8,1004.0,1005.8,1022.2,1011.6,1017.0,1018.4,1015.8,982.6,996.4,1001.8,992.6,999.2,1022.2,1020.4,993.4,995.2,989.0,986.6,984.6,997.2,998.6,985.6,978.4,971.0,968.2,955.6,956.2,953.2,942.4,937.0,938.6,941.0,940.4,947.8,950.0,950.6,951.2,951.8,959.8,957.4,961.0,960.2,955.6,949.4,956.4,956.0,946.8,950.8,954.8,953.2,951.6,948.4,945.0,938.8,935.0,931.2,940.4,780.8,777.8,770.6,772.0,754.6,917.4,924.6,936.2,942.0,973.8,976.0,960.0,964.2,968.6,959.0,962.4,973.6,971.4,970.2,973.2,972.2,974.4,977.6,979.2,985.0,995.0,1000.2,1004.4,1014.8,1016.4,1013.6,1020.6,1019.2,1016.2,1013.2,1007.2,1001.4,994.2,986.8,1010.8,1005.8,1005.6,1011.6,1006.0,978.8,985.6,989.0,990.8,999.8,1005.0,1008.0,1017.4,1022.4,1021.6,1022.8,1027.4,1016.6,1008.6,1009.2,1005.2,994.6,982.6,983.6,982.2,983.2,978.2,991.6,996.2,997.2,1005.2,1018.6,1024.4,1029.4,1043.6,1045.2,1040.4,1042.0,1045.6,1038.4,1051.4,1060.4,1058.8,1059.8,1059.4,1052.0,1050.8,1053.2,889.4,887.4,765.0,760.6,753.6,907.2,902.6,1007.2,1022.6,1020.2,1009.4,1022.4,1027.4,999.2,1004.2,1015.0,1002.0,1015.0,1024.8,1038.0,1038.6,1042.4,1038.4,1040.2,1013.4,1005.6,1010.2,1007.8,1015.0,1030.8,1041.0,924.4,922.8,805.4,805.2,700.8,814.8,714.4,824.8,824.4,928.6,925.4,1026.2,1028.4,1024.6,1034.2,1027.2,1024.8,1016.4,1014.6,1000.2,907.8,904.8,910.2,888.2,888.6,994.2,994.2,990.2,1013.2,1015.4,1015.4,1020.6,1028.0,1029.2,1047.2,1055.6,1064.0,1057.0,1048.0,1020.4,994.6,977.2,975.2,975.2,973.4,961.4,955.8,941.6,939.8,924.4,938.6,923.8,935.8,942.8,959.6,950.8,970.8,971.0,973.2,983.0,997.8,1003.0,1017.0,1015.2,1009.8,1010.8,1006.2,989.4,986.0,991.8,988.8,987.6,1009.0,1006.8,998.4,1003.6,999.6,982.4,998.8,995.0,985.0,984.0,964.0,952.8,954.6,954.0,840.0,857.0,849.4,850.0,850.6,850.4,852.8,738.2,739.2,746.4,861.4,857.4,962.2,959.8,952.6,921.2,889.2,953.6,959.0,964.2,1000.8,1055.0,1007.8,1010.2,1019.6,1013.6,1003.0,1012.6,1013.2,1004.0,1026.4,1028.0,1017.8,1016.6,1008.8,1010.0,1008.0,1013.0,1010.6,1023.4,1011.0,1003.4,1004.4,1016.8,1016.4,1017.4,1025.0,1026.0,1022.2,1023.4,1025.4,1022.4,992.4,993.0,1014.2,1011.6,1032.4,1057.6,927.6,901.8,774.8,756.0,631.2,755.4,634.2,757.4,754.2,845.4,825.6,940.6,935.0,932.2,844.2,858.4,742.4,742.8,743.8,853.0,851.6,969.8,964.6,979.8,985.8,991.8,996.4,1008.8,993.6,1002.2,999.4,1000.8,1013.2,1020.6,1025.2,1036.0,1038.4,1031.0,937.6,856.4,831.2,849.6,848.0,941.4,1019.6,1033.0,1031.6,905.2,907.0,780.6,781.2,767.0,898.0,904.0,1040.8,1057.6,1057.4,1055.6,1050.6,913.6,906.2,775.8,774.2,645.2,773.4,644.0,772.6,642.8,641.8,641.8,640.8,640.8,639.8,769.8,638.6,769.0,645.4,766.8,763.4,893.0,892.6,1004.8,1012.6,1017.0,1020.6,1034.2,1051.4,1053.2,1051.6,1047.0,1032.8,1033.0,909.0,907.6,786.0,785.4,654.8,777.4,654.4,777.4,789.0,909.4,893.0,1013.4,1008.6,994.0,990.6,1002.0,1002.4,1014.2,1012.2,990.2,986.2,979.0,944.0,939.0,954.2,956.0,958.8,979.4,983.0,983.4,984.4,972.0,976.8,972.2,975.4,971.2,981.2,975.6,977.4,979.0,1008.0,1010.0,1016.0,1022.8,1021.4,992.2,879.4,873.2,860.8,864.8,865.4,977.4,965.2,972.6,974.6,977.8,979.6,1000.4,998.6,994.0,992.8,987.6,974.0,862.6,853.8,749.2,739.2,736.4,840.6,840.6,933.4,937.4,933.8,933.8,932.4,904.8,903.4,905.4,906.0,891.4,937.4,940.2,844.8,845.0,863.6,838.0,840.0,948.8,950.6,936.8,949.4,851.4,836.6,833.6,843.4,844.4,939.8,941.8,944.6,942.2,922.8,918.2,917.8,912.6,912.0,946.6,945.8,944.4,940.2,942.2,922.8,928.0,932.6,950.4,957.4,961.0,935.8,939.0,934.2,935.2,932.6,971.4,973.2,973.0,971.6,974.0,966.8,962.2,960.6,962.2,967.0,970.0,977.6,977.6,982.2,982.2,982.6,984.2,990.6,991.6,999.0,1002.2,1004.2,1004.8,1004.0,1000.0,1002.4,998.8,995.2,1002.8,996.6,985.6,985.8,984.4,969.4,971.0,975.0,976.8,975.4,974.4,973.0,969.8,963.8,965.2,972.8,972.8,962.8,964.8,965.0,859.2,861.2,769.8,768.6,664.6,768.2,663.0,767.8,661.4,767.4,766.6,870.2,867.8,972.2,971.0,864.2,859.8,760.4,756.4,654.6,756.2,660.0,755.8,756.6,856.4,855.0,956.8,956.8,955.4,953.4,957.0,955.8,957.6,962.4,966.2,948.8,956.4,959.6,963.0,960.8,979.8,970.8,964.8,958.2,962.0,962.6,964.4,867.2,871.0,765.4,765.8,662.4,765.4,661.0,765.2,660.0,765.4,659.4,765.8,659.0,766.2,658.6,766.6,658.2,657.2,658.2,769.4,769.6,879.6,991.0,992.6,989.0,994.2,997.2,1000.6,1006.6,1013.2,1010.4,1018.0,1014.8,1005.8,1000.8,1008.0,1000.4,997.8,1004.2,1011.0,1012.4,1019.2,1029.0,1034.2,1036.2,1036.4,1042.2,1040.4,1040.2,1041.8,1047.2,1041.8,1043.6,1044.0,1043.2,1039.6,1038.8,1040.4,1046.0,1045.0,1038.0,1032.4,1026.0,1015.8,1009.8,1006.4,1005.6,1002.4,1000.0,998.2,994.4,991.8,993.4,990.6,991.8,988.4,992.4,996.2,1005.4,1009.8,1022.6,1038.2,1044.6,1048.2,1053.6,1059.6,1051.6,1054.4,1056.4,1061.2,1065.4,1069.6,1070.0,1071.0,1071.0,1073.8,1075.4,1078.8,1083.6,1085.8,1089.8,1117.4,1120.8,1131.2,1135.8,1129.0,1099.4,1091.6,1073.2,1064.8,1065.6,1061.0,1059.2,1061.6,1055.2,1050.8,1055.4,1061.0,1064.6,1070.4,1074.4,1079.2,1076.0,1081.0,1099.4,1105.6,1133.2,1142.8,1145.4,1141.2,1141.6,1118.2,1116.6,1130.4,1116.8,1105.2,1100.4,1098.8,1074.4,1073.8,1080.2,1081.4,1079.2,1083.8,1084.4,1085.2,1083.2,1084.6,1083.2,1089.0,1086.2,1092.8,1094.0,1095.8,1087.0,1074.6,1063.6,1054.8,1050.4,1051.4,1064.2,1062.4,1063.8,1059.0,1060.8,1057.2,1058.6,1060.0,1065.0,1063.6,1070.0,1079.2,1067.2,1072.6,1067.8,1072.8,1078.6,1112.0,1117.6,1135.8,1140.4,1132.8,1132.8],\"type\":\"scatter\"}],                        {\"template\":{\"data\":{\"histogram2dcontour\":[{\"type\":\"histogram2dcontour\",\"colorbar\":{\"outlinewidth\":0,\"ticks\":\"\"},\"colorscale\":[[0.0,\"#0d0887\"],[0.1111111111111111,\"#46039f\"],[0.2222222222222222,\"#7201a8\"],[0.3333333333333333,\"#9c179e\"],[0.4444444444444444,\"#bd3786\"],[0.5555555555555556,\"#d8576b\"],[0.6666666666666666,\"#ed7953\"],[0.7777777777777778,\"#fb9f3a\"],[0.8888888888888888,\"#fdca26\"],[1.0,\"#f0f921\"]]}],\"choropleth\":[{\"type\":\"choropleth\",\"colorbar\":{\"outlinewidth\":0,\"ticks\":\"\"}}],\"histogram2d\":[{\"type\":\"histogram2d\",\"colorbar\":{\"outlinewidth\":0,\"ticks\":\"\"},\"colorscale\":[[0.0,\"#0d0887\"],[0.1111111111111111,\"#46039f\"],[0.2222222222222222,\"#7201a8\"],[0.3333333333333333,\"#9c179e\"],[0.4444444444444444,\"#bd3786\"],[0.5555555555555556,\"#d8576b\"],[0.6666666666666666,\"#ed7953\"],[0.7777777777777778,\"#fb9f3a\"],[0.8888888888888888,\"#fdca26\"],[1.0,\"#f0f921\"]]}],\"heatmap\":[{\"type\":\"heatmap\",\"colorbar\":{\"outlinewidth\":0,\"ticks\":\"\"},\"colorscale\":[[0.0,\"#0d0887\"],[0.1111111111111111,\"#46039f\"],[0.2222222222222222,\"#7201a8\"],[0.3333333333333333,\"#9c179e\"],[0.4444444444444444,\"#bd3786\"],[0.5555555555555556,\"#d8576b\"],[0.6666666666666666,\"#ed7953\"],[0.7777777777777778,\"#fb9f3a\"],[0.8888888888888888,\"#fdca26\"],[1.0,\"#f0f921\"]]}],\"heatmapgl\":[{\"type\":\"heatmapgl\",\"colorbar\":{\"outlinewidth\":0,\"ticks\":\"\"},\"colorscale\":[[0.0,\"#0d0887\"],[0.1111111111111111,\"#46039f\"],[0.2222222222222222,\"#7201a8\"],[0.3333333333333333,\"#9c179e\"],[0.4444444444444444,\"#bd3786\"],[0.5555555555555556,\"#d8576b\"],[0.6666666666666666,\"#ed7953\"],[0.7777777777777778,\"#fb9f3a\"],[0.8888888888888888,\"#fdca26\"],[1.0,\"#f0f921\"]]}],\"contourcarpet\":[{\"type\":\"contourcarpet\",\"colorbar\":{\"outlinewidth\":0,\"ticks\":\"\"}}],\"contour\":[{\"type\":\"contour\",\"colorbar\":{\"outlinewidth\":0,\"ticks\":\"\"},\"colorscale\":[[0.0,\"#0d0887\"],[0.1111111111111111,\"#46039f\"],[0.2222222222222222,\"#7201a8\"],[0.3333333333333333,\"#9c179e\"],[0.4444444444444444,\"#bd3786\"],[0.5555555555555556,\"#d8576b\"],[0.6666666666666666,\"#ed7953\"],[0.7777777777777778,\"#fb9f3a\"],[0.8888888888888888,\"#fdca26\"],[1.0,\"#f0f921\"]]}],\"surface\":[{\"type\":\"surface\",\"colorbar\":{\"outlinewidth\":0,\"ticks\":\"\"},\"colorscale\":[[0.0,\"#0d0887\"],[0.1111111111111111,\"#46039f\"],[0.2222222222222222,\"#7201a8\"],[0.3333333333333333,\"#9c179e\"],[0.4444444444444444,\"#bd3786\"],[0.5555555555555556,\"#d8576b\"],[0.6666666666666666,\"#ed7953\"],[0.7777777777777778,\"#fb9f3a\"],[0.8888888888888888,\"#fdca26\"],[1.0,\"#f0f921\"]]}],\"mesh3d\":[{\"type\":\"mesh3d\",\"colorbar\":{\"outlinewidth\":0,\"ticks\":\"\"}}],\"scatter\":[{\"fillpattern\":{\"fillmode\":\"overlay\",\"size\":10,\"solidity\":0.2},\"type\":\"scatter\"}],\"parcoords\":[{\"type\":\"parcoords\",\"line\":{\"colorbar\":{\"outlinewidth\":0,\"ticks\":\"\"}}}],\"scatterpolargl\":[{\"type\":\"scatterpolargl\",\"marker\":{\"colorbar\":{\"outlinewidth\":0,\"ticks\":\"\"}}}],\"bar\":[{\"error_x\":{\"color\":\"#2a3f5f\"},\"error_y\":{\"color\":\"#2a3f5f\"},\"marker\":{\"line\":{\"color\":\"#E5ECF6\",\"width\":0.5},\"pattern\":{\"fillmode\":\"overlay\",\"size\":10,\"solidity\":0.2}},\"type\":\"bar\"}],\"scattergeo\":[{\"type\":\"scattergeo\",\"marker\":{\"colorbar\":{\"outlinewidth\":0,\"ticks\":\"\"}}}],\"scatterpolar\":[{\"type\":\"scatterpolar\",\"marker\":{\"colorbar\":{\"outlinewidth\":0,\"ticks\":\"\"}}}],\"histogram\":[{\"marker\":{\"pattern\":{\"fillmode\":\"overlay\",\"size\":10,\"solidity\":0.2}},\"type\":\"histogram\"}],\"scattergl\":[{\"type\":\"scattergl\",\"marker\":{\"colorbar\":{\"outlinewidth\":0,\"ticks\":\"\"}}}],\"scatter3d\":[{\"type\":\"scatter3d\",\"line\":{\"colorbar\":{\"outlinewidth\":0,\"ticks\":\"\"}},\"marker\":{\"colorbar\":{\"outlinewidth\":0,\"ticks\":\"\"}}}],\"scattermapbox\":[{\"type\":\"scattermapbox\",\"marker\":{\"colorbar\":{\"outlinewidth\":0,\"ticks\":\"\"}}}],\"scatterternary\":[{\"type\":\"scatterternary\",\"marker\":{\"colorbar\":{\"outlinewidth\":0,\"ticks\":\"\"}}}],\"scattercarpet\":[{\"type\":\"scattercarpet\",\"marker\":{\"colorbar\":{\"outlinewidth\":0,\"ticks\":\"\"}}}],\"carpet\":[{\"aaxis\":{\"endlinecolor\":\"#2a3f5f\",\"gridcolor\":\"white\",\"linecolor\":\"white\",\"minorgridcolor\":\"white\",\"startlinecolor\":\"#2a3f5f\"},\"baxis\":{\"endlinecolor\":\"#2a3f5f\",\"gridcolor\":\"white\",\"linecolor\":\"white\",\"minorgridcolor\":\"white\",\"startlinecolor\":\"#2a3f5f\"},\"type\":\"carpet\"}],\"table\":[{\"cells\":{\"fill\":{\"color\":\"#EBF0F8\"},\"line\":{\"color\":\"white\"}},\"header\":{\"fill\":{\"color\":\"#C8D4E3\"},\"line\":{\"color\":\"white\"}},\"type\":\"table\"}],\"barpolar\":[{\"marker\":{\"line\":{\"color\":\"#E5ECF6\",\"width\":0.5},\"pattern\":{\"fillmode\":\"overlay\",\"size\":10,\"solidity\":0.2}},\"type\":\"barpolar\"}],\"pie\":[{\"automargin\":true,\"type\":\"pie\"}]},\"layout\":{\"autotypenumbers\":\"strict\",\"colorway\":[\"#636efa\",\"#EF553B\",\"#00cc96\",\"#ab63fa\",\"#FFA15A\",\"#19d3f3\",\"#FF6692\",\"#B6E880\",\"#FF97FF\",\"#FECB52\"],\"font\":{\"color\":\"#2a3f5f\"},\"hovermode\":\"closest\",\"hoverlabel\":{\"align\":\"left\"},\"paper_bgcolor\":\"white\",\"plot_bgcolor\":\"#E5ECF6\",\"polar\":{\"bgcolor\":\"#E5ECF6\",\"angularaxis\":{\"gridcolor\":\"white\",\"linecolor\":\"white\",\"ticks\":\"\"},\"radialaxis\":{\"gridcolor\":\"white\",\"linecolor\":\"white\",\"ticks\":\"\"}},\"ternary\":{\"bgcolor\":\"#E5ECF6\",\"aaxis\":{\"gridcolor\":\"white\",\"linecolor\":\"white\",\"ticks\":\"\"},\"baxis\":{\"gridcolor\":\"white\",\"linecolor\":\"white\",\"ticks\":\"\"},\"caxis\":{\"gridcolor\":\"white\",\"linecolor\":\"white\",\"ticks\":\"\"}},\"coloraxis\":{\"colorbar\":{\"outlinewidth\":0,\"ticks\":\"\"}},\"colorscale\":{\"sequential\":[[0.0,\"#0d0887\"],[0.1111111111111111,\"#46039f\"],[0.2222222222222222,\"#7201a8\"],[0.3333333333333333,\"#9c179e\"],[0.4444444444444444,\"#bd3786\"],[0.5555555555555556,\"#d8576b\"],[0.6666666666666666,\"#ed7953\"],[0.7777777777777778,\"#fb9f3a\"],[0.8888888888888888,\"#fdca26\"],[1.0,\"#f0f921\"]],\"sequentialminus\":[[0.0,\"#0d0887\"],[0.1111111111111111,\"#46039f\"],[0.2222222222222222,\"#7201a8\"],[0.3333333333333333,\"#9c179e\"],[0.4444444444444444,\"#bd3786\"],[0.5555555555555556,\"#d8576b\"],[0.6666666666666666,\"#ed7953\"],[0.7777777777777778,\"#fb9f3a\"],[0.8888888888888888,\"#fdca26\"],[1.0,\"#f0f921\"]],\"diverging\":[[0,\"#8e0152\"],[0.1,\"#c51b7d\"],[0.2,\"#de77ae\"],[0.3,\"#f1b6da\"],[0.4,\"#fde0ef\"],[0.5,\"#f7f7f7\"],[0.6,\"#e6f5d0\"],[0.7,\"#b8e186\"],[0.8,\"#7fbc41\"],[0.9,\"#4d9221\"],[1,\"#276419\"]]},\"xaxis\":{\"gridcolor\":\"white\",\"linecolor\":\"white\",\"ticks\":\"\",\"title\":{\"standoff\":15},\"zerolinecolor\":\"white\",\"automargin\":true,\"zerolinewidth\":2},\"yaxis\":{\"gridcolor\":\"white\",\"linecolor\":\"white\",\"ticks\":\"\",\"title\":{\"standoff\":15},\"zerolinecolor\":\"white\",\"automargin\":true,\"zerolinewidth\":2},\"scene\":{\"xaxis\":{\"backgroundcolor\":\"#E5ECF6\",\"gridcolor\":\"white\",\"linecolor\":\"white\",\"showbackground\":true,\"ticks\":\"\",\"zerolinecolor\":\"white\",\"gridwidth\":2},\"yaxis\":{\"backgroundcolor\":\"#E5ECF6\",\"gridcolor\":\"white\",\"linecolor\":\"white\",\"showbackground\":true,\"ticks\":\"\",\"zerolinecolor\":\"white\",\"gridwidth\":2},\"zaxis\":{\"backgroundcolor\":\"#E5ECF6\",\"gridcolor\":\"white\",\"linecolor\":\"white\",\"showbackground\":true,\"ticks\":\"\",\"zerolinecolor\":\"white\",\"gridwidth\":2}},\"shapedefaults\":{\"line\":{\"color\":\"#2a3f5f\"}},\"annotationdefaults\":{\"arrowcolor\":\"#2a3f5f\",\"arrowhead\":0,\"arrowwidth\":1},\"geo\":{\"bgcolor\":\"white\",\"landcolor\":\"#E5ECF6\",\"subunitcolor\":\"white\",\"showland\":true,\"showlakes\":true,\"lakecolor\":\"white\"},\"title\":{\"x\":0.05},\"mapbox\":{\"style\":\"light\"}}},\"title\":{\"text\":\"Blitz Rating Trends Over Time (Smoothed)\"},\"xaxis\":{\"rangeslider\":{\"visible\":true},\"title\":{\"text\":\"Date\"},\"type\":\"date\",\"rangeselector\":{\"buttons\":[{\"count\":1,\"label\":\"1m\",\"step\":\"month\",\"stepmode\":\"backward\"},{\"count\":6,\"label\":\"6m\",\"step\":\"month\",\"stepmode\":\"backward\"},{\"count\":1,\"label\":\"1y\",\"step\":\"year\",\"stepmode\":\"backward\"},{\"step\":\"all\"}]},\"showspikes\":true,\"spikecolor\":\"purple\",\"spikesnap\":\"cursor\",\"spikemode\":\"across\"},\"yaxis\":{\"title\":{\"text\":\"Rating\"},\"showspikes\":true,\"spikecolor\":\"orange\",\"spikethickness\":2},\"plot_bgcolor\":\"rgba(255, 255, 255, 0.8)\",\"paper_bgcolor\":\"rgba(255, 255, 255, 0.8)\"},                        {\"responsive\": true}                    ).then(function(){\n",
       "                            \n",
       "var gd = document.getElementById('e6efcd00-c6cb-4572-aac8-ae0886a4fca1');\n",
       "var x = new MutationObserver(function (mutations, observer) {{\n",
       "        var display = window.getComputedStyle(gd).display;\n",
       "        if (!display || display === 'none') {{\n",
       "            console.log([gd, 'removed!']);\n",
       "            Plotly.purge(gd);\n",
       "            observer.disconnect();\n",
       "        }}\n",
       "}});\n",
       "\n",
       "// Listen for the removal of the full notebook cells\n",
       "var notebookContainer = gd.closest('#notebook-container');\n",
       "if (notebookContainer) {{\n",
       "    x.observe(notebookContainer, {childList: true});\n",
       "}}\n",
       "\n",
       "// Listen for the clearing of the current output cell\n",
       "var outputEl = gd.closest('.output');\n",
       "if (outputEl) {{\n",
       "    x.observe(outputEl, {childList: true});\n",
       "}}\n",
       "\n",
       "                        })                };                });            </script>        </div>"
      ]
     },
     "metadata": {},
     "output_type": "display_data"
    },
    {
     "data": {
      "application/vnd.plotly.v1+json": {
       "config": {
        "plotlyServerURL": "https://plot.ly"
       },
       "data": [
        {
         "hovertemplate": "Rating: %{y}<br>Date: %{x}",
         "marker": {
          "color": "skyblue",
          "size": 5
         },
         "mode": "lines+markers",
         "name": "Bullet Rating",
         "type": "scatter",
         "x": [
          "2023-02-23T08:47:19",
          "2023-02-23T08:50:00",
          "2023-07-31T15:51:14",
          "2023-07-31T15:58:40",
          "2023-07-31T16:05:24",
          "2023-07-31T16:09:17",
          "2023-07-31T16:15:20",
          "2023-07-31T16:20:23",
          "2023-07-31T16:26:28",
          "2023-07-31T16:31:44",
          "2023-07-31T16:36:48",
          "2023-07-31T16:42:59",
          "2023-07-31T16:55:04",
          "2023-07-31T16:59:52",
          "2023-07-31T17:04:01",
          "2023-07-31T17:07:32",
          "2023-07-31T17:09:30",
          "2023-08-02T06:39:08",
          "2023-08-02T06:43:04",
          "2023-08-02T06:45:41",
          "2023-08-02T06:47:54",
          "2023-08-02T06:53:01",
          "2023-08-02T06:57:29",
          "2023-08-02T07:01:15",
          "2023-08-02T07:04:27",
          "2023-08-02T07:07:42",
          "2023-08-02T07:11:17",
          "2023-08-02T07:14:14",
          "2023-08-02T07:17:23",
          "2023-08-02T18:12:09",
          "2023-08-02T18:17:38",
          "2023-08-02T18:23:55",
          "2023-08-02T18:30:19",
          "2023-08-02T18:33:45",
          "2023-08-02T18:38:20",
          "2023-08-02T18:44:50",
          "2023-08-02T18:51:33",
          "2023-08-02T18:54:58",
          "2023-08-02T19:01:46",
          "2023-08-02T19:07:13",
          "2023-08-02T19:11:25",
          "2023-08-02T19:17:56",
          "2023-08-03T09:11:57",
          "2023-08-04T08:13:53",
          "2023-08-04T08:23:28",
          "2023-08-04T08:28:31",
          "2023-08-04T08:32:52",
          "2023-08-04T08:36:38",
          "2023-08-04T19:34:03",
          "2023-08-04T19:39:20",
          "2023-08-04T19:47:35",
          "2023-08-05T12:17:14",
          "2023-08-05T12:23:30",
          "2023-08-05T12:29:31",
          "2023-08-05T12:35:29",
          "2023-08-06T07:27:45",
          "2023-08-06T07:41:59",
          "2023-08-06T07:49:22",
          "2023-08-06T17:51:06",
          "2023-08-06T17:57:05",
          "2023-08-06T18:02:27",
          "2023-08-06T18:10:32",
          "2023-08-06T18:16:21",
          "2023-08-06T18:24:05",
          "2023-08-07T06:10:46",
          "2023-08-07T06:17:31",
          "2023-08-07T06:20:22",
          "2023-09-05T14:13:16",
          "2023-09-05T14:19:36",
          "2023-09-05T14:24:56",
          "2023-09-05T14:30:52",
          "2023-09-05T14:37:11",
          "2023-09-05T14:41:45",
          "2023-09-05T14:47:27",
          "2023-09-05T14:52:59",
          "2023-09-05T14:58:01",
          "2023-09-05T15:02:55",
          "2023-09-05T15:07:07",
          "2023-09-05T15:08:29",
          "2023-09-05T15:13:28",
          "2023-09-05T15:18:45",
          "2023-09-16T17:30:22",
          "2023-10-15T16:47:43",
          "2023-10-15T16:50:46",
          "2023-10-15T16:54:12",
          "2023-10-15T16:56:59",
          "2023-10-15T16:59:22",
          "2023-10-15T17:02:44",
          "2023-10-15T17:12:59",
          "2023-10-15T17:16:34",
          "2023-10-15T17:20:29",
          "2023-10-15T17:20:59",
          "2023-10-15T17:24:53",
          "2023-10-15T17:28:15",
          "2023-10-15T17:32:55",
          "2023-10-17T09:39:55",
          "2023-10-17T09:46:41",
          "2023-10-17T09:50:02",
          "2023-10-17T09:53:50",
          "2023-10-17T09:57:35",
          "2023-10-17T10:01:34",
          "2023-10-17T10:05:34",
          "2023-10-17T10:09:48",
          "2023-10-17T10:13:43",
          "2023-10-17T10:15:37",
          "2023-10-20T20:32:03",
          "2023-10-20T20:35:07",
          "2023-10-27T20:14:03",
          "2023-11-04T15:20:50",
          "2023-11-04T15:24:19",
          "2023-11-04T15:26:06",
          "2023-11-04T15:27:08",
          "2023-11-04T15:32:15",
          "2023-11-04T15:37:56",
          "2023-11-04T15:41:57",
          "2023-11-04T15:45:29",
          "2023-11-04T15:47:19",
          "2023-11-04T15:50:05",
          "2023-11-04T20:24:57",
          "2023-11-04T20:28:41",
          "2023-11-04T20:33:04",
          "2023-11-04T20:35:58",
          "2023-11-04T20:40:32",
          "2023-11-04T20:47:11",
          "2023-11-04T20:53:37",
          "2023-11-04T20:57:41",
          "2023-11-04T20:59:50",
          "2023-11-04T21:03:15",
          "2023-11-04T21:07:44",
          "2023-11-04T21:11:08",
          "2023-11-05T08:13:13",
          "2023-11-05T08:17:21",
          "2023-11-05T08:21:18",
          "2023-11-05T08:35:29",
          "2023-11-05T08:39:42",
          "2023-11-05T12:26:28",
          "2023-11-05T12:29:40",
          "2023-11-05T12:33:17",
          "2023-11-05T12:35:11",
          "2023-11-05T12:37:31",
          "2023-11-05T12:39:57",
          "2023-11-05T12:43:17",
          "2023-11-05T12:46:12",
          "2023-11-05T12:49:48",
          "2023-11-05T12:54:33",
          "2023-11-05T15:16:04",
          "2023-11-05T15:19:25",
          "2023-11-05T15:21:59",
          "2023-11-05T15:26:49",
          "2023-11-05T15:30:50",
          "2023-11-05T15:35:49",
          "2023-11-05T15:41:06",
          "2023-11-07T11:28:47",
          "2023-11-07T11:33:13",
          "2023-11-07T11:46:04",
          "2023-11-07T11:49:39",
          "2023-11-07T11:50:40",
          "2023-11-07T11:52:14",
          "2023-11-07T11:55:13",
          "2023-11-07T13:20:59",
          "2023-11-07T13:21:39",
          "2023-11-07T13:25:20",
          "2023-11-07T13:29:23",
          "2023-11-09T08:17:44",
          "2023-11-09T08:21:33",
          "2023-11-09T08:24:39",
          "2023-11-09T09:53:24",
          "2023-11-09T09:57:29",
          "2023-11-11T16:41:09",
          "2023-11-11T16:45:13",
          "2023-11-11T16:49:09",
          "2023-11-11T16:53:04",
          "2023-11-11T16:56:49",
          "2023-11-11T16:58:50",
          "2023-11-11T17:00:07",
          "2023-11-11T20:27:36",
          "2023-11-11T20:30:42",
          "2023-11-11T20:34:51",
          "2023-11-11T20:36:48",
          "2023-11-11T20:39:57",
          "2023-11-14T11:56:08",
          "2023-11-14T12:02:08",
          "2023-11-14T12:06:28",
          "2023-11-14T12:09:57",
          "2023-11-14T12:13:06",
          "2023-11-19T15:48:20",
          "2023-11-19T15:52:09",
          "2023-11-19T15:55:53",
          "2023-11-19T15:59:45",
          "2023-11-19T16:03:34",
          "2023-11-19T16:04:07",
          "2023-11-19T16:05:28",
          "2023-11-19T16:09:04",
          "2023-11-19T16:12:02",
          "2023-11-19T16:13:57",
          "2023-11-19T16:16:23",
          "2023-11-19T16:21:05",
          "2023-11-19T16:24:12",
          "2023-11-19T16:28:09",
          "2023-11-19T16:31:04",
          "2023-11-19T16:34:57",
          "2023-11-19T16:38:32",
          "2023-11-19T16:41:39",
          "2023-11-19T16:42:19",
          "2023-11-19T18:00:33",
          "2023-11-19T18:04:13",
          "2023-11-19T18:07:58",
          "2023-11-19T18:11:38",
          "2023-11-19T18:15:57",
          "2023-11-19T18:20:49",
          "2023-11-19T18:27:41",
          "2023-11-19T18:40:52",
          "2023-11-21T12:18:27",
          "2023-11-21T12:20:27",
          "2023-11-21T12:23:48",
          "2023-11-21T12:29:14",
          "2023-11-21T12:32:15",
          "2023-11-21T12:36:31",
          "2023-11-21T12:39:47",
          "2023-11-21T12:44:13",
          "2023-11-21T12:47:53",
          "2023-11-21T21:37:56",
          "2023-11-21T21:40:26",
          "2023-11-21T21:43:52",
          "2023-11-21T21:47:04",
          "2023-11-21T21:50:40",
          "2023-11-26T21:53:28",
          "2023-11-28T20:30:01",
          "2023-11-28T20:34:34",
          "2023-11-28T20:40:07",
          "2023-11-28T20:44:37",
          "2023-11-28T20:47:06",
          "2023-11-29T19:56:59",
          "2023-11-29T20:01:38",
          "2023-12-01T13:05:57",
          "2023-12-01T13:07:50",
          "2023-12-01T13:11:18",
          "2023-12-01T13:14:49",
          "2023-12-02T13:14:57",
          "2023-12-02T13:17:57",
          "2023-12-03T17:10:31",
          "2023-12-03T17:13:56",
          "2023-12-10T18:50:29",
          "2023-12-15T16:30:41",
          "2023-12-15T16:34:45",
          "2023-12-15T16:39:38",
          "2023-12-16T21:12:06",
          "2023-12-17T08:53:17",
          "2023-12-17T08:57:42",
          "2023-12-17T08:59:47",
          "2023-12-17T09:02:38",
          "2023-12-17T09:04:23",
          "2023-12-17T09:07:23",
          "2023-12-17T13:50:21",
          "2023-12-17T13:55:19",
          "2023-12-17T13:59:42",
          "2023-12-17T14:04:28",
          "2023-12-17T14:08:42",
          "2023-12-17T14:12:02",
          "2023-12-17T14:16:00",
          "2023-12-17T14:20:22",
          "2023-12-17T14:24:26",
          "2023-12-17T14:29:05",
          "2023-12-17T14:32:52",
          "2023-12-17T14:36:17",
          "2023-12-17T14:39:24",
          "2023-12-17T14:41:43",
          "2023-12-17T14:45:42",
          "2023-12-17T14:49:47",
          "2023-12-17T14:54:38",
          "2023-12-17T14:59:05",
          "2023-12-19T13:11:22",
          "2023-12-19T13:15:06",
          "2023-12-19T13:17:58",
          "2023-12-19T13:21:32",
          "2023-12-31T15:54:54",
          "2023-12-31T15:58:09",
          "2023-12-31T16:01:35",
          "2024-01-05T19:51:41",
          "2024-01-05T19:54:13",
          "2024-01-05T19:56:21",
          "2024-01-05T19:58:35",
          "2024-01-05T20:00:52",
          "2024-01-05T20:02:56",
          "2024-01-13T19:24:02",
          "2024-01-13T19:26:16",
          "2024-01-13T19:28:39",
          "2024-01-13T19:31:06",
          "2024-01-13T19:33:00",
          "2024-01-13T19:34:50",
          "2024-01-13T19:37:09",
          "2024-01-13T19:39:32",
          "2024-01-13T19:41:09",
          "2024-01-13T19:43:32",
          "2024-01-13T19:46:19",
          "2024-01-13T19:48:36",
          "2024-01-14T19:22:12",
          "2024-01-14T19:24:24",
          "2024-01-14T19:26:35",
          "2024-01-14T19:28:49",
          "2024-01-14T19:31:03",
          "2024-01-14T19:33:32",
          "2024-01-14T19:35:49",
          "2024-01-14T19:37:56",
          "2024-01-14T19:40:02",
          "2024-01-14T19:42:11",
          "2024-01-15T08:51:44",
          "2024-01-15T08:54:02",
          "2024-01-15T08:56:36",
          "2024-01-15T08:58:39",
          "2024-01-15T09:00:01",
          "2024-01-17T18:26:58",
          "2024-01-17T18:27:43",
          "2024-01-17T18:31:38",
          "2024-01-18T09:22:15",
          "2024-01-18T09:24:18",
          "2024-01-18T09:26:43",
          "2024-01-19T09:59:41",
          "2024-01-19T10:02:01",
          "2024-01-21T14:54:37",
          "2024-01-21T14:57:02",
          "2024-01-21T14:59:05",
          "2024-01-21T15:01:41",
          "2024-01-21T15:04:01",
          "2024-01-21T15:06:24",
          "2024-02-08T14:28:37",
          "2024-02-08T14:30:55",
          "2024-02-09T10:11:11",
          "2024-02-09T10:14:47",
          "2024-02-09T10:17:52",
          "2024-02-09T10:20:57",
          "2024-02-09T10:23:00",
          "2024-02-09T10:26:06",
          "2024-02-09T10:28:44",
          "2024-02-09T10:33:12",
          "2024-02-09T10:34:06",
          "2024-02-20T20:46:27",
          "2024-02-20T20:50:23",
          "2024-02-20T20:57:04",
          "2024-02-20T21:00:53",
          "2024-02-20T21:04:46",
          "2024-02-20T21:07:18",
          "2024-04-06T13:49:12",
          "2024-04-06T13:53:17",
          "2024-04-06T13:55:15",
          "2024-04-07T17:41:37",
          "2024-04-07T17:44:38",
          "2024-07-13T12:45:08",
          "2024-07-13T12:47:28",
          "2024-07-13T12:52:02",
          "2024-07-13T12:56:11",
          "2024-07-13T12:58:59",
          "2024-07-13T20:49:19",
          "2024-07-13T20:56:21",
          "2024-07-13T21:02:25",
          "2024-07-13T21:12:00",
          "2024-07-13T21:15:06",
          "2024-07-13T21:18:20",
          "2024-07-13T21:20:44",
          "2024-07-13T21:23:24",
          "2024-07-13T21:26:58",
          "2024-07-13T21:28:36",
          "2024-07-13T21:29:14",
          "2024-07-13T21:31:40",
          "2024-07-13T21:34:17",
          "2024-07-16T11:56:04",
          "2024-07-16T11:56:36",
          "2024-07-16T12:00:47",
          "2024-07-16T12:05:36",
          "2024-07-16T12:09:20",
          "2024-07-16T12:12:03",
          "2024-07-16T12:14:34",
          "2024-07-16T12:16:09",
          "2024-07-16T12:19:32",
          "2024-07-16T12:23:57",
          "2024-07-16T12:27:23",
          "2024-07-16T12:30:33",
          "2024-07-16T12:34:09",
          "2024-07-16T12:37:21",
          "2024-07-16T12:41:43",
          "2024-07-16T12:44:46",
          "2024-07-16T12:48:17",
          "2024-07-16T12:52:53",
          "2024-07-16T12:57:36",
          "2024-07-16T13:00:52",
          "2024-07-16T13:06:14",
          "2024-07-16T13:09:26",
          "2024-07-16T13:13:31",
          "2024-07-16T13:17:06",
          "2024-07-16T13:22:07",
          "2024-07-16T13:23:47",
          "2024-07-16T13:28:10",
          "2024-07-17T12:07:27",
          "2024-07-17T12:09:20",
          "2024-07-17T12:12:58",
          "2024-07-17T12:13:45",
          "2024-07-17T12:16:35",
          "2024-07-20T12:09:30",
          "2024-07-20T12:49:39",
          "2024-07-20T12:52:45",
          "2024-07-20T12:55:46",
          "2024-07-20T12:59:28",
          "2024-07-20T13:02:46",
          "2024-07-20T13:05:14",
          "2024-07-20T13:08:56",
          "2024-07-20T13:12:54",
          "2024-07-20T13:15:53",
          "2024-07-31T12:16:12",
          "2024-07-31T12:19:31",
          "2024-07-31T12:23:19",
          "2024-07-31T12:26:13",
          "2024-07-31T12:27:06",
          "2024-07-31T12:31:01",
          "2024-07-31T12:34:22",
          "2024-07-31T12:39:01",
          "2024-07-31T12:41:55",
          "2024-07-31T12:44:42",
          "2024-07-31T12:47:38",
          "2024-07-31T12:50:38",
          "2024-07-31T12:53:36",
          "2024-07-31T12:57:42",
          "2024-07-31T13:03:48",
          "2024-07-31T13:07:04",
          "2024-07-31T13:10:06",
          "2024-07-31T13:14:10",
          "2024-07-31T13:16:05",
          "2024-07-31T13:18:58",
          "2024-07-31T13:22:01",
          "2024-07-31T13:25:39",
          "2024-07-31T13:26:55",
          "2024-07-31T13:30:17",
          "2024-07-31T13:32:31",
          "2024-07-31T13:35:34",
          "2024-07-31T14:18:35",
          "2024-07-31T14:21:56",
          "2024-07-31T14:22:55",
          "2024-07-31T14:25:17",
          "2024-07-31T14:28:03",
          "2024-07-31T14:31:53",
          "2024-07-31T14:35:14",
          "2024-07-31T14:38:03",
          "2024-07-31T14:41:10",
          "2024-07-31T14:47:11",
          "2024-07-31T14:51:39",
          "2024-07-31T14:54:17",
          "2024-08-01T13:07:46",
          "2024-08-01T13:11:29",
          "2024-08-01T13:14:32",
          "2024-08-01T13:18:36",
          "2024-08-01T13:21:35",
          "2024-08-01T13:24:11",
          "2024-08-01T13:28:24",
          "2024-08-01T13:31:45",
          "2024-08-01T13:34:41",
          "2024-08-01T13:37:40",
          "2024-08-01T13:41:33",
          "2024-08-01T13:44:38",
          "2024-08-01T13:48:13",
          "2024-08-01T13:51:24",
          "2024-08-01T13:54:55",
          "2024-08-01T13:57:23",
          "2024-08-01T13:59:54",
          "2024-08-01T14:03:33",
          "2024-08-01T14:08:14",
          "2024-08-01T14:12:24",
          "2024-08-04T19:20:32",
          "2024-08-04T19:33:36",
          "2024-08-10T16:46:31",
          "2024-08-17T14:13:55",
          "2024-08-17T14:17:47",
          "2024-08-17T14:26:05",
          "2024-08-17T14:28:30",
          "2024-08-17T14:33:36",
          "2024-08-17T14:36:49",
          "2024-08-17T14:38:48",
          "2024-08-17T14:42:20",
          "2024-08-17T14:43:33",
          "2024-08-17T14:46:46",
          "2024-08-17T14:48:05",
          "2024-08-17T14:51:26",
          "2024-08-17T14:53:52",
          "2024-08-17T14:56:29",
          "2024-08-17T14:59:51",
          "2024-08-24T14:18:33",
          "2024-08-24T14:22:07",
          "2024-08-24T14:28:08",
          "2024-08-26T20:16:23",
          "2024-08-26T20:20:41",
          "2024-08-28T12:36:18",
          "2024-08-28T12:38:51",
          "2024-08-28T12:41:33",
          "2024-08-28T12:44:15",
          "2024-08-28T12:47:30",
          "2024-08-28T12:51:25",
          "2024-08-28T12:55:41",
          "2024-08-28T12:57:41",
          "2024-08-28T22:47:07",
          "2024-08-28T22:48:52",
          "2024-09-21T19:31:29",
          "2024-10-12T17:19:27",
          "2024-10-12T17:23:12",
          "2024-10-24T20:18:59",
          "2024-10-24T20:21:45",
          "2024-12-14T08:28:56",
          "2024-12-14T08:31:23",
          "2024-12-23T12:25:38",
          "2024-12-23T12:29:32",
          "2024-12-23T12:33:48",
          "2024-12-23T12:39:33",
          "2024-12-23T12:44:25",
          "2024-12-23T12:47:34"
         ],
         "y": [
          822,
          775.5,
          741.6666666666666,
          738.75,
          727.2,
          704.6,
          703.6,
          712.4,
          701.8,
          707.6,
          716,
          725.6,
          730.6,
          746,
          753,
          756.8,
          743.2,
          716.4,
          712.4,
          713,
          716.6,
          729.8,
          785.4,
          800.6,
          808.6,
          806.6,
          786.6,
          765,
          768.2,
          771.8,
          770.2,
          790,
          787.6,
          777.8,
          761.4,
          762.6,
          757.6,
          763.2,
          768.8,
          786.8,
          811.4,
          799,
          792,
          775,
          777.6,
          763.4,
          792.6,
          804.8,
          820.2,
          801.8,
          789.6,
          787.4,
          784.8,
          785.6,
          781,
          791.4,
          785.8,
          787.8,
          804,
          815,
          819,
          815,
          806.8,
          778.8,
          780.2,
          768.8,
          787.8,
          778.2,
          782,
          777.4,
          771.2,
          745.4,
          753.2,
          748.4,
          754.6,
          749,
          758,
          749.4,
          760.8,
          750,
          760.4,
          757.6,
          768,
          762.2,
          769.8,
          779,
          779,
          779.6,
          783.2,
          770.8,
          762.6,
          777.6,
          765.4,
          768.2,
          780.2,
          778.6,
          763.6,
          764,
          771,
          773.6,
          788.8,
          790.6,
          803.8,
          790.8,
          791.2,
          750.4,
          765.4,
          763.4,
          782.6,
          779.2,
          805.2,
          790.6,
          795.4,
          781.8,
          777.8,
          811,
          813.6,
          810,
          809.2,
          806.2,
          776.6,
          761,
          765.8,
          770.8,
          777,
          785,
          809.2,
          808.6,
          819.6,
          836.4,
          822.6,
          825.6,
          843.6,
          829.2,
          828.6,
          845.4,
          842.4,
          832.2,
          839.6,
          825.2,
          822.6,
          824.2,
          822,
          816.2,
          830.8,
          840.2,
          830.4,
          832,
          844,
          847.4,
          844.6,
          858,
          869.8,
          868.6,
          854.2,
          847.2,
          845.6,
          835.8,
          854.2,
          869.2,
          893.4,
          892.8,
          894,
          875.8,
          851.6,
          824.8,
          820,
          815.8,
          827,
          847,
          854.6,
          862.8,
          866.8,
          865.6,
          866.2,
          862.2,
          856.2,
          824.4,
          799.6,
          797.4,
          779.2,
          777.4,
          808.6,
          820,
          824.4,
          844,
          835.8,
          852,
          856.8,
          855.4,
          857.6,
          884.4,
          884.6,
          884,
          886.8,
          894,
          889.2,
          876.4,
          879.2,
          886.8,
          881.4,
          869.8,
          868.6,
          867.6,
          860.8,
          868.4,
          877.4,
          880.8,
          885,
          891.2,
          899.6,
          902.4,
          907,
          910,
          908.8,
          902,
          903.2,
          899.6,
          897.6,
          900.2,
          891.8,
          892.8,
          907.2,
          905.4,
          910,
          899.2,
          894.4,
          881,
          884.6,
          881.2,
          883.2,
          880,
          878.4,
          893.6,
          885.8,
          896.4,
          895,
          902.8,
          875.2,
          875.2,
          872,
          886,
          812.2,
          815.8,
          816.8,
          825.2,
          812.4,
          878,
          875.2,
          868.6,
          883.2,
          881.8,
          893.6,
          895.6,
          883.2,
          851.4,
          861.6,
          848.8,
          850,
          853.6,
          863.2,
          867.8,
          869.2,
          859.4,
          873,
          866.8,
          827.6,
          824.8,
          833.2,
          836.6,
          842.4,
          875.2,
          872.8,
          873.4,
          865.8,
          872.4,
          863.4,
          860.8,
          859.6,
          874.8,
          863.4,
          861.2,
          862.8,
          845.6,
          813.2,
          808.4,
          806.6,
          806.8,
          824,
          832.2,
          837,
          854.8,
          840,
          840.8,
          855.4,
          863.6,
          851.2,
          870.8,
          909.4,
          914.8,
          926.2,
          943.4,
          949.2,
          934,
          932.4,
          943.4,
          932.2,
          927.8,
          920.4,
          921.6,
          898.6,
          897.8,
          899.4,
          887,
          882.8,
          921.2,
          954.4,
          947.8,
          941.8,
          948.8,
          957.4,
          920.4,
          923.4,
          914.2,
          903.6,
          844.6,
          843.4,
          736.2,
          596,
          597.2,
          653.4,
          655.8,
          765.8,
          1091,
          1121.2,
          1078,
          1097.8,
          1093.8,
          935.8,
          909.6,
          912.4,
          894,
          886.4,
          875,
          873.2,
          854.2,
          843.6,
          826.2,
          826.2,
          838.4,
          855.8,
          850.4,
          878.4,
          869.4,
          857.8,
          854,
          870.8,
          873.4,
          882.8,
          882.2,
          902.4,
          890.2,
          880.2,
          874.6,
          878.2,
          852,
          850.8,
          849.2,
          844.8,
          833.2,
          821.8,
          841.4,
          843.4,
          843.8,
          845.2,
          855.6,
          844.8,
          845.2,
          850.2,
          850.2,
          838.6,
          832.2,
          809.8,
          804.8,
          795.6,
          797.4,
          803.2,
          818.8,
          812.4,
          826.8,
          841.8,
          840.2,
          846.4,
          853.2,
          848.8,
          861.6,
          857,
          859,
          876,
          877.8,
          883.6,
          885.4,
          870.6,
          856.6,
          852.6,
          827,
          824.6,
          834.8,
          806.6,
          805.8,
          811.2,
          814.8,
          818.2,
          845.6,
          857.6,
          862.2,
          861.8,
          863,
          866.2,
          843.2,
          840.8,
          859.8,
          861.8,
          855.4,
          876.8,
          899.4,
          882.2,
          885.6,
          896,
          898,
          877.6,
          882.6,
          883.4,
          882.2,
          877.6,
          871,
          869.4,
          861.8,
          860.6,
          862,
          852,
          853.2,
          855.6,
          859.8,
          857.8,
          874.2,
          872,
          872.4,
          870,
          879.2,
          881.2,
          897,
          875.6,
          882.8,
          876.6,
          877.8,
          864,
          890.4,
          871.4,
          869.2,
          867.4,
          862.4,
          863.6,
          865.4,
          873.8,
          885,
          890.8,
          904.8,
          922.4,
          924.2,
          921.6,
          928,
          919.8,
          908.8,
          912.6,
          922,
          924.8,
          932.8,
          945.2,
          954.2,
          945.8,
          948.2,
          940.8,
          939.2,
          906.6,
          890.2,
          887.6,
          883.2,
          880.6,
          893,
          908,
          902.4,
          907.8,
          905.8,
          906.4,
          898,
          879.8,
          868.8,
          863.8,
          862,
          860.2,
          878.6,
          885.4,
          888.4,
          978.2,
          983.6,
          976.4,
          972.6,
          1000.6,
          914.8,
          912.8
         ]
        }
       ],
       "layout": {
        "paper_bgcolor": "rgba(255, 255, 255, 0.8)",
        "plot_bgcolor": "rgba(255, 255, 255, 0.8)",
        "template": {
         "data": {
          "bar": [
           {
            "error_x": {
             "color": "#2a3f5f"
            },
            "error_y": {
             "color": "#2a3f5f"
            },
            "marker": {
             "line": {
              "color": "#E5ECF6",
              "width": 0.5
             },
             "pattern": {
              "fillmode": "overlay",
              "size": 10,
              "solidity": 0.2
             }
            },
            "type": "bar"
           }
          ],
          "barpolar": [
           {
            "marker": {
             "line": {
              "color": "#E5ECF6",
              "width": 0.5
             },
             "pattern": {
              "fillmode": "overlay",
              "size": 10,
              "solidity": 0.2
             }
            },
            "type": "barpolar"
           }
          ],
          "carpet": [
           {
            "aaxis": {
             "endlinecolor": "#2a3f5f",
             "gridcolor": "white",
             "linecolor": "white",
             "minorgridcolor": "white",
             "startlinecolor": "#2a3f5f"
            },
            "baxis": {
             "endlinecolor": "#2a3f5f",
             "gridcolor": "white",
             "linecolor": "white",
             "minorgridcolor": "white",
             "startlinecolor": "#2a3f5f"
            },
            "type": "carpet"
           }
          ],
          "choropleth": [
           {
            "colorbar": {
             "outlinewidth": 0,
             "ticks": ""
            },
            "type": "choropleth"
           }
          ],
          "contour": [
           {
            "colorbar": {
             "outlinewidth": 0,
             "ticks": ""
            },
            "colorscale": [
             [
              0,
              "#0d0887"
             ],
             [
              0.1111111111111111,
              "#46039f"
             ],
             [
              0.2222222222222222,
              "#7201a8"
             ],
             [
              0.3333333333333333,
              "#9c179e"
             ],
             [
              0.4444444444444444,
              "#bd3786"
             ],
             [
              0.5555555555555556,
              "#d8576b"
             ],
             [
              0.6666666666666666,
              "#ed7953"
             ],
             [
              0.7777777777777778,
              "#fb9f3a"
             ],
             [
              0.8888888888888888,
              "#fdca26"
             ],
             [
              1,
              "#f0f921"
             ]
            ],
            "type": "contour"
           }
          ],
          "contourcarpet": [
           {
            "colorbar": {
             "outlinewidth": 0,
             "ticks": ""
            },
            "type": "contourcarpet"
           }
          ],
          "heatmap": [
           {
            "colorbar": {
             "outlinewidth": 0,
             "ticks": ""
            },
            "colorscale": [
             [
              0,
              "#0d0887"
             ],
             [
              0.1111111111111111,
              "#46039f"
             ],
             [
              0.2222222222222222,
              "#7201a8"
             ],
             [
              0.3333333333333333,
              "#9c179e"
             ],
             [
              0.4444444444444444,
              "#bd3786"
             ],
             [
              0.5555555555555556,
              "#d8576b"
             ],
             [
              0.6666666666666666,
              "#ed7953"
             ],
             [
              0.7777777777777778,
              "#fb9f3a"
             ],
             [
              0.8888888888888888,
              "#fdca26"
             ],
             [
              1,
              "#f0f921"
             ]
            ],
            "type": "heatmap"
           }
          ],
          "heatmapgl": [
           {
            "colorbar": {
             "outlinewidth": 0,
             "ticks": ""
            },
            "colorscale": [
             [
              0,
              "#0d0887"
             ],
             [
              0.1111111111111111,
              "#46039f"
             ],
             [
              0.2222222222222222,
              "#7201a8"
             ],
             [
              0.3333333333333333,
              "#9c179e"
             ],
             [
              0.4444444444444444,
              "#bd3786"
             ],
             [
              0.5555555555555556,
              "#d8576b"
             ],
             [
              0.6666666666666666,
              "#ed7953"
             ],
             [
              0.7777777777777778,
              "#fb9f3a"
             ],
             [
              0.8888888888888888,
              "#fdca26"
             ],
             [
              1,
              "#f0f921"
             ]
            ],
            "type": "heatmapgl"
           }
          ],
          "histogram": [
           {
            "marker": {
             "pattern": {
              "fillmode": "overlay",
              "size": 10,
              "solidity": 0.2
             }
            },
            "type": "histogram"
           }
          ],
          "histogram2d": [
           {
            "colorbar": {
             "outlinewidth": 0,
             "ticks": ""
            },
            "colorscale": [
             [
              0,
              "#0d0887"
             ],
             [
              0.1111111111111111,
              "#46039f"
             ],
             [
              0.2222222222222222,
              "#7201a8"
             ],
             [
              0.3333333333333333,
              "#9c179e"
             ],
             [
              0.4444444444444444,
              "#bd3786"
             ],
             [
              0.5555555555555556,
              "#d8576b"
             ],
             [
              0.6666666666666666,
              "#ed7953"
             ],
             [
              0.7777777777777778,
              "#fb9f3a"
             ],
             [
              0.8888888888888888,
              "#fdca26"
             ],
             [
              1,
              "#f0f921"
             ]
            ],
            "type": "histogram2d"
           }
          ],
          "histogram2dcontour": [
           {
            "colorbar": {
             "outlinewidth": 0,
             "ticks": ""
            },
            "colorscale": [
             [
              0,
              "#0d0887"
             ],
             [
              0.1111111111111111,
              "#46039f"
             ],
             [
              0.2222222222222222,
              "#7201a8"
             ],
             [
              0.3333333333333333,
              "#9c179e"
             ],
             [
              0.4444444444444444,
              "#bd3786"
             ],
             [
              0.5555555555555556,
              "#d8576b"
             ],
             [
              0.6666666666666666,
              "#ed7953"
             ],
             [
              0.7777777777777778,
              "#fb9f3a"
             ],
             [
              0.8888888888888888,
              "#fdca26"
             ],
             [
              1,
              "#f0f921"
             ]
            ],
            "type": "histogram2dcontour"
           }
          ],
          "mesh3d": [
           {
            "colorbar": {
             "outlinewidth": 0,
             "ticks": ""
            },
            "type": "mesh3d"
           }
          ],
          "parcoords": [
           {
            "line": {
             "colorbar": {
              "outlinewidth": 0,
              "ticks": ""
             }
            },
            "type": "parcoords"
           }
          ],
          "pie": [
           {
            "automargin": true,
            "type": "pie"
           }
          ],
          "scatter": [
           {
            "fillpattern": {
             "fillmode": "overlay",
             "size": 10,
             "solidity": 0.2
            },
            "type": "scatter"
           }
          ],
          "scatter3d": [
           {
            "line": {
             "colorbar": {
              "outlinewidth": 0,
              "ticks": ""
             }
            },
            "marker": {
             "colorbar": {
              "outlinewidth": 0,
              "ticks": ""
             }
            },
            "type": "scatter3d"
           }
          ],
          "scattercarpet": [
           {
            "marker": {
             "colorbar": {
              "outlinewidth": 0,
              "ticks": ""
             }
            },
            "type": "scattercarpet"
           }
          ],
          "scattergeo": [
           {
            "marker": {
             "colorbar": {
              "outlinewidth": 0,
              "ticks": ""
             }
            },
            "type": "scattergeo"
           }
          ],
          "scattergl": [
           {
            "marker": {
             "colorbar": {
              "outlinewidth": 0,
              "ticks": ""
             }
            },
            "type": "scattergl"
           }
          ],
          "scattermapbox": [
           {
            "marker": {
             "colorbar": {
              "outlinewidth": 0,
              "ticks": ""
             }
            },
            "type": "scattermapbox"
           }
          ],
          "scatterpolar": [
           {
            "marker": {
             "colorbar": {
              "outlinewidth": 0,
              "ticks": ""
             }
            },
            "type": "scatterpolar"
           }
          ],
          "scatterpolargl": [
           {
            "marker": {
             "colorbar": {
              "outlinewidth": 0,
              "ticks": ""
             }
            },
            "type": "scatterpolargl"
           }
          ],
          "scatterternary": [
           {
            "marker": {
             "colorbar": {
              "outlinewidth": 0,
              "ticks": ""
             }
            },
            "type": "scatterternary"
           }
          ],
          "surface": [
           {
            "colorbar": {
             "outlinewidth": 0,
             "ticks": ""
            },
            "colorscale": [
             [
              0,
              "#0d0887"
             ],
             [
              0.1111111111111111,
              "#46039f"
             ],
             [
              0.2222222222222222,
              "#7201a8"
             ],
             [
              0.3333333333333333,
              "#9c179e"
             ],
             [
              0.4444444444444444,
              "#bd3786"
             ],
             [
              0.5555555555555556,
              "#d8576b"
             ],
             [
              0.6666666666666666,
              "#ed7953"
             ],
             [
              0.7777777777777778,
              "#fb9f3a"
             ],
             [
              0.8888888888888888,
              "#fdca26"
             ],
             [
              1,
              "#f0f921"
             ]
            ],
            "type": "surface"
           }
          ],
          "table": [
           {
            "cells": {
             "fill": {
              "color": "#EBF0F8"
             },
             "line": {
              "color": "white"
             }
            },
            "header": {
             "fill": {
              "color": "#C8D4E3"
             },
             "line": {
              "color": "white"
             }
            },
            "type": "table"
           }
          ]
         },
         "layout": {
          "annotationdefaults": {
           "arrowcolor": "#2a3f5f",
           "arrowhead": 0,
           "arrowwidth": 1
          },
          "autotypenumbers": "strict",
          "coloraxis": {
           "colorbar": {
            "outlinewidth": 0,
            "ticks": ""
           }
          },
          "colorscale": {
           "diverging": [
            [
             0,
             "#8e0152"
            ],
            [
             0.1,
             "#c51b7d"
            ],
            [
             0.2,
             "#de77ae"
            ],
            [
             0.3,
             "#f1b6da"
            ],
            [
             0.4,
             "#fde0ef"
            ],
            [
             0.5,
             "#f7f7f7"
            ],
            [
             0.6,
             "#e6f5d0"
            ],
            [
             0.7,
             "#b8e186"
            ],
            [
             0.8,
             "#7fbc41"
            ],
            [
             0.9,
             "#4d9221"
            ],
            [
             1,
             "#276419"
            ]
           ],
           "sequential": [
            [
             0,
             "#0d0887"
            ],
            [
             0.1111111111111111,
             "#46039f"
            ],
            [
             0.2222222222222222,
             "#7201a8"
            ],
            [
             0.3333333333333333,
             "#9c179e"
            ],
            [
             0.4444444444444444,
             "#bd3786"
            ],
            [
             0.5555555555555556,
             "#d8576b"
            ],
            [
             0.6666666666666666,
             "#ed7953"
            ],
            [
             0.7777777777777778,
             "#fb9f3a"
            ],
            [
             0.8888888888888888,
             "#fdca26"
            ],
            [
             1,
             "#f0f921"
            ]
           ],
           "sequentialminus": [
            [
             0,
             "#0d0887"
            ],
            [
             0.1111111111111111,
             "#46039f"
            ],
            [
             0.2222222222222222,
             "#7201a8"
            ],
            [
             0.3333333333333333,
             "#9c179e"
            ],
            [
             0.4444444444444444,
             "#bd3786"
            ],
            [
             0.5555555555555556,
             "#d8576b"
            ],
            [
             0.6666666666666666,
             "#ed7953"
            ],
            [
             0.7777777777777778,
             "#fb9f3a"
            ],
            [
             0.8888888888888888,
             "#fdca26"
            ],
            [
             1,
             "#f0f921"
            ]
           ]
          },
          "colorway": [
           "#636efa",
           "#EF553B",
           "#00cc96",
           "#ab63fa",
           "#FFA15A",
           "#19d3f3",
           "#FF6692",
           "#B6E880",
           "#FF97FF",
           "#FECB52"
          ],
          "font": {
           "color": "#2a3f5f"
          },
          "geo": {
           "bgcolor": "white",
           "lakecolor": "white",
           "landcolor": "#E5ECF6",
           "showlakes": true,
           "showland": true,
           "subunitcolor": "white"
          },
          "hoverlabel": {
           "align": "left"
          },
          "hovermode": "closest",
          "mapbox": {
           "style": "light"
          },
          "paper_bgcolor": "white",
          "plot_bgcolor": "#E5ECF6",
          "polar": {
           "angularaxis": {
            "gridcolor": "white",
            "linecolor": "white",
            "ticks": ""
           },
           "bgcolor": "#E5ECF6",
           "radialaxis": {
            "gridcolor": "white",
            "linecolor": "white",
            "ticks": ""
           }
          },
          "scene": {
           "xaxis": {
            "backgroundcolor": "#E5ECF6",
            "gridcolor": "white",
            "gridwidth": 2,
            "linecolor": "white",
            "showbackground": true,
            "ticks": "",
            "zerolinecolor": "white"
           },
           "yaxis": {
            "backgroundcolor": "#E5ECF6",
            "gridcolor": "white",
            "gridwidth": 2,
            "linecolor": "white",
            "showbackground": true,
            "ticks": "",
            "zerolinecolor": "white"
           },
           "zaxis": {
            "backgroundcolor": "#E5ECF6",
            "gridcolor": "white",
            "gridwidth": 2,
            "linecolor": "white",
            "showbackground": true,
            "ticks": "",
            "zerolinecolor": "white"
           }
          },
          "shapedefaults": {
           "line": {
            "color": "#2a3f5f"
           }
          },
          "ternary": {
           "aaxis": {
            "gridcolor": "white",
            "linecolor": "white",
            "ticks": ""
           },
           "baxis": {
            "gridcolor": "white",
            "linecolor": "white",
            "ticks": ""
           },
           "bgcolor": "#E5ECF6",
           "caxis": {
            "gridcolor": "white",
            "linecolor": "white",
            "ticks": ""
           }
          },
          "title": {
           "x": 0.05
          },
          "xaxis": {
           "automargin": true,
           "gridcolor": "white",
           "linecolor": "white",
           "ticks": "",
           "title": {
            "standoff": 15
           },
           "zerolinecolor": "white",
           "zerolinewidth": 2
          },
          "yaxis": {
           "automargin": true,
           "gridcolor": "white",
           "linecolor": "white",
           "ticks": "",
           "title": {
            "standoff": 15
           },
           "zerolinecolor": "white",
           "zerolinewidth": 2
          }
         }
        },
        "title": {
         "text": "Bullet Rating Trends Over Time (Smoothed)"
        },
        "xaxis": {
         "rangeselector": {
          "buttons": [
           {
            "count": 1,
            "label": "1m",
            "step": "month",
            "stepmode": "backward"
           },
           {
            "count": 6,
            "label": "6m",
            "step": "month",
            "stepmode": "backward"
           },
           {
            "count": 1,
            "label": "1y",
            "step": "year",
            "stepmode": "backward"
           },
           {
            "step": "all"
           }
          ]
         },
         "rangeslider": {
          "visible": true
         },
         "showspikes": true,
         "spikecolor": "purple",
         "spikemode": "across",
         "spikesnap": "cursor",
         "title": {
          "text": "Date"
         },
         "type": "date"
        },
        "yaxis": {
         "showspikes": true,
         "spikecolor": "orange",
         "spikethickness": 2,
         "title": {
          "text": "Rating"
         }
        }
       }
      },
      "text/html": [
       "<div>                            <div id=\"c946db3c-8156-445b-a5d9-b96838f59d4a\" class=\"plotly-graph-div\" style=\"height:525px; width:100%;\"></div>            <script type=\"text/javascript\">                require([\"plotly\"], function(Plotly) {                    window.PLOTLYENV=window.PLOTLYENV || {};                                    if (document.getElementById(\"c946db3c-8156-445b-a5d9-b96838f59d4a\")) {                    Plotly.newPlot(                        \"c946db3c-8156-445b-a5d9-b96838f59d4a\",                        [{\"hovertemplate\":\"Rating: %{y}\\u003cbr\\u003eDate: %{x}\",\"marker\":{\"color\":\"skyblue\",\"size\":5},\"mode\":\"lines+markers\",\"name\":\"Bullet Rating\",\"x\":[\"2023-02-23T08:47:19\",\"2023-02-23T08:50:00\",\"2023-07-31T15:51:14\",\"2023-07-31T15:58:40\",\"2023-07-31T16:05:24\",\"2023-07-31T16:09:17\",\"2023-07-31T16:15:20\",\"2023-07-31T16:20:23\",\"2023-07-31T16:26:28\",\"2023-07-31T16:31:44\",\"2023-07-31T16:36:48\",\"2023-07-31T16:42:59\",\"2023-07-31T16:55:04\",\"2023-07-31T16:59:52\",\"2023-07-31T17:04:01\",\"2023-07-31T17:07:32\",\"2023-07-31T17:09:30\",\"2023-08-02T06:39:08\",\"2023-08-02T06:43:04\",\"2023-08-02T06:45:41\",\"2023-08-02T06:47:54\",\"2023-08-02T06:53:01\",\"2023-08-02T06:57:29\",\"2023-08-02T07:01:15\",\"2023-08-02T07:04:27\",\"2023-08-02T07:07:42\",\"2023-08-02T07:11:17\",\"2023-08-02T07:14:14\",\"2023-08-02T07:17:23\",\"2023-08-02T18:12:09\",\"2023-08-02T18:17:38\",\"2023-08-02T18:23:55\",\"2023-08-02T18:30:19\",\"2023-08-02T18:33:45\",\"2023-08-02T18:38:20\",\"2023-08-02T18:44:50\",\"2023-08-02T18:51:33\",\"2023-08-02T18:54:58\",\"2023-08-02T19:01:46\",\"2023-08-02T19:07:13\",\"2023-08-02T19:11:25\",\"2023-08-02T19:17:56\",\"2023-08-03T09:11:57\",\"2023-08-04T08:13:53\",\"2023-08-04T08:23:28\",\"2023-08-04T08:28:31\",\"2023-08-04T08:32:52\",\"2023-08-04T08:36:38\",\"2023-08-04T19:34:03\",\"2023-08-04T19:39:20\",\"2023-08-04T19:47:35\",\"2023-08-05T12:17:14\",\"2023-08-05T12:23:30\",\"2023-08-05T12:29:31\",\"2023-08-05T12:35:29\",\"2023-08-06T07:27:45\",\"2023-08-06T07:41:59\",\"2023-08-06T07:49:22\",\"2023-08-06T17:51:06\",\"2023-08-06T17:57:05\",\"2023-08-06T18:02:27\",\"2023-08-06T18:10:32\",\"2023-08-06T18:16:21\",\"2023-08-06T18:24:05\",\"2023-08-07T06:10:46\",\"2023-08-07T06:17:31\",\"2023-08-07T06:20:22\",\"2023-09-05T14:13:16\",\"2023-09-05T14:19:36\",\"2023-09-05T14:24:56\",\"2023-09-05T14:30:52\",\"2023-09-05T14:37:11\",\"2023-09-05T14:41:45\",\"2023-09-05T14:47:27\",\"2023-09-05T14:52:59\",\"2023-09-05T14:58:01\",\"2023-09-05T15:02:55\",\"2023-09-05T15:07:07\",\"2023-09-05T15:08:29\",\"2023-09-05T15:13:28\",\"2023-09-05T15:18:45\",\"2023-09-16T17:30:22\",\"2023-10-15T16:47:43\",\"2023-10-15T16:50:46\",\"2023-10-15T16:54:12\",\"2023-10-15T16:56:59\",\"2023-10-15T16:59:22\",\"2023-10-15T17:02:44\",\"2023-10-15T17:12:59\",\"2023-10-15T17:16:34\",\"2023-10-15T17:20:29\",\"2023-10-15T17:20:59\",\"2023-10-15T17:24:53\",\"2023-10-15T17:28:15\",\"2023-10-15T17:32:55\",\"2023-10-17T09:39:55\",\"2023-10-17T09:46:41\",\"2023-10-17T09:50:02\",\"2023-10-17T09:53:50\",\"2023-10-17T09:57:35\",\"2023-10-17T10:01:34\",\"2023-10-17T10:05:34\",\"2023-10-17T10:09:48\",\"2023-10-17T10:13:43\",\"2023-10-17T10:15:37\",\"2023-10-20T20:32:03\",\"2023-10-20T20:35:07\",\"2023-10-27T20:14:03\",\"2023-11-04T15:20:50\",\"2023-11-04T15:24:19\",\"2023-11-04T15:26:06\",\"2023-11-04T15:27:08\",\"2023-11-04T15:32:15\",\"2023-11-04T15:37:56\",\"2023-11-04T15:41:57\",\"2023-11-04T15:45:29\",\"2023-11-04T15:47:19\",\"2023-11-04T15:50:05\",\"2023-11-04T20:24:57\",\"2023-11-04T20:28:41\",\"2023-11-04T20:33:04\",\"2023-11-04T20:35:58\",\"2023-11-04T20:40:32\",\"2023-11-04T20:47:11\",\"2023-11-04T20:53:37\",\"2023-11-04T20:57:41\",\"2023-11-04T20:59:50\",\"2023-11-04T21:03:15\",\"2023-11-04T21:07:44\",\"2023-11-04T21:11:08\",\"2023-11-05T08:13:13\",\"2023-11-05T08:17:21\",\"2023-11-05T08:21:18\",\"2023-11-05T08:35:29\",\"2023-11-05T08:39:42\",\"2023-11-05T12:26:28\",\"2023-11-05T12:29:40\",\"2023-11-05T12:33:17\",\"2023-11-05T12:35:11\",\"2023-11-05T12:37:31\",\"2023-11-05T12:39:57\",\"2023-11-05T12:43:17\",\"2023-11-05T12:46:12\",\"2023-11-05T12:49:48\",\"2023-11-05T12:54:33\",\"2023-11-05T15:16:04\",\"2023-11-05T15:19:25\",\"2023-11-05T15:21:59\",\"2023-11-05T15:26:49\",\"2023-11-05T15:30:50\",\"2023-11-05T15:35:49\",\"2023-11-05T15:41:06\",\"2023-11-07T11:28:47\",\"2023-11-07T11:33:13\",\"2023-11-07T11:46:04\",\"2023-11-07T11:49:39\",\"2023-11-07T11:50:40\",\"2023-11-07T11:52:14\",\"2023-11-07T11:55:13\",\"2023-11-07T13:20:59\",\"2023-11-07T13:21:39\",\"2023-11-07T13:25:20\",\"2023-11-07T13:29:23\",\"2023-11-09T08:17:44\",\"2023-11-09T08:21:33\",\"2023-11-09T08:24:39\",\"2023-11-09T09:53:24\",\"2023-11-09T09:57:29\",\"2023-11-11T16:41:09\",\"2023-11-11T16:45:13\",\"2023-11-11T16:49:09\",\"2023-11-11T16:53:04\",\"2023-11-11T16:56:49\",\"2023-11-11T16:58:50\",\"2023-11-11T17:00:07\",\"2023-11-11T20:27:36\",\"2023-11-11T20:30:42\",\"2023-11-11T20:34:51\",\"2023-11-11T20:36:48\",\"2023-11-11T20:39:57\",\"2023-11-14T11:56:08\",\"2023-11-14T12:02:08\",\"2023-11-14T12:06:28\",\"2023-11-14T12:09:57\",\"2023-11-14T12:13:06\",\"2023-11-19T15:48:20\",\"2023-11-19T15:52:09\",\"2023-11-19T15:55:53\",\"2023-11-19T15:59:45\",\"2023-11-19T16:03:34\",\"2023-11-19T16:04:07\",\"2023-11-19T16:05:28\",\"2023-11-19T16:09:04\",\"2023-11-19T16:12:02\",\"2023-11-19T16:13:57\",\"2023-11-19T16:16:23\",\"2023-11-19T16:21:05\",\"2023-11-19T16:24:12\",\"2023-11-19T16:28:09\",\"2023-11-19T16:31:04\",\"2023-11-19T16:34:57\",\"2023-11-19T16:38:32\",\"2023-11-19T16:41:39\",\"2023-11-19T16:42:19\",\"2023-11-19T18:00:33\",\"2023-11-19T18:04:13\",\"2023-11-19T18:07:58\",\"2023-11-19T18:11:38\",\"2023-11-19T18:15:57\",\"2023-11-19T18:20:49\",\"2023-11-19T18:27:41\",\"2023-11-19T18:40:52\",\"2023-11-21T12:18:27\",\"2023-11-21T12:20:27\",\"2023-11-21T12:23:48\",\"2023-11-21T12:29:14\",\"2023-11-21T12:32:15\",\"2023-11-21T12:36:31\",\"2023-11-21T12:39:47\",\"2023-11-21T12:44:13\",\"2023-11-21T12:47:53\",\"2023-11-21T21:37:56\",\"2023-11-21T21:40:26\",\"2023-11-21T21:43:52\",\"2023-11-21T21:47:04\",\"2023-11-21T21:50:40\",\"2023-11-26T21:53:28\",\"2023-11-28T20:30:01\",\"2023-11-28T20:34:34\",\"2023-11-28T20:40:07\",\"2023-11-28T20:44:37\",\"2023-11-28T20:47:06\",\"2023-11-29T19:56:59\",\"2023-11-29T20:01:38\",\"2023-12-01T13:05:57\",\"2023-12-01T13:07:50\",\"2023-12-01T13:11:18\",\"2023-12-01T13:14:49\",\"2023-12-02T13:14:57\",\"2023-12-02T13:17:57\",\"2023-12-03T17:10:31\",\"2023-12-03T17:13:56\",\"2023-12-10T18:50:29\",\"2023-12-15T16:30:41\",\"2023-12-15T16:34:45\",\"2023-12-15T16:39:38\",\"2023-12-16T21:12:06\",\"2023-12-17T08:53:17\",\"2023-12-17T08:57:42\",\"2023-12-17T08:59:47\",\"2023-12-17T09:02:38\",\"2023-12-17T09:04:23\",\"2023-12-17T09:07:23\",\"2023-12-17T13:50:21\",\"2023-12-17T13:55:19\",\"2023-12-17T13:59:42\",\"2023-12-17T14:04:28\",\"2023-12-17T14:08:42\",\"2023-12-17T14:12:02\",\"2023-12-17T14:16:00\",\"2023-12-17T14:20:22\",\"2023-12-17T14:24:26\",\"2023-12-17T14:29:05\",\"2023-12-17T14:32:52\",\"2023-12-17T14:36:17\",\"2023-12-17T14:39:24\",\"2023-12-17T14:41:43\",\"2023-12-17T14:45:42\",\"2023-12-17T14:49:47\",\"2023-12-17T14:54:38\",\"2023-12-17T14:59:05\",\"2023-12-19T13:11:22\",\"2023-12-19T13:15:06\",\"2023-12-19T13:17:58\",\"2023-12-19T13:21:32\",\"2023-12-31T15:54:54\",\"2023-12-31T15:58:09\",\"2023-12-31T16:01:35\",\"2024-01-05T19:51:41\",\"2024-01-05T19:54:13\",\"2024-01-05T19:56:21\",\"2024-01-05T19:58:35\",\"2024-01-05T20:00:52\",\"2024-01-05T20:02:56\",\"2024-01-13T19:24:02\",\"2024-01-13T19:26:16\",\"2024-01-13T19:28:39\",\"2024-01-13T19:31:06\",\"2024-01-13T19:33:00\",\"2024-01-13T19:34:50\",\"2024-01-13T19:37:09\",\"2024-01-13T19:39:32\",\"2024-01-13T19:41:09\",\"2024-01-13T19:43:32\",\"2024-01-13T19:46:19\",\"2024-01-13T19:48:36\",\"2024-01-14T19:22:12\",\"2024-01-14T19:24:24\",\"2024-01-14T19:26:35\",\"2024-01-14T19:28:49\",\"2024-01-14T19:31:03\",\"2024-01-14T19:33:32\",\"2024-01-14T19:35:49\",\"2024-01-14T19:37:56\",\"2024-01-14T19:40:02\",\"2024-01-14T19:42:11\",\"2024-01-15T08:51:44\",\"2024-01-15T08:54:02\",\"2024-01-15T08:56:36\",\"2024-01-15T08:58:39\",\"2024-01-15T09:00:01\",\"2024-01-17T18:26:58\",\"2024-01-17T18:27:43\",\"2024-01-17T18:31:38\",\"2024-01-18T09:22:15\",\"2024-01-18T09:24:18\",\"2024-01-18T09:26:43\",\"2024-01-19T09:59:41\",\"2024-01-19T10:02:01\",\"2024-01-21T14:54:37\",\"2024-01-21T14:57:02\",\"2024-01-21T14:59:05\",\"2024-01-21T15:01:41\",\"2024-01-21T15:04:01\",\"2024-01-21T15:06:24\",\"2024-02-08T14:28:37\",\"2024-02-08T14:30:55\",\"2024-02-09T10:11:11\",\"2024-02-09T10:14:47\",\"2024-02-09T10:17:52\",\"2024-02-09T10:20:57\",\"2024-02-09T10:23:00\",\"2024-02-09T10:26:06\",\"2024-02-09T10:28:44\",\"2024-02-09T10:33:12\",\"2024-02-09T10:34:06\",\"2024-02-20T20:46:27\",\"2024-02-20T20:50:23\",\"2024-02-20T20:57:04\",\"2024-02-20T21:00:53\",\"2024-02-20T21:04:46\",\"2024-02-20T21:07:18\",\"2024-04-06T13:49:12\",\"2024-04-06T13:53:17\",\"2024-04-06T13:55:15\",\"2024-04-07T17:41:37\",\"2024-04-07T17:44:38\",\"2024-07-13T12:45:08\",\"2024-07-13T12:47:28\",\"2024-07-13T12:52:02\",\"2024-07-13T12:56:11\",\"2024-07-13T12:58:59\",\"2024-07-13T20:49:19\",\"2024-07-13T20:56:21\",\"2024-07-13T21:02:25\",\"2024-07-13T21:12:00\",\"2024-07-13T21:15:06\",\"2024-07-13T21:18:20\",\"2024-07-13T21:20:44\",\"2024-07-13T21:23:24\",\"2024-07-13T21:26:58\",\"2024-07-13T21:28:36\",\"2024-07-13T21:29:14\",\"2024-07-13T21:31:40\",\"2024-07-13T21:34:17\",\"2024-07-16T11:56:04\",\"2024-07-16T11:56:36\",\"2024-07-16T12:00:47\",\"2024-07-16T12:05:36\",\"2024-07-16T12:09:20\",\"2024-07-16T12:12:03\",\"2024-07-16T12:14:34\",\"2024-07-16T12:16:09\",\"2024-07-16T12:19:32\",\"2024-07-16T12:23:57\",\"2024-07-16T12:27:23\",\"2024-07-16T12:30:33\",\"2024-07-16T12:34:09\",\"2024-07-16T12:37:21\",\"2024-07-16T12:41:43\",\"2024-07-16T12:44:46\",\"2024-07-16T12:48:17\",\"2024-07-16T12:52:53\",\"2024-07-16T12:57:36\",\"2024-07-16T13:00:52\",\"2024-07-16T13:06:14\",\"2024-07-16T13:09:26\",\"2024-07-16T13:13:31\",\"2024-07-16T13:17:06\",\"2024-07-16T13:22:07\",\"2024-07-16T13:23:47\",\"2024-07-16T13:28:10\",\"2024-07-17T12:07:27\",\"2024-07-17T12:09:20\",\"2024-07-17T12:12:58\",\"2024-07-17T12:13:45\",\"2024-07-17T12:16:35\",\"2024-07-20T12:09:30\",\"2024-07-20T12:49:39\",\"2024-07-20T12:52:45\",\"2024-07-20T12:55:46\",\"2024-07-20T12:59:28\",\"2024-07-20T13:02:46\",\"2024-07-20T13:05:14\",\"2024-07-20T13:08:56\",\"2024-07-20T13:12:54\",\"2024-07-20T13:15:53\",\"2024-07-31T12:16:12\",\"2024-07-31T12:19:31\",\"2024-07-31T12:23:19\",\"2024-07-31T12:26:13\",\"2024-07-31T12:27:06\",\"2024-07-31T12:31:01\",\"2024-07-31T12:34:22\",\"2024-07-31T12:39:01\",\"2024-07-31T12:41:55\",\"2024-07-31T12:44:42\",\"2024-07-31T12:47:38\",\"2024-07-31T12:50:38\",\"2024-07-31T12:53:36\",\"2024-07-31T12:57:42\",\"2024-07-31T13:03:48\",\"2024-07-31T13:07:04\",\"2024-07-31T13:10:06\",\"2024-07-31T13:14:10\",\"2024-07-31T13:16:05\",\"2024-07-31T13:18:58\",\"2024-07-31T13:22:01\",\"2024-07-31T13:25:39\",\"2024-07-31T13:26:55\",\"2024-07-31T13:30:17\",\"2024-07-31T13:32:31\",\"2024-07-31T13:35:34\",\"2024-07-31T14:18:35\",\"2024-07-31T14:21:56\",\"2024-07-31T14:22:55\",\"2024-07-31T14:25:17\",\"2024-07-31T14:28:03\",\"2024-07-31T14:31:53\",\"2024-07-31T14:35:14\",\"2024-07-31T14:38:03\",\"2024-07-31T14:41:10\",\"2024-07-31T14:47:11\",\"2024-07-31T14:51:39\",\"2024-07-31T14:54:17\",\"2024-08-01T13:07:46\",\"2024-08-01T13:11:29\",\"2024-08-01T13:14:32\",\"2024-08-01T13:18:36\",\"2024-08-01T13:21:35\",\"2024-08-01T13:24:11\",\"2024-08-01T13:28:24\",\"2024-08-01T13:31:45\",\"2024-08-01T13:34:41\",\"2024-08-01T13:37:40\",\"2024-08-01T13:41:33\",\"2024-08-01T13:44:38\",\"2024-08-01T13:48:13\",\"2024-08-01T13:51:24\",\"2024-08-01T13:54:55\",\"2024-08-01T13:57:23\",\"2024-08-01T13:59:54\",\"2024-08-01T14:03:33\",\"2024-08-01T14:08:14\",\"2024-08-01T14:12:24\",\"2024-08-04T19:20:32\",\"2024-08-04T19:33:36\",\"2024-08-10T16:46:31\",\"2024-08-17T14:13:55\",\"2024-08-17T14:17:47\",\"2024-08-17T14:26:05\",\"2024-08-17T14:28:30\",\"2024-08-17T14:33:36\",\"2024-08-17T14:36:49\",\"2024-08-17T14:38:48\",\"2024-08-17T14:42:20\",\"2024-08-17T14:43:33\",\"2024-08-17T14:46:46\",\"2024-08-17T14:48:05\",\"2024-08-17T14:51:26\",\"2024-08-17T14:53:52\",\"2024-08-17T14:56:29\",\"2024-08-17T14:59:51\",\"2024-08-24T14:18:33\",\"2024-08-24T14:22:07\",\"2024-08-24T14:28:08\",\"2024-08-26T20:16:23\",\"2024-08-26T20:20:41\",\"2024-08-28T12:36:18\",\"2024-08-28T12:38:51\",\"2024-08-28T12:41:33\",\"2024-08-28T12:44:15\",\"2024-08-28T12:47:30\",\"2024-08-28T12:51:25\",\"2024-08-28T12:55:41\",\"2024-08-28T12:57:41\",\"2024-08-28T22:47:07\",\"2024-08-28T22:48:52\",\"2024-09-21T19:31:29\",\"2024-10-12T17:19:27\",\"2024-10-12T17:23:12\",\"2024-10-24T20:18:59\",\"2024-10-24T20:21:45\",\"2024-12-14T08:28:56\",\"2024-12-14T08:31:23\",\"2024-12-23T12:25:38\",\"2024-12-23T12:29:32\",\"2024-12-23T12:33:48\",\"2024-12-23T12:39:33\",\"2024-12-23T12:44:25\",\"2024-12-23T12:47:34\"],\"y\":[822.0,775.5,741.6666666666666,738.75,727.2,704.6,703.6,712.4,701.8,707.6,716.0,725.6,730.6,746.0,753.0,756.8,743.2,716.4,712.4,713.0,716.6,729.8,785.4,800.6,808.6,806.6,786.6,765.0,768.2,771.8,770.2,790.0,787.6,777.8,761.4,762.6,757.6,763.2,768.8,786.8,811.4,799.0,792.0,775.0,777.6,763.4,792.6,804.8,820.2,801.8,789.6,787.4,784.8,785.6,781.0,791.4,785.8,787.8,804.0,815.0,819.0,815.0,806.8,778.8,780.2,768.8,787.8,778.2,782.0,777.4,771.2,745.4,753.2,748.4,754.6,749.0,758.0,749.4,760.8,750.0,760.4,757.6,768.0,762.2,769.8,779.0,779.0,779.6,783.2,770.8,762.6,777.6,765.4,768.2,780.2,778.6,763.6,764.0,771.0,773.6,788.8,790.6,803.8,790.8,791.2,750.4,765.4,763.4,782.6,779.2,805.2,790.6,795.4,781.8,777.8,811.0,813.6,810.0,809.2,806.2,776.6,761.0,765.8,770.8,777.0,785.0,809.2,808.6,819.6,836.4,822.6,825.6,843.6,829.2,828.6,845.4,842.4,832.2,839.6,825.2,822.6,824.2,822.0,816.2,830.8,840.2,830.4,832.0,844.0,847.4,844.6,858.0,869.8,868.6,854.2,847.2,845.6,835.8,854.2,869.2,893.4,892.8,894.0,875.8,851.6,824.8,820.0,815.8,827.0,847.0,854.6,862.8,866.8,865.6,866.2,862.2,856.2,824.4,799.6,797.4,779.2,777.4,808.6,820.0,824.4,844.0,835.8,852.0,856.8,855.4,857.6,884.4,884.6,884.0,886.8,894.0,889.2,876.4,879.2,886.8,881.4,869.8,868.6,867.6,860.8,868.4,877.4,880.8,885.0,891.2,899.6,902.4,907.0,910.0,908.8,902.0,903.2,899.6,897.6,900.2,891.8,892.8,907.2,905.4,910.0,899.2,894.4,881.0,884.6,881.2,883.2,880.0,878.4,893.6,885.8,896.4,895.0,902.8,875.2,875.2,872.0,886.0,812.2,815.8,816.8,825.2,812.4,878.0,875.2,868.6,883.2,881.8,893.6,895.6,883.2,851.4,861.6,848.8,850.0,853.6,863.2,867.8,869.2,859.4,873.0,866.8,827.6,824.8,833.2,836.6,842.4,875.2,872.8,873.4,865.8,872.4,863.4,860.8,859.6,874.8,863.4,861.2,862.8,845.6,813.2,808.4,806.6,806.8,824.0,832.2,837.0,854.8,840.0,840.8,855.4,863.6,851.2,870.8,909.4,914.8,926.2,943.4,949.2,934.0,932.4,943.4,932.2,927.8,920.4,921.6,898.6,897.8,899.4,887.0,882.8,921.2,954.4,947.8,941.8,948.8,957.4,920.4,923.4,914.2,903.6,844.6,843.4,736.2,596.0,597.2,653.4,655.8,765.8,1091.0,1121.2,1078.0,1097.8,1093.8,935.8,909.6,912.4,894.0,886.4,875.0,873.2,854.2,843.6,826.2,826.2,838.4,855.8,850.4,878.4,869.4,857.8,854.0,870.8,873.4,882.8,882.2,902.4,890.2,880.2,874.6,878.2,852.0,850.8,849.2,844.8,833.2,821.8,841.4,843.4,843.8,845.2,855.6,844.8,845.2,850.2,850.2,838.6,832.2,809.8,804.8,795.6,797.4,803.2,818.8,812.4,826.8,841.8,840.2,846.4,853.2,848.8,861.6,857.0,859.0,876.0,877.8,883.6,885.4,870.6,856.6,852.6,827.0,824.6,834.8,806.6,805.8,811.2,814.8,818.2,845.6,857.6,862.2,861.8,863.0,866.2,843.2,840.8,859.8,861.8,855.4,876.8,899.4,882.2,885.6,896.0,898.0,877.6,882.6,883.4,882.2,877.6,871.0,869.4,861.8,860.6,862.0,852.0,853.2,855.6,859.8,857.8,874.2,872.0,872.4,870.0,879.2,881.2,897.0,875.6,882.8,876.6,877.8,864.0,890.4,871.4,869.2,867.4,862.4,863.6,865.4,873.8,885.0,890.8,904.8,922.4,924.2,921.6,928.0,919.8,908.8,912.6,922.0,924.8,932.8,945.2,954.2,945.8,948.2,940.8,939.2,906.6,890.2,887.6,883.2,880.6,893.0,908.0,902.4,907.8,905.8,906.4,898.0,879.8,868.8,863.8,862.0,860.2,878.6,885.4,888.4,978.2,983.6,976.4,972.6,1000.6,914.8,912.8],\"type\":\"scatter\"}],                        {\"template\":{\"data\":{\"histogram2dcontour\":[{\"type\":\"histogram2dcontour\",\"colorbar\":{\"outlinewidth\":0,\"ticks\":\"\"},\"colorscale\":[[0.0,\"#0d0887\"],[0.1111111111111111,\"#46039f\"],[0.2222222222222222,\"#7201a8\"],[0.3333333333333333,\"#9c179e\"],[0.4444444444444444,\"#bd3786\"],[0.5555555555555556,\"#d8576b\"],[0.6666666666666666,\"#ed7953\"],[0.7777777777777778,\"#fb9f3a\"],[0.8888888888888888,\"#fdca26\"],[1.0,\"#f0f921\"]]}],\"choropleth\":[{\"type\":\"choropleth\",\"colorbar\":{\"outlinewidth\":0,\"ticks\":\"\"}}],\"histogram2d\":[{\"type\":\"histogram2d\",\"colorbar\":{\"outlinewidth\":0,\"ticks\":\"\"},\"colorscale\":[[0.0,\"#0d0887\"],[0.1111111111111111,\"#46039f\"],[0.2222222222222222,\"#7201a8\"],[0.3333333333333333,\"#9c179e\"],[0.4444444444444444,\"#bd3786\"],[0.5555555555555556,\"#d8576b\"],[0.6666666666666666,\"#ed7953\"],[0.7777777777777778,\"#fb9f3a\"],[0.8888888888888888,\"#fdca26\"],[1.0,\"#f0f921\"]]}],\"heatmap\":[{\"type\":\"heatmap\",\"colorbar\":{\"outlinewidth\":0,\"ticks\":\"\"},\"colorscale\":[[0.0,\"#0d0887\"],[0.1111111111111111,\"#46039f\"],[0.2222222222222222,\"#7201a8\"],[0.3333333333333333,\"#9c179e\"],[0.4444444444444444,\"#bd3786\"],[0.5555555555555556,\"#d8576b\"],[0.6666666666666666,\"#ed7953\"],[0.7777777777777778,\"#fb9f3a\"],[0.8888888888888888,\"#fdca26\"],[1.0,\"#f0f921\"]]}],\"heatmapgl\":[{\"type\":\"heatmapgl\",\"colorbar\":{\"outlinewidth\":0,\"ticks\":\"\"},\"colorscale\":[[0.0,\"#0d0887\"],[0.1111111111111111,\"#46039f\"],[0.2222222222222222,\"#7201a8\"],[0.3333333333333333,\"#9c179e\"],[0.4444444444444444,\"#bd3786\"],[0.5555555555555556,\"#d8576b\"],[0.6666666666666666,\"#ed7953\"],[0.7777777777777778,\"#fb9f3a\"],[0.8888888888888888,\"#fdca26\"],[1.0,\"#f0f921\"]]}],\"contourcarpet\":[{\"type\":\"contourcarpet\",\"colorbar\":{\"outlinewidth\":0,\"ticks\":\"\"}}],\"contour\":[{\"type\":\"contour\",\"colorbar\":{\"outlinewidth\":0,\"ticks\":\"\"},\"colorscale\":[[0.0,\"#0d0887\"],[0.1111111111111111,\"#46039f\"],[0.2222222222222222,\"#7201a8\"],[0.3333333333333333,\"#9c179e\"],[0.4444444444444444,\"#bd3786\"],[0.5555555555555556,\"#d8576b\"],[0.6666666666666666,\"#ed7953\"],[0.7777777777777778,\"#fb9f3a\"],[0.8888888888888888,\"#fdca26\"],[1.0,\"#f0f921\"]]}],\"surface\":[{\"type\":\"surface\",\"colorbar\":{\"outlinewidth\":0,\"ticks\":\"\"},\"colorscale\":[[0.0,\"#0d0887\"],[0.1111111111111111,\"#46039f\"],[0.2222222222222222,\"#7201a8\"],[0.3333333333333333,\"#9c179e\"],[0.4444444444444444,\"#bd3786\"],[0.5555555555555556,\"#d8576b\"],[0.6666666666666666,\"#ed7953\"],[0.7777777777777778,\"#fb9f3a\"],[0.8888888888888888,\"#fdca26\"],[1.0,\"#f0f921\"]]}],\"mesh3d\":[{\"type\":\"mesh3d\",\"colorbar\":{\"outlinewidth\":0,\"ticks\":\"\"}}],\"scatter\":[{\"fillpattern\":{\"fillmode\":\"overlay\",\"size\":10,\"solidity\":0.2},\"type\":\"scatter\"}],\"parcoords\":[{\"type\":\"parcoords\",\"line\":{\"colorbar\":{\"outlinewidth\":0,\"ticks\":\"\"}}}],\"scatterpolargl\":[{\"type\":\"scatterpolargl\",\"marker\":{\"colorbar\":{\"outlinewidth\":0,\"ticks\":\"\"}}}],\"bar\":[{\"error_x\":{\"color\":\"#2a3f5f\"},\"error_y\":{\"color\":\"#2a3f5f\"},\"marker\":{\"line\":{\"color\":\"#E5ECF6\",\"width\":0.5},\"pattern\":{\"fillmode\":\"overlay\",\"size\":10,\"solidity\":0.2}},\"type\":\"bar\"}],\"scattergeo\":[{\"type\":\"scattergeo\",\"marker\":{\"colorbar\":{\"outlinewidth\":0,\"ticks\":\"\"}}}],\"scatterpolar\":[{\"type\":\"scatterpolar\",\"marker\":{\"colorbar\":{\"outlinewidth\":0,\"ticks\":\"\"}}}],\"histogram\":[{\"marker\":{\"pattern\":{\"fillmode\":\"overlay\",\"size\":10,\"solidity\":0.2}},\"type\":\"histogram\"}],\"scattergl\":[{\"type\":\"scattergl\",\"marker\":{\"colorbar\":{\"outlinewidth\":0,\"ticks\":\"\"}}}],\"scatter3d\":[{\"type\":\"scatter3d\",\"line\":{\"colorbar\":{\"outlinewidth\":0,\"ticks\":\"\"}},\"marker\":{\"colorbar\":{\"outlinewidth\":0,\"ticks\":\"\"}}}],\"scattermapbox\":[{\"type\":\"scattermapbox\",\"marker\":{\"colorbar\":{\"outlinewidth\":0,\"ticks\":\"\"}}}],\"scatterternary\":[{\"type\":\"scatterternary\",\"marker\":{\"colorbar\":{\"outlinewidth\":0,\"ticks\":\"\"}}}],\"scattercarpet\":[{\"type\":\"scattercarpet\",\"marker\":{\"colorbar\":{\"outlinewidth\":0,\"ticks\":\"\"}}}],\"carpet\":[{\"aaxis\":{\"endlinecolor\":\"#2a3f5f\",\"gridcolor\":\"white\",\"linecolor\":\"white\",\"minorgridcolor\":\"white\",\"startlinecolor\":\"#2a3f5f\"},\"baxis\":{\"endlinecolor\":\"#2a3f5f\",\"gridcolor\":\"white\",\"linecolor\":\"white\",\"minorgridcolor\":\"white\",\"startlinecolor\":\"#2a3f5f\"},\"type\":\"carpet\"}],\"table\":[{\"cells\":{\"fill\":{\"color\":\"#EBF0F8\"},\"line\":{\"color\":\"white\"}},\"header\":{\"fill\":{\"color\":\"#C8D4E3\"},\"line\":{\"color\":\"white\"}},\"type\":\"table\"}],\"barpolar\":[{\"marker\":{\"line\":{\"color\":\"#E5ECF6\",\"width\":0.5},\"pattern\":{\"fillmode\":\"overlay\",\"size\":10,\"solidity\":0.2}},\"type\":\"barpolar\"}],\"pie\":[{\"automargin\":true,\"type\":\"pie\"}]},\"layout\":{\"autotypenumbers\":\"strict\",\"colorway\":[\"#636efa\",\"#EF553B\",\"#00cc96\",\"#ab63fa\",\"#FFA15A\",\"#19d3f3\",\"#FF6692\",\"#B6E880\",\"#FF97FF\",\"#FECB52\"],\"font\":{\"color\":\"#2a3f5f\"},\"hovermode\":\"closest\",\"hoverlabel\":{\"align\":\"left\"},\"paper_bgcolor\":\"white\",\"plot_bgcolor\":\"#E5ECF6\",\"polar\":{\"bgcolor\":\"#E5ECF6\",\"angularaxis\":{\"gridcolor\":\"white\",\"linecolor\":\"white\",\"ticks\":\"\"},\"radialaxis\":{\"gridcolor\":\"white\",\"linecolor\":\"white\",\"ticks\":\"\"}},\"ternary\":{\"bgcolor\":\"#E5ECF6\",\"aaxis\":{\"gridcolor\":\"white\",\"linecolor\":\"white\",\"ticks\":\"\"},\"baxis\":{\"gridcolor\":\"white\",\"linecolor\":\"white\",\"ticks\":\"\"},\"caxis\":{\"gridcolor\":\"white\",\"linecolor\":\"white\",\"ticks\":\"\"}},\"coloraxis\":{\"colorbar\":{\"outlinewidth\":0,\"ticks\":\"\"}},\"colorscale\":{\"sequential\":[[0.0,\"#0d0887\"],[0.1111111111111111,\"#46039f\"],[0.2222222222222222,\"#7201a8\"],[0.3333333333333333,\"#9c179e\"],[0.4444444444444444,\"#bd3786\"],[0.5555555555555556,\"#d8576b\"],[0.6666666666666666,\"#ed7953\"],[0.7777777777777778,\"#fb9f3a\"],[0.8888888888888888,\"#fdca26\"],[1.0,\"#f0f921\"]],\"sequentialminus\":[[0.0,\"#0d0887\"],[0.1111111111111111,\"#46039f\"],[0.2222222222222222,\"#7201a8\"],[0.3333333333333333,\"#9c179e\"],[0.4444444444444444,\"#bd3786\"],[0.5555555555555556,\"#d8576b\"],[0.6666666666666666,\"#ed7953\"],[0.7777777777777778,\"#fb9f3a\"],[0.8888888888888888,\"#fdca26\"],[1.0,\"#f0f921\"]],\"diverging\":[[0,\"#8e0152\"],[0.1,\"#c51b7d\"],[0.2,\"#de77ae\"],[0.3,\"#f1b6da\"],[0.4,\"#fde0ef\"],[0.5,\"#f7f7f7\"],[0.6,\"#e6f5d0\"],[0.7,\"#b8e186\"],[0.8,\"#7fbc41\"],[0.9,\"#4d9221\"],[1,\"#276419\"]]},\"xaxis\":{\"gridcolor\":\"white\",\"linecolor\":\"white\",\"ticks\":\"\",\"title\":{\"standoff\":15},\"zerolinecolor\":\"white\",\"automargin\":true,\"zerolinewidth\":2},\"yaxis\":{\"gridcolor\":\"white\",\"linecolor\":\"white\",\"ticks\":\"\",\"title\":{\"standoff\":15},\"zerolinecolor\":\"white\",\"automargin\":true,\"zerolinewidth\":2},\"scene\":{\"xaxis\":{\"backgroundcolor\":\"#E5ECF6\",\"gridcolor\":\"white\",\"linecolor\":\"white\",\"showbackground\":true,\"ticks\":\"\",\"zerolinecolor\":\"white\",\"gridwidth\":2},\"yaxis\":{\"backgroundcolor\":\"#E5ECF6\",\"gridcolor\":\"white\",\"linecolor\":\"white\",\"showbackground\":true,\"ticks\":\"\",\"zerolinecolor\":\"white\",\"gridwidth\":2},\"zaxis\":{\"backgroundcolor\":\"#E5ECF6\",\"gridcolor\":\"white\",\"linecolor\":\"white\",\"showbackground\":true,\"ticks\":\"\",\"zerolinecolor\":\"white\",\"gridwidth\":2}},\"shapedefaults\":{\"line\":{\"color\":\"#2a3f5f\"}},\"annotationdefaults\":{\"arrowcolor\":\"#2a3f5f\",\"arrowhead\":0,\"arrowwidth\":1},\"geo\":{\"bgcolor\":\"white\",\"landcolor\":\"#E5ECF6\",\"subunitcolor\":\"white\",\"showland\":true,\"showlakes\":true,\"lakecolor\":\"white\"},\"title\":{\"x\":0.05},\"mapbox\":{\"style\":\"light\"}}},\"title\":{\"text\":\"Bullet Rating Trends Over Time (Smoothed)\"},\"xaxis\":{\"rangeslider\":{\"visible\":true},\"title\":{\"text\":\"Date\"},\"type\":\"date\",\"rangeselector\":{\"buttons\":[{\"count\":1,\"label\":\"1m\",\"step\":\"month\",\"stepmode\":\"backward\"},{\"count\":6,\"label\":\"6m\",\"step\":\"month\",\"stepmode\":\"backward\"},{\"count\":1,\"label\":\"1y\",\"step\":\"year\",\"stepmode\":\"backward\"},{\"step\":\"all\"}]},\"showspikes\":true,\"spikecolor\":\"purple\",\"spikesnap\":\"cursor\",\"spikemode\":\"across\"},\"yaxis\":{\"title\":{\"text\":\"Rating\"},\"showspikes\":true,\"spikecolor\":\"orange\",\"spikethickness\":2},\"plot_bgcolor\":\"rgba(255, 255, 255, 0.8)\",\"paper_bgcolor\":\"rgba(255, 255, 255, 0.8)\"},                        {\"responsive\": true}                    ).then(function(){\n",
       "                            \n",
       "var gd = document.getElementById('c946db3c-8156-445b-a5d9-b96838f59d4a');\n",
       "var x = new MutationObserver(function (mutations, observer) {{\n",
       "        var display = window.getComputedStyle(gd).display;\n",
       "        if (!display || display === 'none') {{\n",
       "            console.log([gd, 'removed!']);\n",
       "            Plotly.purge(gd);\n",
       "            observer.disconnect();\n",
       "        }}\n",
       "}});\n",
       "\n",
       "// Listen for the removal of the full notebook cells\n",
       "var notebookContainer = gd.closest('#notebook-container');\n",
       "if (notebookContainer) {{\n",
       "    x.observe(notebookContainer, {childList: true});\n",
       "}}\n",
       "\n",
       "// Listen for the clearing of the current output cell\n",
       "var outputEl = gd.closest('.output');\n",
       "if (outputEl) {{\n",
       "    x.observe(outputEl, {childList: true});\n",
       "}}\n",
       "\n",
       "                        })                };                });            </script>        </div>"
      ]
     },
     "metadata": {},
     "output_type": "display_data"
    },
    {
     "data": {
      "application/vnd.plotly.v1+json": {
       "config": {
        "plotlyServerURL": "https://plot.ly"
       },
       "data": [
        {
         "hovertemplate": "Rating: %{y}<br>Date: %{x}",
         "marker": {
          "color": "skyblue",
          "size": 5
         },
         "mode": "lines+markers",
         "name": "Rapid Rating",
         "type": "scatter",
         "x": [
          "2022-03-19T18:40:35",
          "2022-03-20T14:27:44",
          "2022-03-25T14:59:58",
          "2022-11-12T19:00:03",
          "2022-11-12T19:10:24",
          "2022-11-12T19:22:48",
          "2022-11-12T19:35:26",
          "2022-11-12T19:48:26",
          "2022-11-12T20:04:09",
          "2022-11-14T15:25:17",
          "2022-11-14T15:35:00",
          "2022-11-14T15:39:50",
          "2022-11-14T15:52:39",
          "2022-12-18T12:23:55",
          "2022-12-18T12:38:16",
          "2022-12-23T11:59:13",
          "2022-12-23T12:04:37",
          "2022-12-25T07:45:04",
          "2022-12-25T07:56:51",
          "2023-01-07T10:47:03",
          "2023-01-07T10:52:07",
          "2023-01-07T10:59:43",
          "2023-01-07T11:09:27",
          "2023-01-07T11:24:22",
          "2023-01-07T11:35:12",
          "2023-01-07T11:48:07",
          "2023-01-07T12:01:54",
          "2023-01-10T09:54:52",
          "2023-01-10T10:04:19",
          "2023-01-10T10:12:38",
          "2023-01-10T10:17:25",
          "2023-01-10T10:38:11",
          "2023-01-10T10:44:15",
          "2023-01-10T11:02:17",
          "2023-01-10T14:13:45",
          "2023-01-10T14:29:50",
          "2023-01-10T14:34:11",
          "2023-01-10T14:44:57",
          "2023-01-10T19:49:20",
          "2023-01-10T19:52:50",
          "2023-01-10T19:54:47",
          "2023-01-10T20:06:53",
          "2023-01-10T20:15:13",
          "2023-01-10T20:27:44",
          "2023-01-10T20:44:50",
          "2023-01-10T20:49:53",
          "2023-01-11T09:50:10",
          "2023-01-11T10:07:41",
          "2023-01-11T10:39:58",
          "2023-01-11T10:47:32",
          "2023-01-11T10:54:44",
          "2023-01-11T10:56:32",
          "2023-01-11T11:05:09",
          "2023-01-11T11:11:48",
          "2023-01-11T11:23:45",
          "2023-01-11T11:26:39",
          "2023-01-11T11:37:05",
          "2023-01-11T19:35:44",
          "2023-01-11T19:36:49",
          "2023-01-11T19:41:25",
          "2023-01-11T19:52:39",
          "2023-01-11T19:58:03",
          "2023-01-11T20:02:31",
          "2023-01-11T20:08:30",
          "2023-01-11T20:09:21",
          "2023-01-12T06:15:58",
          "2023-01-12T07:20:28",
          "2023-01-12T07:29:23",
          "2023-01-12T07:34:47",
          "2023-01-12T07:40:47",
          "2023-01-12T07:52:52",
          "2023-01-12T09:05:20",
          "2023-01-12T09:11:17",
          "2023-01-12T09:16:36",
          "2023-01-12T11:18:16",
          "2023-01-12T11:24:19",
          "2023-01-12T11:29:10",
          "2023-01-12T11:36:26",
          "2023-01-12T11:48:35",
          "2023-01-13T13:19:31",
          "2023-01-13T13:26:24",
          "2023-01-13T13:38:50",
          "2023-01-13T13:47:44",
          "2023-01-14T16:05:56",
          "2023-01-14T16:15:13",
          "2023-01-14T16:19:59",
          "2023-01-14T16:26:39",
          "2023-01-15T08:44:35",
          "2023-01-15T08:47:34",
          "2023-01-15T08:54:29",
          "2023-01-15T08:59:31",
          "2023-01-15T10:24:37",
          "2023-01-15T10:41:26",
          "2023-01-15T10:56:07",
          "2023-01-15T16:51:09",
          "2023-01-15T16:59:03",
          "2023-01-15T17:11:04",
          "2023-01-15T17:21:02",
          "2023-01-15T17:25:29",
          "2023-01-15T17:27:49",
          "2023-01-15T17:43:05",
          "2023-01-16T07:18:04",
          "2023-01-16T18:03:54",
          "2023-01-16T18:14:36",
          "2023-01-16T18:26:41",
          "2023-01-16T18:33:09",
          "2023-01-17T16:26:29",
          "2023-01-18T13:25:09",
          "2023-01-20T10:03:21",
          "2023-01-20T10:10:40",
          "2023-01-20T10:12:39",
          "2023-01-23T05:55:03",
          "2023-01-23T15:58:04",
          "2023-01-23T16:15:06",
          "2023-01-23T19:33:59",
          "2023-01-25T06:52:01",
          "2023-01-27T12:09:29",
          "2023-01-27T12:37:20",
          "2023-01-27T12:47:15",
          "2023-01-27T13:04:00",
          "2023-01-27T13:13:49",
          "2023-01-27T13:21:50",
          "2023-01-27T22:05:58",
          "2023-01-27T22:10:48",
          "2023-01-27T22:13:24",
          "2023-01-28T00:13:34",
          "2023-01-29T06:49:05",
          "2023-01-29T06:59:04",
          "2023-01-29T07:03:50",
          "2023-01-29T14:00:38",
          "2023-01-29T14:02:59",
          "2023-01-29T14:11:59",
          "2023-01-29T14:24:39",
          "2023-01-29T14:39:11",
          "2023-01-29T15:10:02",
          "2023-01-29T15:14:15",
          "2023-01-31T06:58:00",
          "2023-01-31T07:01:25",
          "2023-01-31T07:08:46",
          "2023-01-31T07:25:51",
          "2023-01-31T07:40:43",
          "2023-01-31T13:47:36",
          "2023-02-03T07:46:41",
          "2023-02-03T08:02:48",
          "2023-02-04T20:30:53",
          "2023-02-05T06:46:41",
          "2023-02-05T06:51:13",
          "2023-02-05T07:00:22",
          "2023-02-05T18:38:41",
          "2023-02-05T18:55:32",
          "2023-02-05T19:02:59",
          "2023-02-05T19:17:39",
          "2023-02-06T09:08:49",
          "2023-02-06T09:15:01",
          "2023-02-06T09:30:07",
          "2023-02-06T09:41:05",
          "2023-02-06T09:56:40",
          "2023-02-06T10:03:46",
          "2023-02-06T10:50:40",
          "2023-02-06T11:06:03",
          "2023-02-06T11:16:04",
          "2023-02-06T11:23:29",
          "2023-02-07T08:57:48",
          "2023-02-08T10:36:59",
          "2023-02-08T10:45:15",
          "2023-02-08T10:46:51",
          "2023-02-08T14:44:30",
          "2023-02-08T14:58:01",
          "2023-02-08T15:12:18",
          "2023-02-08T19:12:43",
          "2023-02-08T19:24:59",
          "2023-02-08T19:59:27",
          "2023-02-09T09:31:58",
          "2023-02-09T09:42:52",
          "2023-02-09T09:44:01",
          "2023-02-09T09:50:32",
          "2023-02-09T10:01:41",
          "2023-02-09T10:15:26",
          "2023-02-09T10:22:52",
          "2023-02-09T11:26:02",
          "2023-02-09T11:51:18",
          "2023-02-10T06:59:35",
          "2023-02-10T07:06:06",
          "2023-02-10T07:09:40",
          "2023-02-10T07:18:21",
          "2023-02-10T07:24:28",
          "2023-02-10T07:41:40",
          "2023-02-11T09:23:39",
          "2023-02-11T09:36:43",
          "2023-02-11T09:45:21",
          "2023-04-01T08:10:58",
          "2023-04-01T11:00:56",
          "2023-04-29T16:57:14",
          "2023-04-29T17:06:29",
          "2023-04-29T17:19:38",
          "2023-06-03T16:32:53",
          "2023-06-03T16:33:17",
          "2023-06-03T16:47:54",
          "2023-09-05T11:07:37",
          "2023-09-06T09:17:00",
          "2023-09-06T09:24:13",
          "2023-09-07T08:28:33",
          "2023-09-12T14:50:14",
          "2023-10-24T13:54:40",
          "2023-12-10T18:30:46",
          "2023-12-10T18:33:29",
          "2023-12-10T18:45:58",
          "2024-01-01T20:02:00",
          "2024-01-01T21:00:30",
          "2024-01-05T19:40:42",
          "2024-01-09T10:15:16",
          "2024-01-17T14:35:12",
          "2024-01-17T14:54:14",
          "2024-09-18T18:17:45",
          "2024-09-18T18:34:03",
          "2024-09-18T18:54:53",
          "2024-09-18T19:01:18",
          "2024-09-18T19:10:34",
          "2024-09-18T19:26:03",
          "2024-09-18T19:32:38",
          "2024-09-18T19:43:50",
          "2024-09-18T20:03:34",
          "2024-09-20T20:05:06",
          "2024-09-20T20:18:40",
          "2024-09-20T20:24:57",
          "2024-09-20T20:29:07",
          "2024-09-20T20:41:25",
          "2024-09-20T20:53:46",
          "2024-09-20T21:09:09",
          "2024-09-26T21:38:41",
          "2024-09-26T21:44:49",
          "2024-09-26T22:02:32",
          "2024-09-28T20:17:47",
          "2024-09-28T20:29:14",
          "2024-09-28T20:38:06",
          "2024-10-12T16:53:26",
          "2024-10-12T17:04:19",
          "2024-10-12T17:11:13"
         ],
         "y": [
          669,
          646.5,
          650,
          601.75,
          587,
          573.2,
          572.2,
          537.8,
          551.6,
          559.2,
          573.4,
          567.2,
          590,
          602.8,
          613.6,
          608.4,
          607,
          624.4,
          648.2,
          669.6,
          666.4,
          695.2,
          706.4,
          717.8,
          727.2,
          746.8,
          744.2,
          740.6,
          725.4,
          719.8,
          727.8,
          730.8,
          733.4,
          720.8,
          723.2,
          703,
          706.4,
          706.4,
          726,
          718.2,
          733.8,
          735.6,
          741.4,
          759.2,
          749.8,
          734.2,
          714.6,
          714.4,
          706.4,
          743.4,
          765.4,
          787.8,
          789.6,
          782.8,
          752,
          752.6,
          745.8,
          743,
          751.8,
          780.2,
          781.4,
          790.4,
          789.8,
          789,
          777.4,
          769.2,
          774.2,
          768.8,
          757,
          761.8,
          779.4,
          782.6,
          803,
          818,
          825.4,
          827.2,
          830.2,
          820.8,
          813.2,
          808.2,
          821,
          816,
          825.2,
          825.8,
          824.8,
          800,
          797,
          789.4,
          793.8,
          784.8,
          779,
          784.8,
          779.4,
          777.6,
          775,
          776.2,
          766,
          767,
          766.2,
          743,
          745.2,
          764.4,
          764.4,
          765,
          797.6,
          793.6,
          762.4,
          757.6,
          757.6,
          747.6,
          735.2,
          742.2,
          744,
          739.2,
          730.4,
          748.2,
          754.2,
          749.6,
          748,
          752.2,
          742,
          729.8,
          718.8,
          713.6,
          714,
          703.6,
          704.6,
          713.4,
          714.8,
          710.4,
          726.4,
          728.4,
          728.6,
          723.4,
          725.2,
          716.4,
          720,
          721.8,
          730.4,
          738.4,
          734.8,
          726.2,
          724,
          719,
          710.8,
          718.8,
          718.8,
          708,
          706.4,
          704.8,
          704.6,
          704,
          718.2,
          721.2,
          726,
          726.2,
          733.6,
          728.8,
          729,
          723,
          721,
          724.2,
          726,
          730.2,
          734.6,
          731.8,
          723.4,
          727.4,
          721.8,
          727.6,
          729.4,
          732.4,
          730.4,
          737.6,
          729.8,
          739.2,
          740.4,
          739.2,
          733.2,
          742,
          732,
          730.8,
          729.4,
          730.8,
          744.4,
          747.8,
          741.8,
          740.4,
          735.6,
          717,
          711.8,
          714.4,
          710.6,
          638.8,
          630.6,
          626.6,
          632,
          630.6,
          630.4,
          558.8,
          558.4,
          490,
          421.6,
          488.4,
          564.4,
          514,
          581.6,
          659.6,
          628,
          635.8,
          654.8,
          633.8,
          612.8,
          711,
          708.2,
          807.6,
          839.6,
          914.8,
          877.2,
          921.6,
          896.8,
          926.2,
          910,
          930.8,
          922.6,
          928.4,
          926.4,
          934,
          930.2,
          925,
          940.2,
          931.8,
          915,
          940,
          933.6,
          903.6,
          937.8,
          934.6
         ]
        }
       ],
       "layout": {
        "paper_bgcolor": "rgba(255, 255, 255, 0.8)",
        "plot_bgcolor": "rgba(255, 255, 255, 0.8)",
        "template": {
         "data": {
          "bar": [
           {
            "error_x": {
             "color": "#2a3f5f"
            },
            "error_y": {
             "color": "#2a3f5f"
            },
            "marker": {
             "line": {
              "color": "#E5ECF6",
              "width": 0.5
             },
             "pattern": {
              "fillmode": "overlay",
              "size": 10,
              "solidity": 0.2
             }
            },
            "type": "bar"
           }
          ],
          "barpolar": [
           {
            "marker": {
             "line": {
              "color": "#E5ECF6",
              "width": 0.5
             },
             "pattern": {
              "fillmode": "overlay",
              "size": 10,
              "solidity": 0.2
             }
            },
            "type": "barpolar"
           }
          ],
          "carpet": [
           {
            "aaxis": {
             "endlinecolor": "#2a3f5f",
             "gridcolor": "white",
             "linecolor": "white",
             "minorgridcolor": "white",
             "startlinecolor": "#2a3f5f"
            },
            "baxis": {
             "endlinecolor": "#2a3f5f",
             "gridcolor": "white",
             "linecolor": "white",
             "minorgridcolor": "white",
             "startlinecolor": "#2a3f5f"
            },
            "type": "carpet"
           }
          ],
          "choropleth": [
           {
            "colorbar": {
             "outlinewidth": 0,
             "ticks": ""
            },
            "type": "choropleth"
           }
          ],
          "contour": [
           {
            "colorbar": {
             "outlinewidth": 0,
             "ticks": ""
            },
            "colorscale": [
             [
              0,
              "#0d0887"
             ],
             [
              0.1111111111111111,
              "#46039f"
             ],
             [
              0.2222222222222222,
              "#7201a8"
             ],
             [
              0.3333333333333333,
              "#9c179e"
             ],
             [
              0.4444444444444444,
              "#bd3786"
             ],
             [
              0.5555555555555556,
              "#d8576b"
             ],
             [
              0.6666666666666666,
              "#ed7953"
             ],
             [
              0.7777777777777778,
              "#fb9f3a"
             ],
             [
              0.8888888888888888,
              "#fdca26"
             ],
             [
              1,
              "#f0f921"
             ]
            ],
            "type": "contour"
           }
          ],
          "contourcarpet": [
           {
            "colorbar": {
             "outlinewidth": 0,
             "ticks": ""
            },
            "type": "contourcarpet"
           }
          ],
          "heatmap": [
           {
            "colorbar": {
             "outlinewidth": 0,
             "ticks": ""
            },
            "colorscale": [
             [
              0,
              "#0d0887"
             ],
             [
              0.1111111111111111,
              "#46039f"
             ],
             [
              0.2222222222222222,
              "#7201a8"
             ],
             [
              0.3333333333333333,
              "#9c179e"
             ],
             [
              0.4444444444444444,
              "#bd3786"
             ],
             [
              0.5555555555555556,
              "#d8576b"
             ],
             [
              0.6666666666666666,
              "#ed7953"
             ],
             [
              0.7777777777777778,
              "#fb9f3a"
             ],
             [
              0.8888888888888888,
              "#fdca26"
             ],
             [
              1,
              "#f0f921"
             ]
            ],
            "type": "heatmap"
           }
          ],
          "heatmapgl": [
           {
            "colorbar": {
             "outlinewidth": 0,
             "ticks": ""
            },
            "colorscale": [
             [
              0,
              "#0d0887"
             ],
             [
              0.1111111111111111,
              "#46039f"
             ],
             [
              0.2222222222222222,
              "#7201a8"
             ],
             [
              0.3333333333333333,
              "#9c179e"
             ],
             [
              0.4444444444444444,
              "#bd3786"
             ],
             [
              0.5555555555555556,
              "#d8576b"
             ],
             [
              0.6666666666666666,
              "#ed7953"
             ],
             [
              0.7777777777777778,
              "#fb9f3a"
             ],
             [
              0.8888888888888888,
              "#fdca26"
             ],
             [
              1,
              "#f0f921"
             ]
            ],
            "type": "heatmapgl"
           }
          ],
          "histogram": [
           {
            "marker": {
             "pattern": {
              "fillmode": "overlay",
              "size": 10,
              "solidity": 0.2
             }
            },
            "type": "histogram"
           }
          ],
          "histogram2d": [
           {
            "colorbar": {
             "outlinewidth": 0,
             "ticks": ""
            },
            "colorscale": [
             [
              0,
              "#0d0887"
             ],
             [
              0.1111111111111111,
              "#46039f"
             ],
             [
              0.2222222222222222,
              "#7201a8"
             ],
             [
              0.3333333333333333,
              "#9c179e"
             ],
             [
              0.4444444444444444,
              "#bd3786"
             ],
             [
              0.5555555555555556,
              "#d8576b"
             ],
             [
              0.6666666666666666,
              "#ed7953"
             ],
             [
              0.7777777777777778,
              "#fb9f3a"
             ],
             [
              0.8888888888888888,
              "#fdca26"
             ],
             [
              1,
              "#f0f921"
             ]
            ],
            "type": "histogram2d"
           }
          ],
          "histogram2dcontour": [
           {
            "colorbar": {
             "outlinewidth": 0,
             "ticks": ""
            },
            "colorscale": [
             [
              0,
              "#0d0887"
             ],
             [
              0.1111111111111111,
              "#46039f"
             ],
             [
              0.2222222222222222,
              "#7201a8"
             ],
             [
              0.3333333333333333,
              "#9c179e"
             ],
             [
              0.4444444444444444,
              "#bd3786"
             ],
             [
              0.5555555555555556,
              "#d8576b"
             ],
             [
              0.6666666666666666,
              "#ed7953"
             ],
             [
              0.7777777777777778,
              "#fb9f3a"
             ],
             [
              0.8888888888888888,
              "#fdca26"
             ],
             [
              1,
              "#f0f921"
             ]
            ],
            "type": "histogram2dcontour"
           }
          ],
          "mesh3d": [
           {
            "colorbar": {
             "outlinewidth": 0,
             "ticks": ""
            },
            "type": "mesh3d"
           }
          ],
          "parcoords": [
           {
            "line": {
             "colorbar": {
              "outlinewidth": 0,
              "ticks": ""
             }
            },
            "type": "parcoords"
           }
          ],
          "pie": [
           {
            "automargin": true,
            "type": "pie"
           }
          ],
          "scatter": [
           {
            "fillpattern": {
             "fillmode": "overlay",
             "size": 10,
             "solidity": 0.2
            },
            "type": "scatter"
           }
          ],
          "scatter3d": [
           {
            "line": {
             "colorbar": {
              "outlinewidth": 0,
              "ticks": ""
             }
            },
            "marker": {
             "colorbar": {
              "outlinewidth": 0,
              "ticks": ""
             }
            },
            "type": "scatter3d"
           }
          ],
          "scattercarpet": [
           {
            "marker": {
             "colorbar": {
              "outlinewidth": 0,
              "ticks": ""
             }
            },
            "type": "scattercarpet"
           }
          ],
          "scattergeo": [
           {
            "marker": {
             "colorbar": {
              "outlinewidth": 0,
              "ticks": ""
             }
            },
            "type": "scattergeo"
           }
          ],
          "scattergl": [
           {
            "marker": {
             "colorbar": {
              "outlinewidth": 0,
              "ticks": ""
             }
            },
            "type": "scattergl"
           }
          ],
          "scattermapbox": [
           {
            "marker": {
             "colorbar": {
              "outlinewidth": 0,
              "ticks": ""
             }
            },
            "type": "scattermapbox"
           }
          ],
          "scatterpolar": [
           {
            "marker": {
             "colorbar": {
              "outlinewidth": 0,
              "ticks": ""
             }
            },
            "type": "scatterpolar"
           }
          ],
          "scatterpolargl": [
           {
            "marker": {
             "colorbar": {
              "outlinewidth": 0,
              "ticks": ""
             }
            },
            "type": "scatterpolargl"
           }
          ],
          "scatterternary": [
           {
            "marker": {
             "colorbar": {
              "outlinewidth": 0,
              "ticks": ""
             }
            },
            "type": "scatterternary"
           }
          ],
          "surface": [
           {
            "colorbar": {
             "outlinewidth": 0,
             "ticks": ""
            },
            "colorscale": [
             [
              0,
              "#0d0887"
             ],
             [
              0.1111111111111111,
              "#46039f"
             ],
             [
              0.2222222222222222,
              "#7201a8"
             ],
             [
              0.3333333333333333,
              "#9c179e"
             ],
             [
              0.4444444444444444,
              "#bd3786"
             ],
             [
              0.5555555555555556,
              "#d8576b"
             ],
             [
              0.6666666666666666,
              "#ed7953"
             ],
             [
              0.7777777777777778,
              "#fb9f3a"
             ],
             [
              0.8888888888888888,
              "#fdca26"
             ],
             [
              1,
              "#f0f921"
             ]
            ],
            "type": "surface"
           }
          ],
          "table": [
           {
            "cells": {
             "fill": {
              "color": "#EBF0F8"
             },
             "line": {
              "color": "white"
             }
            },
            "header": {
             "fill": {
              "color": "#C8D4E3"
             },
             "line": {
              "color": "white"
             }
            },
            "type": "table"
           }
          ]
         },
         "layout": {
          "annotationdefaults": {
           "arrowcolor": "#2a3f5f",
           "arrowhead": 0,
           "arrowwidth": 1
          },
          "autotypenumbers": "strict",
          "coloraxis": {
           "colorbar": {
            "outlinewidth": 0,
            "ticks": ""
           }
          },
          "colorscale": {
           "diverging": [
            [
             0,
             "#8e0152"
            ],
            [
             0.1,
             "#c51b7d"
            ],
            [
             0.2,
             "#de77ae"
            ],
            [
             0.3,
             "#f1b6da"
            ],
            [
             0.4,
             "#fde0ef"
            ],
            [
             0.5,
             "#f7f7f7"
            ],
            [
             0.6,
             "#e6f5d0"
            ],
            [
             0.7,
             "#b8e186"
            ],
            [
             0.8,
             "#7fbc41"
            ],
            [
             0.9,
             "#4d9221"
            ],
            [
             1,
             "#276419"
            ]
           ],
           "sequential": [
            [
             0,
             "#0d0887"
            ],
            [
             0.1111111111111111,
             "#46039f"
            ],
            [
             0.2222222222222222,
             "#7201a8"
            ],
            [
             0.3333333333333333,
             "#9c179e"
            ],
            [
             0.4444444444444444,
             "#bd3786"
            ],
            [
             0.5555555555555556,
             "#d8576b"
            ],
            [
             0.6666666666666666,
             "#ed7953"
            ],
            [
             0.7777777777777778,
             "#fb9f3a"
            ],
            [
             0.8888888888888888,
             "#fdca26"
            ],
            [
             1,
             "#f0f921"
            ]
           ],
           "sequentialminus": [
            [
             0,
             "#0d0887"
            ],
            [
             0.1111111111111111,
             "#46039f"
            ],
            [
             0.2222222222222222,
             "#7201a8"
            ],
            [
             0.3333333333333333,
             "#9c179e"
            ],
            [
             0.4444444444444444,
             "#bd3786"
            ],
            [
             0.5555555555555556,
             "#d8576b"
            ],
            [
             0.6666666666666666,
             "#ed7953"
            ],
            [
             0.7777777777777778,
             "#fb9f3a"
            ],
            [
             0.8888888888888888,
             "#fdca26"
            ],
            [
             1,
             "#f0f921"
            ]
           ]
          },
          "colorway": [
           "#636efa",
           "#EF553B",
           "#00cc96",
           "#ab63fa",
           "#FFA15A",
           "#19d3f3",
           "#FF6692",
           "#B6E880",
           "#FF97FF",
           "#FECB52"
          ],
          "font": {
           "color": "#2a3f5f"
          },
          "geo": {
           "bgcolor": "white",
           "lakecolor": "white",
           "landcolor": "#E5ECF6",
           "showlakes": true,
           "showland": true,
           "subunitcolor": "white"
          },
          "hoverlabel": {
           "align": "left"
          },
          "hovermode": "closest",
          "mapbox": {
           "style": "light"
          },
          "paper_bgcolor": "white",
          "plot_bgcolor": "#E5ECF6",
          "polar": {
           "angularaxis": {
            "gridcolor": "white",
            "linecolor": "white",
            "ticks": ""
           },
           "bgcolor": "#E5ECF6",
           "radialaxis": {
            "gridcolor": "white",
            "linecolor": "white",
            "ticks": ""
           }
          },
          "scene": {
           "xaxis": {
            "backgroundcolor": "#E5ECF6",
            "gridcolor": "white",
            "gridwidth": 2,
            "linecolor": "white",
            "showbackground": true,
            "ticks": "",
            "zerolinecolor": "white"
           },
           "yaxis": {
            "backgroundcolor": "#E5ECF6",
            "gridcolor": "white",
            "gridwidth": 2,
            "linecolor": "white",
            "showbackground": true,
            "ticks": "",
            "zerolinecolor": "white"
           },
           "zaxis": {
            "backgroundcolor": "#E5ECF6",
            "gridcolor": "white",
            "gridwidth": 2,
            "linecolor": "white",
            "showbackground": true,
            "ticks": "",
            "zerolinecolor": "white"
           }
          },
          "shapedefaults": {
           "line": {
            "color": "#2a3f5f"
           }
          },
          "ternary": {
           "aaxis": {
            "gridcolor": "white",
            "linecolor": "white",
            "ticks": ""
           },
           "baxis": {
            "gridcolor": "white",
            "linecolor": "white",
            "ticks": ""
           },
           "bgcolor": "#E5ECF6",
           "caxis": {
            "gridcolor": "white",
            "linecolor": "white",
            "ticks": ""
           }
          },
          "title": {
           "x": 0.05
          },
          "xaxis": {
           "automargin": true,
           "gridcolor": "white",
           "linecolor": "white",
           "ticks": "",
           "title": {
            "standoff": 15
           },
           "zerolinecolor": "white",
           "zerolinewidth": 2
          },
          "yaxis": {
           "automargin": true,
           "gridcolor": "white",
           "linecolor": "white",
           "ticks": "",
           "title": {
            "standoff": 15
           },
           "zerolinecolor": "white",
           "zerolinewidth": 2
          }
         }
        },
        "title": {
         "text": "Rapid Rating Trends Over Time (Smoothed)"
        },
        "xaxis": {
         "rangeselector": {
          "buttons": [
           {
            "count": 1,
            "label": "1m",
            "step": "month",
            "stepmode": "backward"
           },
           {
            "count": 6,
            "label": "6m",
            "step": "month",
            "stepmode": "backward"
           },
           {
            "count": 1,
            "label": "1y",
            "step": "year",
            "stepmode": "backward"
           },
           {
            "step": "all"
           }
          ]
         },
         "rangeslider": {
          "visible": true
         },
         "showspikes": true,
         "spikecolor": "purple",
         "spikemode": "across",
         "spikesnap": "cursor",
         "title": {
          "text": "Date"
         },
         "type": "date"
        },
        "yaxis": {
         "showspikes": true,
         "spikecolor": "orange",
         "spikethickness": 2,
         "title": {
          "text": "Rating"
         }
        }
       }
      },
      "text/html": [
       "<div>                            <div id=\"fd0a51ad-885b-4c42-a493-9276a79eb253\" class=\"plotly-graph-div\" style=\"height:525px; width:100%;\"></div>            <script type=\"text/javascript\">                require([\"plotly\"], function(Plotly) {                    window.PLOTLYENV=window.PLOTLYENV || {};                                    if (document.getElementById(\"fd0a51ad-885b-4c42-a493-9276a79eb253\")) {                    Plotly.newPlot(                        \"fd0a51ad-885b-4c42-a493-9276a79eb253\",                        [{\"hovertemplate\":\"Rating: %{y}\\u003cbr\\u003eDate: %{x}\",\"marker\":{\"color\":\"skyblue\",\"size\":5},\"mode\":\"lines+markers\",\"name\":\"Rapid Rating\",\"x\":[\"2022-03-19T18:40:35\",\"2022-03-20T14:27:44\",\"2022-03-25T14:59:58\",\"2022-11-12T19:00:03\",\"2022-11-12T19:10:24\",\"2022-11-12T19:22:48\",\"2022-11-12T19:35:26\",\"2022-11-12T19:48:26\",\"2022-11-12T20:04:09\",\"2022-11-14T15:25:17\",\"2022-11-14T15:35:00\",\"2022-11-14T15:39:50\",\"2022-11-14T15:52:39\",\"2022-12-18T12:23:55\",\"2022-12-18T12:38:16\",\"2022-12-23T11:59:13\",\"2022-12-23T12:04:37\",\"2022-12-25T07:45:04\",\"2022-12-25T07:56:51\",\"2023-01-07T10:47:03\",\"2023-01-07T10:52:07\",\"2023-01-07T10:59:43\",\"2023-01-07T11:09:27\",\"2023-01-07T11:24:22\",\"2023-01-07T11:35:12\",\"2023-01-07T11:48:07\",\"2023-01-07T12:01:54\",\"2023-01-10T09:54:52\",\"2023-01-10T10:04:19\",\"2023-01-10T10:12:38\",\"2023-01-10T10:17:25\",\"2023-01-10T10:38:11\",\"2023-01-10T10:44:15\",\"2023-01-10T11:02:17\",\"2023-01-10T14:13:45\",\"2023-01-10T14:29:50\",\"2023-01-10T14:34:11\",\"2023-01-10T14:44:57\",\"2023-01-10T19:49:20\",\"2023-01-10T19:52:50\",\"2023-01-10T19:54:47\",\"2023-01-10T20:06:53\",\"2023-01-10T20:15:13\",\"2023-01-10T20:27:44\",\"2023-01-10T20:44:50\",\"2023-01-10T20:49:53\",\"2023-01-11T09:50:10\",\"2023-01-11T10:07:41\",\"2023-01-11T10:39:58\",\"2023-01-11T10:47:32\",\"2023-01-11T10:54:44\",\"2023-01-11T10:56:32\",\"2023-01-11T11:05:09\",\"2023-01-11T11:11:48\",\"2023-01-11T11:23:45\",\"2023-01-11T11:26:39\",\"2023-01-11T11:37:05\",\"2023-01-11T19:35:44\",\"2023-01-11T19:36:49\",\"2023-01-11T19:41:25\",\"2023-01-11T19:52:39\",\"2023-01-11T19:58:03\",\"2023-01-11T20:02:31\",\"2023-01-11T20:08:30\",\"2023-01-11T20:09:21\",\"2023-01-12T06:15:58\",\"2023-01-12T07:20:28\",\"2023-01-12T07:29:23\",\"2023-01-12T07:34:47\",\"2023-01-12T07:40:47\",\"2023-01-12T07:52:52\",\"2023-01-12T09:05:20\",\"2023-01-12T09:11:17\",\"2023-01-12T09:16:36\",\"2023-01-12T11:18:16\",\"2023-01-12T11:24:19\",\"2023-01-12T11:29:10\",\"2023-01-12T11:36:26\",\"2023-01-12T11:48:35\",\"2023-01-13T13:19:31\",\"2023-01-13T13:26:24\",\"2023-01-13T13:38:50\",\"2023-01-13T13:47:44\",\"2023-01-14T16:05:56\",\"2023-01-14T16:15:13\",\"2023-01-14T16:19:59\",\"2023-01-14T16:26:39\",\"2023-01-15T08:44:35\",\"2023-01-15T08:47:34\",\"2023-01-15T08:54:29\",\"2023-01-15T08:59:31\",\"2023-01-15T10:24:37\",\"2023-01-15T10:41:26\",\"2023-01-15T10:56:07\",\"2023-01-15T16:51:09\",\"2023-01-15T16:59:03\",\"2023-01-15T17:11:04\",\"2023-01-15T17:21:02\",\"2023-01-15T17:25:29\",\"2023-01-15T17:27:49\",\"2023-01-15T17:43:05\",\"2023-01-16T07:18:04\",\"2023-01-16T18:03:54\",\"2023-01-16T18:14:36\",\"2023-01-16T18:26:41\",\"2023-01-16T18:33:09\",\"2023-01-17T16:26:29\",\"2023-01-18T13:25:09\",\"2023-01-20T10:03:21\",\"2023-01-20T10:10:40\",\"2023-01-20T10:12:39\",\"2023-01-23T05:55:03\",\"2023-01-23T15:58:04\",\"2023-01-23T16:15:06\",\"2023-01-23T19:33:59\",\"2023-01-25T06:52:01\",\"2023-01-27T12:09:29\",\"2023-01-27T12:37:20\",\"2023-01-27T12:47:15\",\"2023-01-27T13:04:00\",\"2023-01-27T13:13:49\",\"2023-01-27T13:21:50\",\"2023-01-27T22:05:58\",\"2023-01-27T22:10:48\",\"2023-01-27T22:13:24\",\"2023-01-28T00:13:34\",\"2023-01-29T06:49:05\",\"2023-01-29T06:59:04\",\"2023-01-29T07:03:50\",\"2023-01-29T14:00:38\",\"2023-01-29T14:02:59\",\"2023-01-29T14:11:59\",\"2023-01-29T14:24:39\",\"2023-01-29T14:39:11\",\"2023-01-29T15:10:02\",\"2023-01-29T15:14:15\",\"2023-01-31T06:58:00\",\"2023-01-31T07:01:25\",\"2023-01-31T07:08:46\",\"2023-01-31T07:25:51\",\"2023-01-31T07:40:43\",\"2023-01-31T13:47:36\",\"2023-02-03T07:46:41\",\"2023-02-03T08:02:48\",\"2023-02-04T20:30:53\",\"2023-02-05T06:46:41\",\"2023-02-05T06:51:13\",\"2023-02-05T07:00:22\",\"2023-02-05T18:38:41\",\"2023-02-05T18:55:32\",\"2023-02-05T19:02:59\",\"2023-02-05T19:17:39\",\"2023-02-06T09:08:49\",\"2023-02-06T09:15:01\",\"2023-02-06T09:30:07\",\"2023-02-06T09:41:05\",\"2023-02-06T09:56:40\",\"2023-02-06T10:03:46\",\"2023-02-06T10:50:40\",\"2023-02-06T11:06:03\",\"2023-02-06T11:16:04\",\"2023-02-06T11:23:29\",\"2023-02-07T08:57:48\",\"2023-02-08T10:36:59\",\"2023-02-08T10:45:15\",\"2023-02-08T10:46:51\",\"2023-02-08T14:44:30\",\"2023-02-08T14:58:01\",\"2023-02-08T15:12:18\",\"2023-02-08T19:12:43\",\"2023-02-08T19:24:59\",\"2023-02-08T19:59:27\",\"2023-02-09T09:31:58\",\"2023-02-09T09:42:52\",\"2023-02-09T09:44:01\",\"2023-02-09T09:50:32\",\"2023-02-09T10:01:41\",\"2023-02-09T10:15:26\",\"2023-02-09T10:22:52\",\"2023-02-09T11:26:02\",\"2023-02-09T11:51:18\",\"2023-02-10T06:59:35\",\"2023-02-10T07:06:06\",\"2023-02-10T07:09:40\",\"2023-02-10T07:18:21\",\"2023-02-10T07:24:28\",\"2023-02-10T07:41:40\",\"2023-02-11T09:23:39\",\"2023-02-11T09:36:43\",\"2023-02-11T09:45:21\",\"2023-04-01T08:10:58\",\"2023-04-01T11:00:56\",\"2023-04-29T16:57:14\",\"2023-04-29T17:06:29\",\"2023-04-29T17:19:38\",\"2023-06-03T16:32:53\",\"2023-06-03T16:33:17\",\"2023-06-03T16:47:54\",\"2023-09-05T11:07:37\",\"2023-09-06T09:17:00\",\"2023-09-06T09:24:13\",\"2023-09-07T08:28:33\",\"2023-09-12T14:50:14\",\"2023-10-24T13:54:40\",\"2023-12-10T18:30:46\",\"2023-12-10T18:33:29\",\"2023-12-10T18:45:58\",\"2024-01-01T20:02:00\",\"2024-01-01T21:00:30\",\"2024-01-05T19:40:42\",\"2024-01-09T10:15:16\",\"2024-01-17T14:35:12\",\"2024-01-17T14:54:14\",\"2024-09-18T18:17:45\",\"2024-09-18T18:34:03\",\"2024-09-18T18:54:53\",\"2024-09-18T19:01:18\",\"2024-09-18T19:10:34\",\"2024-09-18T19:26:03\",\"2024-09-18T19:32:38\",\"2024-09-18T19:43:50\",\"2024-09-18T20:03:34\",\"2024-09-20T20:05:06\",\"2024-09-20T20:18:40\",\"2024-09-20T20:24:57\",\"2024-09-20T20:29:07\",\"2024-09-20T20:41:25\",\"2024-09-20T20:53:46\",\"2024-09-20T21:09:09\",\"2024-09-26T21:38:41\",\"2024-09-26T21:44:49\",\"2024-09-26T22:02:32\",\"2024-09-28T20:17:47\",\"2024-09-28T20:29:14\",\"2024-09-28T20:38:06\",\"2024-10-12T16:53:26\",\"2024-10-12T17:04:19\",\"2024-10-12T17:11:13\"],\"y\":[669.0,646.5,650.0,601.75,587.0,573.2,572.2,537.8,551.6,559.2,573.4,567.2,590.0,602.8,613.6,608.4,607.0,624.4,648.2,669.6,666.4,695.2,706.4,717.8,727.2,746.8,744.2,740.6,725.4,719.8,727.8,730.8,733.4,720.8,723.2,703.0,706.4,706.4,726.0,718.2,733.8,735.6,741.4,759.2,749.8,734.2,714.6,714.4,706.4,743.4,765.4,787.8,789.6,782.8,752.0,752.6,745.8,743.0,751.8,780.2,781.4,790.4,789.8,789.0,777.4,769.2,774.2,768.8,757.0,761.8,779.4,782.6,803.0,818.0,825.4,827.2,830.2,820.8,813.2,808.2,821.0,816.0,825.2,825.8,824.8,800.0,797.0,789.4,793.8,784.8,779.0,784.8,779.4,777.6,775.0,776.2,766.0,767.0,766.2,743.0,745.2,764.4,764.4,765.0,797.6,793.6,762.4,757.6,757.6,747.6,735.2,742.2,744.0,739.2,730.4,748.2,754.2,749.6,748.0,752.2,742.0,729.8,718.8,713.6,714.0,703.6,704.6,713.4,714.8,710.4,726.4,728.4,728.6,723.4,725.2,716.4,720.0,721.8,730.4,738.4,734.8,726.2,724.0,719.0,710.8,718.8,718.8,708.0,706.4,704.8,704.6,704.0,718.2,721.2,726.0,726.2,733.6,728.8,729.0,723.0,721.0,724.2,726.0,730.2,734.6,731.8,723.4,727.4,721.8,727.6,729.4,732.4,730.4,737.6,729.8,739.2,740.4,739.2,733.2,742.0,732.0,730.8,729.4,730.8,744.4,747.8,741.8,740.4,735.6,717.0,711.8,714.4,710.6,638.8,630.6,626.6,632.0,630.6,630.4,558.8,558.4,490.0,421.6,488.4,564.4,514.0,581.6,659.6,628.0,635.8,654.8,633.8,612.8,711.0,708.2,807.6,839.6,914.8,877.2,921.6,896.8,926.2,910.0,930.8,922.6,928.4,926.4,934.0,930.2,925.0,940.2,931.8,915.0,940.0,933.6,903.6,937.8,934.6],\"type\":\"scatter\"}],                        {\"template\":{\"data\":{\"histogram2dcontour\":[{\"type\":\"histogram2dcontour\",\"colorbar\":{\"outlinewidth\":0,\"ticks\":\"\"},\"colorscale\":[[0.0,\"#0d0887\"],[0.1111111111111111,\"#46039f\"],[0.2222222222222222,\"#7201a8\"],[0.3333333333333333,\"#9c179e\"],[0.4444444444444444,\"#bd3786\"],[0.5555555555555556,\"#d8576b\"],[0.6666666666666666,\"#ed7953\"],[0.7777777777777778,\"#fb9f3a\"],[0.8888888888888888,\"#fdca26\"],[1.0,\"#f0f921\"]]}],\"choropleth\":[{\"type\":\"choropleth\",\"colorbar\":{\"outlinewidth\":0,\"ticks\":\"\"}}],\"histogram2d\":[{\"type\":\"histogram2d\",\"colorbar\":{\"outlinewidth\":0,\"ticks\":\"\"},\"colorscale\":[[0.0,\"#0d0887\"],[0.1111111111111111,\"#46039f\"],[0.2222222222222222,\"#7201a8\"],[0.3333333333333333,\"#9c179e\"],[0.4444444444444444,\"#bd3786\"],[0.5555555555555556,\"#d8576b\"],[0.6666666666666666,\"#ed7953\"],[0.7777777777777778,\"#fb9f3a\"],[0.8888888888888888,\"#fdca26\"],[1.0,\"#f0f921\"]]}],\"heatmap\":[{\"type\":\"heatmap\",\"colorbar\":{\"outlinewidth\":0,\"ticks\":\"\"},\"colorscale\":[[0.0,\"#0d0887\"],[0.1111111111111111,\"#46039f\"],[0.2222222222222222,\"#7201a8\"],[0.3333333333333333,\"#9c179e\"],[0.4444444444444444,\"#bd3786\"],[0.5555555555555556,\"#d8576b\"],[0.6666666666666666,\"#ed7953\"],[0.7777777777777778,\"#fb9f3a\"],[0.8888888888888888,\"#fdca26\"],[1.0,\"#f0f921\"]]}],\"heatmapgl\":[{\"type\":\"heatmapgl\",\"colorbar\":{\"outlinewidth\":0,\"ticks\":\"\"},\"colorscale\":[[0.0,\"#0d0887\"],[0.1111111111111111,\"#46039f\"],[0.2222222222222222,\"#7201a8\"],[0.3333333333333333,\"#9c179e\"],[0.4444444444444444,\"#bd3786\"],[0.5555555555555556,\"#d8576b\"],[0.6666666666666666,\"#ed7953\"],[0.7777777777777778,\"#fb9f3a\"],[0.8888888888888888,\"#fdca26\"],[1.0,\"#f0f921\"]]}],\"contourcarpet\":[{\"type\":\"contourcarpet\",\"colorbar\":{\"outlinewidth\":0,\"ticks\":\"\"}}],\"contour\":[{\"type\":\"contour\",\"colorbar\":{\"outlinewidth\":0,\"ticks\":\"\"},\"colorscale\":[[0.0,\"#0d0887\"],[0.1111111111111111,\"#46039f\"],[0.2222222222222222,\"#7201a8\"],[0.3333333333333333,\"#9c179e\"],[0.4444444444444444,\"#bd3786\"],[0.5555555555555556,\"#d8576b\"],[0.6666666666666666,\"#ed7953\"],[0.7777777777777778,\"#fb9f3a\"],[0.8888888888888888,\"#fdca26\"],[1.0,\"#f0f921\"]]}],\"surface\":[{\"type\":\"surface\",\"colorbar\":{\"outlinewidth\":0,\"ticks\":\"\"},\"colorscale\":[[0.0,\"#0d0887\"],[0.1111111111111111,\"#46039f\"],[0.2222222222222222,\"#7201a8\"],[0.3333333333333333,\"#9c179e\"],[0.4444444444444444,\"#bd3786\"],[0.5555555555555556,\"#d8576b\"],[0.6666666666666666,\"#ed7953\"],[0.7777777777777778,\"#fb9f3a\"],[0.8888888888888888,\"#fdca26\"],[1.0,\"#f0f921\"]]}],\"mesh3d\":[{\"type\":\"mesh3d\",\"colorbar\":{\"outlinewidth\":0,\"ticks\":\"\"}}],\"scatter\":[{\"fillpattern\":{\"fillmode\":\"overlay\",\"size\":10,\"solidity\":0.2},\"type\":\"scatter\"}],\"parcoords\":[{\"type\":\"parcoords\",\"line\":{\"colorbar\":{\"outlinewidth\":0,\"ticks\":\"\"}}}],\"scatterpolargl\":[{\"type\":\"scatterpolargl\",\"marker\":{\"colorbar\":{\"outlinewidth\":0,\"ticks\":\"\"}}}],\"bar\":[{\"error_x\":{\"color\":\"#2a3f5f\"},\"error_y\":{\"color\":\"#2a3f5f\"},\"marker\":{\"line\":{\"color\":\"#E5ECF6\",\"width\":0.5},\"pattern\":{\"fillmode\":\"overlay\",\"size\":10,\"solidity\":0.2}},\"type\":\"bar\"}],\"scattergeo\":[{\"type\":\"scattergeo\",\"marker\":{\"colorbar\":{\"outlinewidth\":0,\"ticks\":\"\"}}}],\"scatterpolar\":[{\"type\":\"scatterpolar\",\"marker\":{\"colorbar\":{\"outlinewidth\":0,\"ticks\":\"\"}}}],\"histogram\":[{\"marker\":{\"pattern\":{\"fillmode\":\"overlay\",\"size\":10,\"solidity\":0.2}},\"type\":\"histogram\"}],\"scattergl\":[{\"type\":\"scattergl\",\"marker\":{\"colorbar\":{\"outlinewidth\":0,\"ticks\":\"\"}}}],\"scatter3d\":[{\"type\":\"scatter3d\",\"line\":{\"colorbar\":{\"outlinewidth\":0,\"ticks\":\"\"}},\"marker\":{\"colorbar\":{\"outlinewidth\":0,\"ticks\":\"\"}}}],\"scattermapbox\":[{\"type\":\"scattermapbox\",\"marker\":{\"colorbar\":{\"outlinewidth\":0,\"ticks\":\"\"}}}],\"scatterternary\":[{\"type\":\"scatterternary\",\"marker\":{\"colorbar\":{\"outlinewidth\":0,\"ticks\":\"\"}}}],\"scattercarpet\":[{\"type\":\"scattercarpet\",\"marker\":{\"colorbar\":{\"outlinewidth\":0,\"ticks\":\"\"}}}],\"carpet\":[{\"aaxis\":{\"endlinecolor\":\"#2a3f5f\",\"gridcolor\":\"white\",\"linecolor\":\"white\",\"minorgridcolor\":\"white\",\"startlinecolor\":\"#2a3f5f\"},\"baxis\":{\"endlinecolor\":\"#2a3f5f\",\"gridcolor\":\"white\",\"linecolor\":\"white\",\"minorgridcolor\":\"white\",\"startlinecolor\":\"#2a3f5f\"},\"type\":\"carpet\"}],\"table\":[{\"cells\":{\"fill\":{\"color\":\"#EBF0F8\"},\"line\":{\"color\":\"white\"}},\"header\":{\"fill\":{\"color\":\"#C8D4E3\"},\"line\":{\"color\":\"white\"}},\"type\":\"table\"}],\"barpolar\":[{\"marker\":{\"line\":{\"color\":\"#E5ECF6\",\"width\":0.5},\"pattern\":{\"fillmode\":\"overlay\",\"size\":10,\"solidity\":0.2}},\"type\":\"barpolar\"}],\"pie\":[{\"automargin\":true,\"type\":\"pie\"}]},\"layout\":{\"autotypenumbers\":\"strict\",\"colorway\":[\"#636efa\",\"#EF553B\",\"#00cc96\",\"#ab63fa\",\"#FFA15A\",\"#19d3f3\",\"#FF6692\",\"#B6E880\",\"#FF97FF\",\"#FECB52\"],\"font\":{\"color\":\"#2a3f5f\"},\"hovermode\":\"closest\",\"hoverlabel\":{\"align\":\"left\"},\"paper_bgcolor\":\"white\",\"plot_bgcolor\":\"#E5ECF6\",\"polar\":{\"bgcolor\":\"#E5ECF6\",\"angularaxis\":{\"gridcolor\":\"white\",\"linecolor\":\"white\",\"ticks\":\"\"},\"radialaxis\":{\"gridcolor\":\"white\",\"linecolor\":\"white\",\"ticks\":\"\"}},\"ternary\":{\"bgcolor\":\"#E5ECF6\",\"aaxis\":{\"gridcolor\":\"white\",\"linecolor\":\"white\",\"ticks\":\"\"},\"baxis\":{\"gridcolor\":\"white\",\"linecolor\":\"white\",\"ticks\":\"\"},\"caxis\":{\"gridcolor\":\"white\",\"linecolor\":\"white\",\"ticks\":\"\"}},\"coloraxis\":{\"colorbar\":{\"outlinewidth\":0,\"ticks\":\"\"}},\"colorscale\":{\"sequential\":[[0.0,\"#0d0887\"],[0.1111111111111111,\"#46039f\"],[0.2222222222222222,\"#7201a8\"],[0.3333333333333333,\"#9c179e\"],[0.4444444444444444,\"#bd3786\"],[0.5555555555555556,\"#d8576b\"],[0.6666666666666666,\"#ed7953\"],[0.7777777777777778,\"#fb9f3a\"],[0.8888888888888888,\"#fdca26\"],[1.0,\"#f0f921\"]],\"sequentialminus\":[[0.0,\"#0d0887\"],[0.1111111111111111,\"#46039f\"],[0.2222222222222222,\"#7201a8\"],[0.3333333333333333,\"#9c179e\"],[0.4444444444444444,\"#bd3786\"],[0.5555555555555556,\"#d8576b\"],[0.6666666666666666,\"#ed7953\"],[0.7777777777777778,\"#fb9f3a\"],[0.8888888888888888,\"#fdca26\"],[1.0,\"#f0f921\"]],\"diverging\":[[0,\"#8e0152\"],[0.1,\"#c51b7d\"],[0.2,\"#de77ae\"],[0.3,\"#f1b6da\"],[0.4,\"#fde0ef\"],[0.5,\"#f7f7f7\"],[0.6,\"#e6f5d0\"],[0.7,\"#b8e186\"],[0.8,\"#7fbc41\"],[0.9,\"#4d9221\"],[1,\"#276419\"]]},\"xaxis\":{\"gridcolor\":\"white\",\"linecolor\":\"white\",\"ticks\":\"\",\"title\":{\"standoff\":15},\"zerolinecolor\":\"white\",\"automargin\":true,\"zerolinewidth\":2},\"yaxis\":{\"gridcolor\":\"white\",\"linecolor\":\"white\",\"ticks\":\"\",\"title\":{\"standoff\":15},\"zerolinecolor\":\"white\",\"automargin\":true,\"zerolinewidth\":2},\"scene\":{\"xaxis\":{\"backgroundcolor\":\"#E5ECF6\",\"gridcolor\":\"white\",\"linecolor\":\"white\",\"showbackground\":true,\"ticks\":\"\",\"zerolinecolor\":\"white\",\"gridwidth\":2},\"yaxis\":{\"backgroundcolor\":\"#E5ECF6\",\"gridcolor\":\"white\",\"linecolor\":\"white\",\"showbackground\":true,\"ticks\":\"\",\"zerolinecolor\":\"white\",\"gridwidth\":2},\"zaxis\":{\"backgroundcolor\":\"#E5ECF6\",\"gridcolor\":\"white\",\"linecolor\":\"white\",\"showbackground\":true,\"ticks\":\"\",\"zerolinecolor\":\"white\",\"gridwidth\":2}},\"shapedefaults\":{\"line\":{\"color\":\"#2a3f5f\"}},\"annotationdefaults\":{\"arrowcolor\":\"#2a3f5f\",\"arrowhead\":0,\"arrowwidth\":1},\"geo\":{\"bgcolor\":\"white\",\"landcolor\":\"#E5ECF6\",\"subunitcolor\":\"white\",\"showland\":true,\"showlakes\":true,\"lakecolor\":\"white\"},\"title\":{\"x\":0.05},\"mapbox\":{\"style\":\"light\"}}},\"title\":{\"text\":\"Rapid Rating Trends Over Time (Smoothed)\"},\"xaxis\":{\"rangeslider\":{\"visible\":true},\"title\":{\"text\":\"Date\"},\"type\":\"date\",\"rangeselector\":{\"buttons\":[{\"count\":1,\"label\":\"1m\",\"step\":\"month\",\"stepmode\":\"backward\"},{\"count\":6,\"label\":\"6m\",\"step\":\"month\",\"stepmode\":\"backward\"},{\"count\":1,\"label\":\"1y\",\"step\":\"year\",\"stepmode\":\"backward\"},{\"step\":\"all\"}]},\"showspikes\":true,\"spikecolor\":\"purple\",\"spikesnap\":\"cursor\",\"spikemode\":\"across\"},\"yaxis\":{\"title\":{\"text\":\"Rating\"},\"showspikes\":true,\"spikecolor\":\"orange\",\"spikethickness\":2},\"plot_bgcolor\":\"rgba(255, 255, 255, 0.8)\",\"paper_bgcolor\":\"rgba(255, 255, 255, 0.8)\"},                        {\"responsive\": true}                    ).then(function(){\n",
       "                            \n",
       "var gd = document.getElementById('fd0a51ad-885b-4c42-a493-9276a79eb253');\n",
       "var x = new MutationObserver(function (mutations, observer) {{\n",
       "        var display = window.getComputedStyle(gd).display;\n",
       "        if (!display || display === 'none') {{\n",
       "            console.log([gd, 'removed!']);\n",
       "            Plotly.purge(gd);\n",
       "            observer.disconnect();\n",
       "        }}\n",
       "}});\n",
       "\n",
       "// Listen for the removal of the full notebook cells\n",
       "var notebookContainer = gd.closest('#notebook-container');\n",
       "if (notebookContainer) {{\n",
       "    x.observe(notebookContainer, {childList: true});\n",
       "}}\n",
       "\n",
       "// Listen for the clearing of the current output cell\n",
       "var outputEl = gd.closest('.output');\n",
       "if (outputEl) {{\n",
       "    x.observe(outputEl, {childList: true});\n",
       "}}\n",
       "\n",
       "                        })                };                });            </script>        </div>"
      ]
     },
     "metadata": {},
     "output_type": "display_data"
    }
   ],
   "source": [
    "import pandas as pd\n",
    "\n",
    "def prepare_trend_data(data, username, window_size=5):\n",
    "    \"\"\"\n",
    "    Prepare data for trend analysis by extracting relevant columns and applying smoothing.\n",
    "    \"\"\"\n",
    "    # Convert end time to datetime\n",
    "    data['End Time'] = pd.to_datetime(data['End Time'])\n",
    "\n",
    "    # Add player rating column\n",
    "    data['Player Rating'] = data.apply(\n",
    "        lambda row: row['White Rating'] if row['White Player'] == username else row['Black Rating'], axis=1\n",
    "    )\n",
    "\n",
    "    # Add opponent rating column\n",
    "    data['Opponent Rating'] = data.apply(\n",
    "        lambda row: row['Black Rating'] if row['White Player'] == username else row['White Rating'], axis=1\n",
    "    )\n",
    "\n",
    "    # Sort by time\n",
    "    data = data.sort_values('End Time')\n",
    "\n",
    "    # Apply moving average to smooth ratings\n",
    "    data['Smoothed Rating'] = data.groupby('Time Class')['Player Rating'].transform(\n",
    "        lambda x: x.rolling(window=window_size, min_periods=1).mean()\n",
    "    )\n",
    "\n",
    "    return data[['End Time', 'Time Class', 'Player Rating', 'Smoothed Rating', 'Opponent Rating']]\n",
    "\n",
    "def plot_time_control(trend_data, time_class):\n",
    "    \"\"\"\n",
    "    Plot smoothed rating trends for a specific time control using Plotly.\n",
    "    \"\"\"\n",
    "    subset = trend_data[trend_data['Time Class'] == time_class]\n",
    "\n",
    "    # Debugging: Check if subset has data\n",
    "    if subset.empty:\n",
    "        print(f\"No data found for time class: {time_class}\")\n",
    "        return\n",
    "\n",
    "    # Create a Plotly figure\n",
    "    fig = go.Figure()\n",
    "\n",
    "    # Add the smoothed rating as a line plot with markers\n",
    "    fig.add_trace(\n",
    "        go.Scatter(\n",
    "            x=subset['End Time'],\n",
    "            y=subset['Smoothed Rating'],\n",
    "            mode='lines+markers',  # Lines and markers for individual points\n",
    "            marker=dict(color='skyblue', size=5),\n",
    "            hovertemplate='<br>'.join([\n",
    "                'Rating: %{y}',\n",
    "                'Date: %{x}'\n",
    "            ]),\n",
    "            name=f\"{time_class.capitalize()} Rating\"\n",
    "        )\n",
    "    )\n",
    "\n",
    "    # Update layout with title and labels\n",
    "    fig.update_layout(\n",
    "        title_text=f\"{time_class.capitalize()} Rating Trends Over Time (Smoothed)\",\n",
    "        xaxis=dict(\n",
    "            title='Date',\n",
    "            type='date',\n",
    "            rangeslider=dict(visible=True),\n",
    "            rangeselector=dict(\n",
    "                buttons=list([\n",
    "                    dict(count=1, label=\"1m\", step=\"month\", stepmode=\"backward\"),\n",
    "                    dict(count=6, label=\"6m\", step=\"month\", stepmode=\"backward\"),\n",
    "                    dict(count=1, label=\"1y\", step=\"year\", stepmode=\"backward\"),\n",
    "                    dict(step=\"all\")\n",
    "                ])\n",
    "            ),\n",
    "            showspikes=True,\n",
    "            spikecolor=\"purple\",\n",
    "            spikesnap=\"cursor\",\n",
    "            spikemode=\"across\"\n",
    "        ),\n",
    "        yaxis=dict(\n",
    "            title='Rating',\n",
    "            showspikes=True,\n",
    "            spikecolor=\"orange\",\n",
    "            spikethickness=2\n",
    "        ),\n",
    "        plot_bgcolor='rgba(255, 255, 255, 0.8)',\n",
    "        paper_bgcolor='rgba(255, 255, 255, 0.8)'\n",
    "    )\n",
    "\n",
    "    # Show the plot\n",
    "    fig.show()\n",
    "\n",
    "# Main code\n",
    "# Assuming 'data' is already loaded with your dataset and 'username' is provided\n",
    "# Prepare trend data with smoothing (less smoothing with window size 5)\n",
    "trend_data = prepare_trend_data(data, username, window_size=5)\n",
    "\n",
    "# Plot rating trends for each time control\n",
    "plot_time_control(trend_data, \"Blitz\")\n",
    "plot_time_control(trend_data, \"Bullet\")\n",
    "plot_time_control(trend_data, \"Rapid\")\n"
   ]
  },
  {
   "cell_type": "code",
   "execution_count": null,
   "metadata": {},
   "outputs": [
    {
     "data": {
      "text/html": [
       "<div>\n",
       "<style scoped>\n",
       "    .dataframe tbody tr th:only-of-type {\n",
       "        vertical-align: middle;\n",
       "    }\n",
       "\n",
       "    .dataframe tbody tr th {\n",
       "        vertical-align: top;\n",
       "    }\n",
       "\n",
       "    .dataframe thead th {\n",
       "        text-align: right;\n",
       "    }\n",
       "</style>\n",
       "<table border=\"1\" class=\"dataframe\">\n",
       "  <thead>\n",
       "    <tr style=\"text-align: right;\">\n",
       "      <th></th>\n",
       "      <th>time_of_day</th>\n",
       "      <th>matches_played</th>\n",
       "      <th>win_rate</th>\n",
       "    </tr>\n",
       "  </thead>\n",
       "  <tbody>\n",
       "    <tr>\n",
       "      <th>1</th>\n",
       "      <td>Morning</td>\n",
       "      <td>657</td>\n",
       "      <td>49.92%</td>\n",
       "    </tr>\n",
       "    <tr>\n",
       "      <th>3</th>\n",
       "      <td>Noon</td>\n",
       "      <td>810</td>\n",
       "      <td>54.44%</td>\n",
       "    </tr>\n",
       "    <tr>\n",
       "      <th>0</th>\n",
       "      <td>Evening</td>\n",
       "      <td>513</td>\n",
       "      <td>57.50%</td>\n",
       "    </tr>\n",
       "    <tr>\n",
       "      <th>2</th>\n",
       "      <td>Night</td>\n",
       "      <td>115</td>\n",
       "      <td>50.43%</td>\n",
       "    </tr>\n",
       "  </tbody>\n",
       "</table>\n",
       "</div>"
      ],
      "text/plain": [
       "  time_of_day  matches_played win_rate\n",
       "1     Morning             657   49.92%\n",
       "3        Noon             810   54.44%\n",
       "0     Evening             513   57.50%\n",
       "2       Night             115   50.43%"
      ]
     },
     "execution_count": 78,
     "metadata": {},
     "output_type": "execute_result"
    }
   ],
   "source": [
    "# Extract the hour from 'End Time'\n",
    "data['hour'] = data['End Time'].dt.hour\n",
    "\n",
    "# Categorize hours into time zones\n",
    "def categorize_time(hour):\n",
    "    if 5 <= hour < 12:\n",
    "        return 'Morning'\n",
    "    elif 12 <= hour < 17:\n",
    "        return 'Noon'\n",
    "    elif 17 <= hour < 21:\n",
    "        return 'Evening'\n",
    "    else:\n",
    "        return 'Night'\n",
    "\n",
    "data['time_of_day'] = data['hour'].apply(categorize_time)\n",
    "\n",
    "# Determine if the game was a win\n",
    "data['is_win'] = data['Result'].str.contains('Win', case=False)\n",
    "\n",
    "# Group by time of day and calculate win rate and match count\n",
    "stats_by_time_of_day = data.groupby('time_of_day').agg(\n",
    "    matches_played=('is_win', 'size'),\n",
    "    win_rate=('is_win', 'mean')\n",
    ").reset_index()\n",
    "\n",
    "# Define the custom sort order\n",
    "time_of_day_order = ['Morning', 'Noon', 'Evening', 'Night']\n",
    "stats_by_time_of_day['time_of_day'] = pd.Categorical(\n",
    "    stats_by_time_of_day['time_of_day'], \n",
    "    categories=time_of_day_order, \n",
    "    ordered=True\n",
    ")\n",
    "\n",
    "# Sort the DataFrame\n",
    "stats_by_time_of_day = stats_by_time_of_day.sort_values('time_of_day')\n",
    "\n",
    "# Display the results directly in the notebook\n",
    "stats_by_time_of_day['win_rate'] = stats_by_time_of_day['win_rate'].apply(lambda x: f\"{x:.2%}\")\n",
    "stats_by_time_of_day\n"
   ]
  }
 ],
 "metadata": {
  "kernelspec": {
   "display_name": "Python 3",
   "language": "python",
   "name": "python3"
  },
  "language_info": {
   "codemirror_mode": {
    "name": "ipython",
    "version": 3
   },
   "file_extension": ".py",
   "mimetype": "text/x-python",
   "name": "python",
   "nbconvert_exporter": "python",
   "pygments_lexer": "ipython3",
   "version": "3.12.1"
  }
 },
 "nbformat": 4,
 "nbformat_minor": 2
}
